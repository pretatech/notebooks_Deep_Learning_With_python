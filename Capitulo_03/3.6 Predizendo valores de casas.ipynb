{
 "cells": [
  {
   "cell_type": "markdown",
   "metadata": {},
   "source": [
    "# Deep Learning with Python\n",
    "3.6 Predicting house prices: a regression example"
   ]
  },
  {
   "cell_type": "markdown",
   "metadata": {},
   "source": [
    "Antes de mais nada os notebooks aqui mostrado tiveram como base/foram retirados dos seguintes repositórios: \n",
    " > https://github.com/fchollet/deep-learning-with-python-notebooks \n",
    " \n",
    " \n",
    " > https://github.com/cdfmlr/Deep-Learning-with-Python-Notebooks\n",
    " \n",
    " Sugiro fortemente que consultem os códigos originais e em caso de dúvida podem me contatar para conversarmos. "
   ]
  },
  {
   "cell_type": "markdown",
   "metadata": {},
   "source": [
    "Nos primeiros dois exemplos, estamos resolvendo problemas de classificação (prevendo rótulos discretos, ou seja, tinhamos opções de saída bem definidas).\n",
    "\n",
    "Agora nós vamos trabalhar um exemplo de regressão logistica, no qual a previsão é de valores contínuos. \n",
    "\n",
    "O conjunto de dados utilizado aqui é o Boston Housing. \n",
    "Usamos o conjunto de dados do Boston Housing para prever os preços das moradias no subúrbio de Boston em meados da década de 1970. O conjunto de dados contém alguns dados daquele local na época, como leis criminais e taxas de impostos.\n",
    "\n",
    "Em comparação com nossos dois primeiros conjuntos de dados de classificação, este conjunto de dados é bastante pequeno, apenas 506 dados. Sendo que 404 estão no conjunto de treinamento e 102 não estão no conjunto de teste. A magnitude dos dados de entrada para cada recurso nos dados não é a mesma.\n",
    "\n",
    "Para saber mais informações sobre o conjunto de dados basta olhar aqui: \n",
    "https://www.kaggle.com/c/boston-housing\n",
    "\n",
    "Vamos importar os dados primeiro (este conjunto de dados também está incluído no Keras):"
   ]
  },
  {
   "cell_type": "code",
   "execution_count": 1,
   "metadata": {},
   "outputs": [
    {
     "name": "stdout",
     "output_type": "stream",
     "text": [
      "(404, 13) (102, 13)\n"
     ]
    }
   ],
   "source": [
    "from tensorflow.keras.datasets import boston_housing\n",
    "\n",
    "(train_data, train_targets), (test_data, test_targets) = boston_housing.load_data()\n",
    "\n",
    "print(train_data.shape, test_data.shape)"
   ]
  },
  {
   "cell_type": "code",
   "execution_count": 2,
   "metadata": {},
   "outputs": [
    {
     "data": {
      "text/plain": [
       "array([[1.23247e+00, 0.00000e+00, 8.14000e+00, 0.00000e+00, 5.38000e-01,\n",
       "        6.14200e+00, 9.17000e+01, 3.97690e+00, 4.00000e+00, 3.07000e+02,\n",
       "        2.10000e+01, 3.96900e+02, 1.87200e+01],\n",
       "       [2.17700e-02, 8.25000e+01, 2.03000e+00, 0.00000e+00, 4.15000e-01,\n",
       "        7.61000e+00, 1.57000e+01, 6.27000e+00, 2.00000e+00, 3.48000e+02,\n",
       "        1.47000e+01, 3.95380e+02, 3.11000e+00],\n",
       "       [4.89822e+00, 0.00000e+00, 1.81000e+01, 0.00000e+00, 6.31000e-01,\n",
       "        4.97000e+00, 1.00000e+02, 1.33250e+00, 2.40000e+01, 6.66000e+02,\n",
       "        2.02000e+01, 3.75520e+02, 3.26000e+00]])"
      ]
     },
     "execution_count": 2,
     "metadata": {},
     "output_type": "execute_result"
    }
   ],
   "source": [
    "train_data[0:3]"
   ]
  },
  {
   "cell_type": "code",
   "execution_count": 3,
   "metadata": {},
   "outputs": [
    {
     "data": {
      "text/plain": [
       "array([15.2, 42.3, 50. ])"
      ]
     },
     "execution_count": 3,
     "metadata": {},
     "output_type": "execute_result"
    }
   ],
   "source": [
    "train_targets[0:3]"
   ]
  },
  {
   "cell_type": "markdown",
   "metadata": {},
   "source": [
    "A unidade de dados nos destinos é de milhares de dólares americanos. Dado a epoca desses núrmero é compreensível o preço da casa relativamente barato (então não se empolguem, hoje em dia os valores são MUITO diferentes ok?):"
   ]
  },
  {
   "cell_type": "code",
   "execution_count": 4,
   "metadata": {},
   "outputs": [
    {
     "data": {
      "text/plain": [
       "(5.0, 22.395049504950496, 50.0)"
      ]
     },
     "execution_count": 4,
     "metadata": {},
     "output_type": "execute_result"
    }
   ],
   "source": [
    "min(train_targets), sum(train_targets)/len(train_targets), max(train_targets)\n"
   ]
  },
  {
   "cell_type": "code",
   "execution_count": 5,
   "metadata": {},
   "outputs": [
    {
     "data": {
      "image/png": "[encoded data removed]",
      "text/plain": [
       "<Figure size 432x288 with 1 Axes>"
      ]
     },
     "metadata": {
      "needs_background": "light"
     },
     "output_type": "display_data"
    }
   ],
   "source": [
    "import matplotlib.pyplot as plt\n",
    "\n",
    "x = range(len(train_targets))\n",
    "y = train_targets\n",
    "\n",
    "plt.plot(x, y, 'o', label='data')\n",
    "plt.title('House Prices')\n",
    "plt.xlabel('train_targets')\n",
    "plt.ylabel('prices')\n",
    "plt.legend()\n",
    "plt.show()"
   ]
  },
  {
   "cell_type": "markdown",
   "metadata": {},
   "source": [
    "# Preparação de dados\n",
    "A faixa de valores de dados que fornecemos à rede neural não deve ser muito diferente. Embora a rede neural possa lidar com dados com grandes lacunas, ela não é nada boa. Para dados com uma lacuna tão grande, geralmente padronizamos cada recurso (normalização por recurso).\n",
    "\n",
    "A operação específica é subtrair o valor médio da coluna para cada recurso (uma coluna da matriz de dados de entrada) e, em seguida, dividir por seu desvio padrão. Após fazer isso, os dados se tornarão centralizados em 0 e terão um desvio padrão (o desvio padrão é 1).\n",
    "\n",
    "Isso pode ser feito facilmente com Numpy:"
   ]
  },
  {
   "cell_type": "code",
   "execution_count": 6,
   "metadata": {},
   "outputs": [],
   "source": [
    "mean = train_data.mean(axis=0)\n",
    "std = train_data.std(axis=0)\n",
    "\n",
    "train_data -= mean\n",
    "train_data /= std\n",
    "\n",
    "test_data -= mean\n",
    "test_data /= std"
   ]
  },
  {
   "cell_type": "markdown",
   "metadata": {},
   "source": [
    "Preste atenção, o processamento do conjunto de teste usa a média e o desvio padrão do conjunto de treinamento.\n",
    "\n",
    "Depois de processar os dados, você pode construir a rede e treinar (os rótulos não precisam ser processados, o que é mais conveniente do que a classificação)\n",
    "\n",
    "## Construa a rede\n",
    "\n",
    "Quanto menos dados, mais fácil de ocorre overfitting. Para desacelerar o overfitting, você pode usar uma rede menor.\n",
    "\n",
    "Por exemplo, neste problema, usamos uma rede com apenas duas camadas ocultas, cada uma com 64 unidades:"
   ]
  },
  {
   "cell_type": "code",
   "execution_count": 7,
   "metadata": {},
   "outputs": [],
   "source": [
    "from tensorflow.keras import models\n",
    "from tensorflow.keras import layers\n",
    "\n",
    "def build_model():\n",
    "    model = models.Sequential()\n",
    "    model.add(layers.Dense(64, activation=\"relu\", input_shape=(train_data.shape[1], )))\n",
    "    model.add(layers.Dense(64, activation=\"relu\"))\n",
    "    model.add(layers.Dense(1))\n",
    "    \n",
    "    model.compile(optimizer=\"rmsprop\", loss=\"mse\", metrics=[\"mae\"])\n",
    "    \n",
    "    return model"
   ]
  },
  {
   "cell_type": "markdown",
   "metadata": {},
   "source": [
    "A última camada da rede possui apenas uma unidade e nenhuma função de ativação (portanto, é uma camada linear). Esta camada é nossa configuração padrão para a última etapa do problema de regressão de valor único contínuo.\n",
    "\n",
    "Se uma função de ativação for adicionada, o valor de saída terá um limite de faixa, por exemplo, sigmóide irá limitar o valor a [0, 1]. Sem a função de ativação, o valor de saída desta camada linear é ilimitado.\n",
    "\n",
    "Quando compilamos o modelo, a função de perda usada é mse (erro quadrático médio). Esta função retorna o quadrado da diferença entre o valor de destino previsto e verdadeiro. Essa perda é freqüentemente usada para problemas de regressão.\n",
    "\n",
    "Em seguida, também usamos um indicador de treinamento que não foi usado antes do mae (erro médio absoluto), que é o valor absoluto da diferença entre a previsão e o alvo real."
   ]
  },
  {
   "cell_type": "markdown",
   "metadata": {},
   "source": [
    "# Verificação de ajuste - verificação K-fold\n",
    "Já fizemos isso antes - para avaliar a rede e ajustar os parâmetros da rede (como o número de rodadas de treinamento), dividimos os dados em um conjunto de treinamento e um conjunto de validação. Desta vez, precisamos fazer o mesmo. Mas um problema é que temos poucos dados desta vez, então o conjunto de validação separado é muito pequeno (talvez apenas 100 dados). Nesse caso, dados diferentes selecionados para o conjunto de validação podem ter um grande impacto nos resultados da verificação (ou seja, as diferentes formas de dividir o conjunto de verificação podem causar uma grande variação nos resultados da verificação). Esta situação afetará nossa verificação do modelo.\n",
    "\n",
    "Nessa situação estranha, a prática recomendada é usar a validação cruzada K-fold (validação cruzada K-fold).\n",
    "\n",
    "Para saber mais sobre validação cruzada: https://minerandodados.com.br/validacao-cruzada-aprenda-de-forma-simples-como-usar-essa-tecnica/\n",
    "\n",
    "Com a verificação K-fold, dividimos os dados em K partes (geralmente k = 4 ou 5) e, em seguida, instanciamos K modelos independentes, cada um usando K-1 pedaços de dados para treinar e, em seguida, usamos o restante para verificar , A pontuação de verificação do modelo final usa a média de K peças."
   ]
  },
  {
   "cell_type": "markdown",
   "metadata": {},
   "source": [
    "Implementação do código de verificação K-fold:"
   ]
  },
  {
   "cell_type": "code",
   "execution_count": 11,
   "metadata": {},
   "outputs": [
    {
     "name": "stdout",
     "output_type": "stream",
     "text": [
      "processing fold #0 (1/4)\n",
      "processing fold #1 (2/4)\n",
      "processing fold #2 (3/4)\n",
      "processing fold #3 (4/4)\n"
     ]
    },
    {
     "data": {
      "text/plain": [
       "2.4146433"
      ]
     },
     "execution_count": 11,
     "metadata": {},
     "output_type": "execute_result"
    }
   ],
   "source": [
    "import numpy as np\n",
    "import datetime\n",
    "import tensorflow as tf\n",
    "\n",
    "k = 4\n",
    "num_val_samples = len(train_data) // k\n",
    "num_epochs = 100\n",
    "all_scores = []\n",
    "\n",
    "\n",
    "for i in range(k):\n",
    "    print(f'processing fold #{i} ({i+1}/{k})')\n",
    "    \n",
    "    # Prepare os dados de verificação\n",
    "    val_data = train_data[i * num_val_samples: (i + 1) * num_val_samples]\n",
    "    val_targets = train_targets[i * num_val_samples: (i + 1) * num_val_samples]\n",
    "    \n",
    "    # Prepare os dados de treinamento\n",
    "    partial_train_data = np.concatenate(\n",
    "        [train_data[: i * num_val_samples],\n",
    "         train_data[(i+1) * num_val_samples :]],\n",
    "        axis=0)\n",
    "    partial_train_targets = np.concatenate(\n",
    "        [train_targets[: i * num_val_samples], \n",
    "         train_targets[(i+1) *  num_val_samples :]], \n",
    "        axis=0)\n",
    "    \n",
    "    #Construir e treinar modelos\n",
    "    model = build_model()\n",
    "    model.fit(partial_train_data, partial_train_targets, \n",
    "              epochs=num_epochs, batch_size=1, verbose=0)\n",
    "    \n",
    "    # Modelo de avaliação com conjunto de validação\n",
    "    val_mse, val_mae = model.evaluate(val_data, val_targets, verbose=0)\n",
    "    all_scores.append(val_mae)\n",
    "\n",
    "\n",
    "np.mean(all_scores)\n"
   ]
  },
  {
   "cell_type": "markdown",
   "metadata": {},
   "source": [
    "O que acabou de acontecer foi apenas uma jogada, agora nós mudamos, iteramos 500 rodadas e anotamos os resultados do treinamento:"
   ]
  },
  {
   "cell_type": "code",
   "execution_count": 12,
   "metadata": {},
   "outputs": [
    {
     "name": "stdout",
     "output_type": "stream",
     "text": [
      "processing fold #0 (1/4)\n",
      "processing fold #1 (2/4)\n",
      "processing fold #2 (3/4)\n",
      "processing fold #3 (4/4)\n",
      "Done.\n"
     ]
    }
   ],
   "source": [
    "num_val_samples = len(train_data) // k\n",
    "\n",
    "num_epochs = 500\n",
    "all_mae_histories = []\n",
    "\n",
    "for i in range(k):\n",
    "    print(f'processing fold #{i} ({i+1}/{k})')\n",
    "    \n",
    "    # Prepare os dados de verificação\n",
    "    val_data = train_data[i * num_val_samples: (i + 1) * num_val_samples]\n",
    "    val_targets = train_targets[i * num_val_samples: (i + 1) * num_val_samples]\n",
    "    \n",
    "    # Prepare os dados de treinamento\n",
    "    partial_train_data = np.concatenate(\n",
    "        [train_data[: i * num_val_samples],\n",
    "         train_data[(i+1) * num_val_samples :]],\n",
    "        axis=0)\n",
    "    partial_train_targets = np.concatenate(\n",
    "        [train_targets[: i * num_val_samples], \n",
    "         train_targets[(i+1) *  num_val_samples :]], \n",
    "        axis=0)\n",
    "    \n",
    "    #Construir e treinar modelos\n",
    "    model = build_model()\n",
    "    history = model.fit(partial_train_data, partial_train_targets,\n",
    "                        validation_data=(val_data, val_targets),\n",
    "                        epochs=num_epochs, batch_size=1, verbose=0)\n",
    "\n",
    "    mae_history = history.history['val_mae']\n",
    "    all_mae_histories.append(mae_history)\n",
    "\n",
    "\n",
    "print(\"Done.\")"
   ]
  },
  {
   "cell_type": "code",
   "execution_count": 13,
   "metadata": {},
   "outputs": [],
   "source": [
    "average_mae_history = [\n",
    "    np.mean([x[i] for x in all_mae_histories]) for i in range(num_epochs)]"
   ]
  },
  {
   "cell_type": "code",
   "execution_count": 14,
   "metadata": {},
   "outputs": [
    {
     "data": {
      "image/png": "[encoded data removed]",
      "text/plain": [
       "<Figure size 432x288 with 1 Axes>"
      ]
     },
     "metadata": {
      "needs_background": "light"
     },
     "output_type": "display_data"
    }
   ],
   "source": [
    "import matplotlib.pyplot as plt\n",
    "\n",
    "plt.plot(range(1, len(average_mae_history) + 1), average_mae_history)\n",
    "plt.xlabel('Epochs')\n",
    "plt.ylabel('Validation MAE')\n",
    "plt.show()"
   ]
  },
  {
   "cell_type": "markdown",
   "metadata": {},
   "source": [
    "Esta imagem é muito densa para ver claramente, então temos que lidar com isso:\n",
    "\n",
    "Remova os dez primeiros conjuntos de dados, este fim está obviamente longe dos outros números;\n",
    "Substitua cada ponto por uma média móvel exponencial dos pontos anteriores para suavizar a curva;"
   ]
  },
  {
   "cell_type": "code",
   "execution_count": 15,
   "metadata": {},
   "outputs": [
    {
     "data": {
      "image/png": "[encoded data removed]",
      "text/plain": [
       "<Figure size 432x288 with 1 Axes>"
      ]
     },
     "metadata": {
      "needs_background": "light"
     },
     "output_type": "display_data"
    }
   ],
   "source": [
    "def smooth_curve(points, factor=0.9):\n",
    "  smoothed_points = []\n",
    "  for point in points:\n",
    "    if smoothed_points:\n",
    "      previous = smoothed_points[-1]\n",
    "      smoothed_points.append(previous * factor + point * (1 - factor))\n",
    "    else:\n",
    "      smoothed_points.append(point)\n",
    "  return smoothed_points\n",
    "\n",
    "smooth_mae_history = smooth_curve(average_mae_history[10:])\n",
    "\n",
    "plt.plot(range(1, len(smooth_mae_history) + 1), smooth_mae_history)\n",
    "plt.xlabel('Epochs')\n",
    "plt.ylabel('Validation MAE')\n",
    "plt.show()"
   ]
  },
  {
   "cell_type": "markdown",
   "metadata": {},
   "source": [
    "A partir dessa figura, pode-se perceber que, após quase 80 épocas, está sobreajuste.\n",
    "\n",
    "Depois de tentar isso, encontramos os melhores parâmetros (o número de rodadas, o número de camadas da rede, todos podem ser tentados) e, em seguida, usamos os melhores parâmetros para treinar em todos os dados para obter o modelo de produção final."
   ]
  },
  {
   "cell_type": "code",
   "execution_count": 16,
   "metadata": {},
   "outputs": [
    {
     "name": "stdout",
     "output_type": "stream",
     "text": [
      "17.805436676623774 2.7129285\n"
     ]
    }
   ],
   "source": [
    "# Treine o modelo final\n",
    "\n",
    "model = build_model()\n",
    "model.fit(train_data, train_targets, \n",
    "          epochs=80, batch_size=16, verbose=0)\n",
    "\n",
    "# Avaliação final\n",
    "test_mse_score, test_mae_score = model.evaluate(test_data, test_targets, verbose=0)\n",
    "print(test_mse_score, test_mae_score)"
   ]
  },
  {
   "cell_type": "markdown",
   "metadata": {},
   "source": [
    "O valor de test_mae_score mostra que a previsão do modelo que treinamos está a cerca de 2k + dólares americanos de distância da situação real. . . 😭"
   ]
  }
 ],
 "metadata": {
  "kernelspec": {
   "display_name": "Python 3",
   "language": "python",
   "name": "python3"
  },
  "language_info": {
   "codemirror_mode": {
    "name": "ipython",
    "version": 3
   },
   "file_extension": ".py",
   "mimetype": "text/x-python",
   "name": "python",
   "nbconvert_exporter": "python",
   "pygments_lexer": "ipython3",
   "version": "3.7.9"
  }
 },
 "nbformat": 4,
 "nbformat_minor": 4
}
