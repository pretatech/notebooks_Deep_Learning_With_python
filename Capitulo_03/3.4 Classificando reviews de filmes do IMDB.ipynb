{
 "cells": [
  {
   "cell_type": "markdown",
   "metadata": {},
   "source": [
    "# Deep Learning with Python\n",
    "3.4 Classifying movie reviews: a binary classification example"
   ]
  },
  {
   "cell_type": "markdown",
   "metadata": {},
   "source": [
    "Antes de mais nada os notebooks aqui mostrado tiveram como base/foram retirados dos seguintes repositórios: \n",
    " > https://github.com/fchollet/deep-learning-with-python-notebooks \n",
    " \n",
    " \n",
    " > https://github.com/cdfmlr/Deep-Learning-with-Python-Notebooks\n",
    " \n",
    " Sugiro fortemente que consultem os códigos originais e em caso de dúvida podem me contatar para conversarmos. "
   ]
  },
  {
   "cell_type": "markdown",
   "metadata": {},
   "source": [
    "### Conjunto de dados IMDB\n",
    "\n",
    "Existem 50.000 críticas de filmes no conjunto de dados IMDB. Metade é o conjunto de treinamento e a outra metade é o conjunto de teste. Nos dados, 50% são críticas positivas e 50% são críticas negativas.\n",
    "\n",
    "Keras incorporou o conjunto de dados IMDB pré-processado, que converte a sequência de palavras em uma sequência inteira (um número corresponde a uma palavra no dicionário):"
   ]
  },
  {
   "cell_type": "code",
   "execution_count": 1,
   "metadata": {},
   "outputs": [
    {
     "name": "stderr",
     "output_type": "stream",
     "text": [
      "C:\\Users\\Lenovo\\Anaconda3\\envs\\tf\\lib\\site-packages\\tensorflow_core\\python\\keras\\datasets\\imdb.py:129: VisibleDeprecationWarning: Creating an ndarray from ragged nested sequences (which is a list-or-tuple of lists-or-tuples-or ndarrays with different lengths or shapes) is deprecated. If you meant to do this, you must specify 'dtype=object' when creating the ndarray\n",
      "  x_train, y_train = np.array(xs[:idx]), np.array(labels[:idx])\n",
      "C:\\Users\\Lenovo\\Anaconda3\\envs\\tf\\lib\\site-packages\\tensorflow_core\\python\\keras\\datasets\\imdb.py:130: VisibleDeprecationWarning: Creating an ndarray from ragged nested sequences (which is a list-or-tuple of lists-or-tuples-or ndarrays with different lengths or shapes) is deprecated. If you meant to do this, you must specify 'dtype=object' when creating the ndarray\n",
      "  x_test, y_test = np.array(xs[idx:]), np.array(labels[idx:])\n"
     ]
    }
   ],
   "source": [
    "#Importando o conjunto de dados:\n",
    "from tensorflow.keras.datasets import imdb\n",
    "\n",
    "# conjunto de dados\n",
    "(train_data, train_labels), (test_data, test_labels) = imdb.load_data(\n",
    "    num_words=10000)"
   ]
  },
  {
   "cell_type": "markdown",
   "metadata": {},
   "source": [
    "num_words = 10000 é para manter apenas as 10.000 palavras principais na frequência.\n",
    "\n",
    "Vamos ler um comentário, este é um bom comentário:"
   ]
  },
  {
   "cell_type": "code",
   "execution_count": 2,
   "metadata": {},
   "outputs": [
    {
     "name": "stdout",
     "output_type": "stream",
     "text": [
      "1: the as you with out themselves powerful lets loves their becomes reaching had journalist of lot from anyone to have after out atmosphere never more room and it so heart shows to years of every never going and help moments or of every chest visual movie except her was several of enough more with is now current film as you of mine potentially unfortunately of you than him that with out themselves her get for was camp of you movie sometimes movie that with scary but and to story wonderful that in seeing in character to of 70s musicians with heart had shadows they of here that with her serious to have does when from why what have critics they is you that isn't one will very to as itself with other and in of seen over landed for anyone of and br show's to whether from than out themselves history he name half some br of and odd was two most of mean for 1 any an boat she he should is thought frog but of script you not while history he heart to real at barrel but when from one bit then have two of script their with her nobody most that with wasn't to with armed acting watch an for with heartfelt film want an\n"
     ]
    }
   ],
   "source": [
    "# Dicionário\n",
    "index_word = {v: k for k, v in imdb.get_word_index().items()}\n",
    "\n",
    "# Vamos decodificar um dos reviews para o inglês\n",
    "text = ' '.join([index_word[i] for i in train_data[0]])\n",
    "\n",
    "print(f\"{train_labels[0]}:\", text)"
   ]
  },
  {
   "cell_type": "markdown",
   "metadata": {},
   "source": [
    "Podemos perceber que algumas palavras podem \"classificar\" o review em algo positivo ou negativo. O exemplo acima é de uma resenha positiva! "
   ]
  },
  {
   "cell_type": "markdown",
   "metadata": {},
   "source": [
    "# Preparação de dados\n",
    "Vamos dar uma olhada na forma atual de train_data:"
   ]
  },
  {
   "cell_type": "code",
   "execution_count": 3,
   "metadata": {},
   "outputs": [
    {
     "data": {
      "text/plain": [
       "(25000,)"
      ]
     },
     "execution_count": 3,
     "metadata": {},
     "output_type": "execute_result"
    }
   ],
   "source": [
    "train_data.shape"
   ]
  },
  {
   "cell_type": "markdown",
   "metadata": {},
   "source": [
    "\n",
    "Queremos que tenha a aparência de (samples, word_indices), que provavelmente é o seguinte:\n",
    "[[0, 0, ..., 1, ..., 0, ..., 1],\n",
    " [0, 1, ..., 0, ..., 1, ..., 0],\n",
    " ...\n",
    "]"
   ]
  },
  {
   "cell_type": "markdown",
   "metadata": {},
   "source": [
    "\n",
    "Significa 1 se houver esta palavra e 0 se não houver nenhuma palavra."
   ]
  },
  {
   "cell_type": "code",
   "execution_count": 4,
   "metadata": {},
   "outputs": [],
   "source": [
    "import numpy as np\n",
    "\n",
    "def vectorize_sequences(sequences, dimension=10000):\n",
    "    results = np.zeros((len(sequences), dimension))\n",
    "    for i, sequence in enumerate(sequences):\n",
    "        results[i, sequence] = 1.\n",
    "    return results\n",
    "\n",
    "x_train = vectorize_sequences(train_data)\n",
    "x_test = vectorize_sequences(test_data)"
   ]
  },
  {
   "cell_type": "code",
   "execution_count": 5,
   "metadata": {},
   "outputs": [
    {
     "data": {
      "text/plain": [
       "array([[0., 1., 1., ..., 0., 0., 0.],\n",
       "       [0., 1., 1., ..., 0., 0., 0.],\n",
       "       [0., 1., 1., ..., 0., 0., 0.],\n",
       "       ...,\n",
       "       [0., 1., 1., ..., 0., 0., 0.],\n",
       "       [0., 1., 1., ..., 0., 0., 0.],\n",
       "       [0., 1., 1., ..., 0., 0., 0.]])"
      ]
     },
     "execution_count": 5,
     "metadata": {},
     "output_type": "execute_result"
    }
   ],
   "source": [
    "x_train"
   ]
  },
  {
   "cell_type": "markdown",
   "metadata": {},
   "source": [
    "No caso dos rótulos eles já são assim, todos em 0 ou 1. Sendo 0 resenha positiva e 1 resenha negativa. "
   ]
  },
  {
   "cell_type": "code",
   "execution_count": 6,
   "metadata": {},
   "outputs": [
    {
     "data": {
      "text/plain": [
       "array([1, 0, 0, ..., 0, 1, 0], dtype=int64)"
      ]
     },
     "execution_count": 6,
     "metadata": {},
     "output_type": "execute_result"
    }
   ],
   "source": [
    "train_labels"
   ]
  },
  {
   "cell_type": "code",
   "execution_count": 7,
   "metadata": {},
   "outputs": [],
   "source": [
    "y_train = np.asarray(train_labels).astype('float32')\n",
    "y_test = np.asarray(test_labels).astype('float32')"
   ]
  },
  {
   "cell_type": "code",
   "execution_count": 8,
   "metadata": {},
   "outputs": [
    {
     "data": {
      "text/plain": [
       "array([1., 0., 0., ..., 0., 1., 0.], dtype=float32)"
      ]
     },
     "execution_count": 8,
     "metadata": {},
     "output_type": "execute_result"
    }
   ],
   "source": [
    "y_train"
   ]
  },
  {
   "cell_type": "markdown",
   "metadata": {},
   "source": [
    "Agora, esses dados podem ser alimentados com segurança para a rede neural que construiremos em breve."
   ]
  },
  {
   "cell_type": "markdown",
   "metadata": {},
   "source": [
    "# Construção do modelo\n"
   ]
  },
  {
   "cell_type": "markdown",
   "metadata": {},
   "source": [
    "Vamos agora construir a nossa rede neural\n",
    "\n",
    "\n",
    "Para este tipo de problema onde a entrada é um vetor e o rótulo é um escalar (mesmo 0 ou 1) é utilizado uma rede empilhada (ou seja, uma sequencia de camadas) usando Dense ativada pela função relu, como a seguir:"
   ]
  },
  {
   "cell_type": "markdown",
   "metadata": {},
   "source": [
    "Dense(16, activation='relu')"
   ]
  },
  {
   "cell_type": "markdown",
   "metadata": {},
   "source": [
    "A função desta camada é saída = relu (ponto (W, entrada) + b).\n",
    "\n",
    "16 é o número de unidades ocultas em cada camada. Uma unidade oculta é uma dimensão no espaço de representação dessa camada. A forma de W também é (input_dimension, 16). O ponto é um vetor de 16 dimensões, que projeta os dados em um espaço de representação de 16 dimensões.\n",
    "\n",
    "Esta dimensão (o número de unidades ocultas) pode ser considerada como o controle do grau de liberdade de aprendizagem em rede. Quanto maior a dimensionalidade, mais complicadas as coisas podem ser aprendidas, mas mais caro do ponto de vista computacional, e algumas coisas sem importância podem ser aprendidas e acabar causando o overfitting.\n",
    "\n",
    "Aqui, usaremos duas camadas de 16 unidades ocultas e, finalmente, uma camada ativada por sigmóide para gerar o resultado (valor em $ [0, 1] $), este resultado indica a probabilidade de os dados preverem O rótulo é 1, o que é um bom comentário"
   ]
  },
  {
   "cell_type": "markdown",
   "metadata": {},
   "source": [
    "Sobre as funções de ativação: \n",
    "relu é filtrar os valores negativos (saída do valor negativo da entrada como 0), sigmóide é converter o valor para [0, 1]. "
   ]
  },
  {
   "cell_type": "code",
   "execution_count": 9,
   "metadata": {},
   "outputs": [],
   "source": [
    "# Realizando a importação dos modelos e das camadas\n",
    "from tensorflow.keras import models\n",
    "from tensorflow.keras import layers\n",
    "\n",
    "\n",
    "#Construindo a arquitetura do modelo: \n",
    "model = models.Sequential()  #modelo do tipo sequencial\n",
    "model.add(layers.Dense(16, activation='relu', input_shape=(10000, )))  \n",
    "model.add(layers.Dense(16, activation='relu'))\n",
    "model.add(layers.Dense(1, activation='sigmoid'))"
   ]
  },
  {
   "cell_type": "markdown",
   "metadata": {},
   "source": [
    "### O papel da função de ativação\n",
    "\n",
    "Usamos a função de ativação relu no MNIST antes, então o que a função de ativação faz?\n",
    "\n",
    "Uma camada Densa sem função de ativação é apenas uma transformação linear:\n",
    "\n",
    "saída = ponto (W, entrada) + b\n",
    "\n",
    "Se cada camada for esse tipo de transformação linear, e várias camadas desse tipo forem empilhadas, o espaço da hipótese não se tornará maior, então as coisas que podem ser aprendidas são muito limitadas.\n",
    "\n",
    "A função de ativação é uma função fora do ponto (W, entrada) + b. Por exemplo, a ativação de relu é saída = relu (ponto (W, entrada) + b). Usando esta função de ativação, o espaço de representação pode ser expandido e a rede pode aprender \"conhecimentos\" mais complexos.\n",
    "\n",
    "Para saber mais pode consultar aqui: http://deeplearningbook.com.br/funcao-de-ativacao/"
   ]
  },
  {
   "cell_type": "markdown",
   "metadata": {},
   "source": [
    "### Compilando o modelo\n",
    "\n",
    "Ao compilar o modelo, também precisamos selecionar a função de perda, otimizador e o indicador da rede.\n",
    "\n",
    "Para este tipo de problema de classificação binária, onde a saída final é 0 ou 1, a função de perda pode usar binary_crossentropy (você pode ver pelo nome que é muito adequado por ser binário).\n",
    "\n",
    "Essa entropia cruzada (binary crossentropy) é chamada de entropia cruzada em chinês e é usada na teoria da informação para medir a distância direta da distribuição de probabilidade. Portanto, o modelo de probabilidade de saída geralmente usa esse tipo de entropia cruzada para perdas.\n",
    "\n",
    "Quanto ao otimizador, como MNIST, usamos rmsprop, e o índice ainda é de acurácia:"
   ]
  },
  {
   "cell_type": "code",
   "execution_count": 10,
   "metadata": {},
   "outputs": [],
   "source": [
    "model.compile(optimizer='rmsprop',\n",
    "              loss='binary_crossentropy',\n",
    "              metrics=['accuracy'])"
   ]
  },
  {
   "cell_type": "code",
   "execution_count": 11,
   "metadata": {},
   "outputs": [],
   "source": [
    "#Definindo os parâmetros: \n",
    "from tensorflow.keras import optimizers\n",
    "from tensorflow.keras import losses\n",
    "from tensorflow.keras import metrics\n",
    "\n",
    "model.compile(optimizer=optimizers.RMSprop(lr=0.001),\n",
    "              loss=losses.binary_crossentropy,\n",
    "              metrics=[metrics.binary_accuracy])"
   ]
  },
  {
   "cell_type": "markdown",
   "metadata": {},
   "source": [
    "# Modelo de treinamento\n",
    "\n",
    "A fim de verificar a precisão do modelo nos dados que ele não viu durante o processo de treinamento, dividimos 10.000 amostras dos dados de treinamento originais:"
   ]
  },
  {
   "cell_type": "code",
   "execution_count": 12,
   "metadata": {},
   "outputs": [],
   "source": [
    "x_val = x_train[:10000]\n",
    "partial_x_train = x_train[10000:]\n",
    "\n",
    "y_val = y_train[:10000]\n",
    "partial_y_train = y_train[10000:]"
   ]
  },
  {
   "cell_type": "markdown",
   "metadata": {},
   "source": [
    "Use um lote de 512 amostras de minilotes, execute 20 epocas (todos os dados em x_train são executados uma vez e contam uma rodada) e use as 10.000 amostras recém-separadas para verificação de acurácia (precisão):"
   ]
  },
  {
   "cell_type": "code",
   "execution_count": 13,
   "metadata": {},
   "outputs": [
    {
     "name": "stdout",
     "output_type": "stream",
     "text": [
      "Train on 15000 samples, validate on 10000 samples\n",
      "Epoch 1/20\n",
      "15000/15000 [==============================] - 7s 435us/sample - loss: 0.5036 - acc: 0.7937 - val_loss: 0.3752 - val_acc: 0.8714\n",
      "Epoch 2/20\n",
      "15000/15000 [==============================] - 2s 156us/sample - loss: 0.2981 - acc: 0.9046 - val_loss: 0.3402 - val_acc: 0.8609\n",
      "Epoch 3/20\n",
      "15000/15000 [==============================] - 2s 118us/sample - loss: 0.2188 - acc: 0.9285 - val_loss: 0.2767 - val_acc: 0.8893\n",
      "Epoch 4/20\n",
      "15000/15000 [==============================] - 2s 130us/sample - loss: 0.1717 - acc: 0.9440 - val_loss: 0.3080 - val_acc: 0.8753\n",
      "Epoch 5/20\n",
      "15000/15000 [==============================] - 3s 194us/sample - loss: 0.1378 - acc: 0.9561 - val_loss: 0.2986 - val_acc: 0.8832\n",
      "Epoch 6/20\n",
      "15000/15000 [==============================] - 3s 175us/sample - loss: 0.1166 - acc: 0.9635 - val_loss: 0.2960 - val_acc: 0.8863\n",
      "Epoch 7/20\n",
      "15000/15000 [==============================] - 3s 175us/sample - loss: 0.0960 - acc: 0.9702 - val_loss: 0.3307 - val_acc: 0.8779\n",
      "Epoch 8/20\n",
      "15000/15000 [==============================] - 2s 161us/sample - loss: 0.0775 - acc: 0.9793 - val_loss: 0.3349 - val_acc: 0.8828\n",
      "Epoch 9/20\n",
      "15000/15000 [==============================] - 2s 163us/sample - loss: 0.0635 - acc: 0.9834 - val_loss: 0.3952 - val_acc: 0.8690\n",
      "Epoch 10/20\n",
      "15000/15000 [==============================] - 2s 161us/sample - loss: 0.0484 - acc: 0.9887 - val_loss: 0.3835 - val_acc: 0.8777\n",
      "Epoch 11/20\n",
      "15000/15000 [==============================] - 3s 173us/sample - loss: 0.0421 - acc: 0.9897 - val_loss: 0.4116 - val_acc: 0.8770\n",
      "Epoch 12/20\n",
      "15000/15000 [==============================] - 3s 167us/sample - loss: 0.0298 - acc: 0.9933 - val_loss: 0.4417 - val_acc: 0.8742\n",
      "Epoch 13/20\n",
      "15000/15000 [==============================] - 2s 158us/sample - loss: 0.0250 - acc: 0.9955 - val_loss: 0.4747 - val_acc: 0.8750\n",
      "Epoch 14/20\n",
      "15000/15000 [==============================] - 2s 156us/sample - loss: 0.0199 - acc: 0.9970 - val_loss: 0.5063 - val_acc: 0.8716\n",
      "Epoch 15/20\n",
      "15000/15000 [==============================] - 2s 160us/sample - loss: 0.0150 - acc: 0.9983 - val_loss: 0.5434 - val_acc: 0.8693\n",
      "Epoch 16/20\n",
      "15000/15000 [==============================] - 2s 161us/sample - loss: 0.0128 - acc: 0.9978 - val_loss: 0.5710 - val_acc: 0.8708\n",
      "Epoch 17/20\n",
      "15000/15000 [==============================] - 2s 166us/sample - loss: 0.0069 - acc: 0.9996 - val_loss: 0.6468 - val_acc: 0.8655\n",
      "Epoch 18/20\n",
      "15000/15000 [==============================] - 3s 173us/sample - loss: 0.0080 - acc: 0.9991 - val_loss: 0.6384 - val_acc: 0.8690\n",
      "Epoch 19/20\n",
      "15000/15000 [==============================] - 3s 169us/sample - loss: 0.0038 - acc: 0.9998 - val_loss: 0.6805 - val_acc: 0.8687\n",
      "Epoch 20/20\n",
      "15000/15000 [==============================] - 2s 160us/sample - loss: 0.0059 - acc: 0.9988 - val_loss: 0.7097 - val_acc: 0.8672\n"
     ]
    }
   ],
   "source": [
    "model.compile(optimizer='rmsprop',\n",
    "              loss='binary_crossentropy',\n",
    "              metrics=['acc'])\n",
    "\n",
    "#Agora sim, vamos realizar o famigerado \"fit\":\n",
    "history = model.fit(partial_x_train,\n",
    "                    partial_y_train,\n",
    "                    epochs=20,\n",
    "                    batch_size=512,\n",
    "                    validation_data=(x_val, y_val))"
   ]
  },
  {
   "cell_type": "code",
   "execution_count": 14,
   "metadata": {},
   "outputs": [
    {
     "data": {
      "text/plain": [
       "dict_keys(['loss', 'acc', 'val_loss', 'val_acc'])"
      ]
     },
     "execution_count": 14,
     "metadata": {},
     "output_type": "execute_result"
    }
   ],
   "source": [
    "#Através da função abaixo podemos consultar alguns valores do histórico de treinamento\n",
    "#é basicamente um dicionário contendo todos os dados sobre tudo que aconteceu ao longo do treinamento\n",
    "history_dict = history.history\n",
    "history_dict.keys()"
   ]
  },
  {
   "cell_type": "code",
   "execution_count": 15,
   "metadata": {},
   "outputs": [
    {
     "data": {
      "image/png": "[encoded data removed]",
      "text/plain": [
       "<Figure size 432x288 with 1 Axes>"
      ]
     },
     "metadata": {
      "needs_background": "light"
     },
     "output_type": "display_data"
    }
   ],
   "source": [
    "#Vamos usar o matplotlib para plotar um gráfico de perda de treinamento e validação ao longo do treinamento\n",
    "\n",
    "import matplotlib.pyplot as plt\n",
    "\n",
    "history_dict = history.history\n",
    "loss_values = history_dict['loss']\n",
    "val_loss_values = history_dict['val_loss']\n",
    "\n",
    "epochs = range(1, len(loss_values) + 1)\n",
    "\n",
    "plt.plot(epochs, loss_values, 'ro-', label='Training loss')\n",
    "plt.plot(epochs, val_loss_values, 'bs-', label='Validation loss')\n",
    "plt.title('Training and validation loss')\n",
    "plt.xlabel('Epochs')\n",
    "plt.ylabel('Loss')\n",
    "plt.legend()\n",
    "\n",
    "plt.show()"
   ]
  },
  {
   "cell_type": "code",
   "execution_count": 16,
   "metadata": {},
   "outputs": [
    {
     "data": {
      "image/png": "[encoded data removed]",
      "text/plain": [
       "<Figure size 432x288 with 1 Axes>"
      ]
     },
     "metadata": {
      "needs_background": "light"
     },
     "output_type": "display_data"
    }
   ],
   "source": [
    "# Desenhe a precisão do treinamento e verificação\n",
    "plt.clf()\n",
    "\n",
    "acc = history_dict['acc']\n",
    "val_acc = history_dict['val_acc']\n",
    "\n",
    "plt.plot(epochs, acc, 'ro-', label='Training acc')\n",
    "plt.plot(epochs, val_acc, 'bs-', label='Validation acc')\n",
    "plt.title('Training and validation accuracy')\n",
    "plt.xlabel('Epochs')\n",
    "plt.ylabel('Loss')\n",
    "plt.legend()\n",
    "\n",
    "plt.show()"
   ]
  },
  {
   "cell_type": "markdown",
   "metadata": {},
   "source": [
    "Podemos ver que a acurácia no set de treinamento tem aumentado (a perda vem diminuindo), mas no set de validação a perda aumentou posteriormente, e atingiu o melhor pico por volta da quarta rodada.\n",
    "\n",
    "Isso é chamado de overfitting. Então, até a epoca 3 ou 4 estava tudo bem. Porém depois a rede foi overfitando. \n",
    "\n",
    "Portanto, vamos retreinar um modelo com apenas 4 epócas (reescrever a partir do estabelecimento da rede, caso contrário, o ajuste seguirá o que foi feito agora) e, em seguida, usar o conjunto de testes para testar:"
   ]
  },
  {
   "cell_type": "code",
   "execution_count": 17,
   "metadata": {},
   "outputs": [
    {
     "name": "stdout",
     "output_type": "stream",
     "text": [
      "Train on 25000 samples\n",
      "Epoch 1/4\n",
      "25000/25000 [==============================] - 5s 215us/sample - loss: 0.4386 - accuracy: 0.8259\n",
      "Epoch 2/4\n",
      "25000/25000 [==============================] - 3s 120us/sample - loss: 0.2516 - accuracy: 0.9104\n",
      "Epoch 3/4\n",
      "25000/25000 [==============================] - 3s 120us/sample - loss: 0.1962 - accuracy: 0.9289\n",
      "Epoch 4/4\n",
      "25000/25000 [==============================] - 3s 115us/sample - loss: 0.1664 - accuracy: 0.9407\n",
      "25000/25000 - 7s - loss: 0.2993 - accuracy: 0.8826\n"
     ]
    }
   ],
   "source": [
    "model = models.Sequential()\n",
    "model.add(layers.Dense(16, activation='relu', input_shape=(10000, )))\n",
    "model.add(layers.Dense(16, activation='relu'))\n",
    "model.add(layers.Dense(1, activation='sigmoid'))\n",
    "\n",
    "model.compile(optimizer='rmsprop',\n",
    "             loss='binary_crossentropy',\n",
    "             metrics=['accuracy'])\n",
    "\n",
    "model.fit(x_train, y_train, epochs=4, batch_size=512)\n",
    "result = model.evaluate(x_test, y_test, verbose=2)    # verbose=2 to avoid a looooong progress bar that fills the screen with '='. https://github.com/tensorflow/tensorflow/issues/32286"
   ]
  },
  {
   "cell_type": "code",
   "execution_count": 18,
   "metadata": {},
   "outputs": [
    {
     "data": {
      "text/plain": [
       "[0.29932343264579775, 0.88264]"
      ]
     },
     "execution_count": 18,
     "metadata": {},
     "output_type": "execute_result"
    }
   ],
   "source": [
    "#vamos visualizar o resultado: \n",
    "result"
   ]
  },
  {
   "cell_type": "markdown",
   "metadata": {},
   "source": [
    "Claro que agora precisamos testar o modelo com os dados de teste e depois analisar como foi que o modelo se comportou. Vamos lá: "
   ]
  },
  {
   "cell_type": "code",
   "execution_count": 19,
   "metadata": {},
   "outputs": [
    {
     "data": {
      "text/plain": [
       "array([[0.2170161 ],\n",
       "       [0.99979895],\n",
       "       [0.9547512 ],\n",
       "       ...,\n",
       "       [0.1364969 ],\n",
       "       [0.09119145],\n",
       "       [0.7232573 ]], dtype=float32)"
      ]
     },
     "execution_count": 19,
     "metadata": {},
     "output_type": "execute_result"
    }
   ],
   "source": [
    "model.predict(x_test)"
   ]
  },
  {
   "cell_type": "markdown",
   "metadata": {},
   "source": [
    "# Experiência adicional\n",
    "\n",
    "François propõe algumas experiências adicionais que vamos tentar aqui. "
   ]
  },
  {
   "cell_type": "markdown",
   "metadata": {},
   "source": [
    "Vamos usar apenas uma camada na arquitetura da rede: "
   ]
  },
  {
   "cell_type": "code",
   "execution_count": 20,
   "metadata": {},
   "outputs": [
    {
     "name": "stdout",
     "output_type": "stream",
     "text": [
      "Train on 25000 samples\n",
      "Epoch 1/4\n",
      "25000/25000 [==============================] - 5s 195us/sample - loss: 0.5834 - accuracy: 0.7833\n",
      "Epoch 2/4\n",
      "25000/25000 [==============================] - 2s 94us/sample - loss: 0.4655 - accuracy: 0.8604\n",
      "Epoch 3/4\n",
      "25000/25000 [==============================] - 2s 80us/sample - loss: 0.3982 - accuracy: 0.8813\n",
      "Epoch 4/4\n",
      "25000/25000 [==============================] - 2s 74us/sample - loss: 0.3529 - accuracy: 0.8930\n",
      "25000/25000 - 6s - loss: 0.3718 - accuracy: 0.8746\n",
      "[0.3717961340332031, 0.8746]\n"
     ]
    }
   ],
   "source": [
    "model = models.Sequential()\n",
    "# model.add(layers.Dense(16, activation='relu', input_shape=(10000, )))\n",
    "# model.add(layers.Dense(16, activation='relu'))\n",
    "model.add(layers.Dense(1, activation='sigmoid', input_shape=(10000, )))\n",
    "\n",
    "model.compile(optimizer='rmsprop',\n",
    "             loss='binary_crossentropy',\n",
    "             metrics=['accuracy'])\n",
    "\n",
    "model.fit(x_train, y_train, epochs=4, batch_size=512)\n",
    "result = model.evaluate(x_test, y_test, verbose=2)    # verbose=2 to avoid a looooong progress bar that fills the screen with '='. https://github.com/tensorflow/tensorflow/issues/32286\n",
    "print(result)"
   ]
  },
  {
   "cell_type": "markdown",
   "metadata": {},
   "source": [
    "Olha só, tivemos um resultado pior ne. Então realmente a utilização de uma unica camada não é tão bom. \n",
    "\n",
    "Agora vamos tentar com mais algumas camadas"
   ]
  },
  {
   "cell_type": "code",
   "execution_count": 21,
   "metadata": {},
   "outputs": [
    {
     "name": "stdout",
     "output_type": "stream",
     "text": [
      "Train on 25000 samples\n",
      "Epoch 1/4\n",
      "25000/25000 [==============================] - 9s 378us/sample - loss: 0.4574 - accuracy: 0.8106\n",
      "Epoch 2/4\n",
      "25000/25000 [==============================] - 3s 116us/sample - loss: 0.2487 - accuracy: 0.9106\n",
      "Epoch 3/4\n",
      "25000/25000 [==============================] - 3s 116us/sample - loss: 0.1947 - accuracy: 0.9280 - l\n",
      "Epoch 4/4\n",
      "25000/25000 [==============================] - 3s 115us/sample - loss: 0.1635 - accuracy: 0.9413 - loss: 0.1\n",
      "25000/25000 - 5s - loss: 0.3245 - accuracy: 0.8780\n",
      "[0.32454134140491486, 0.87804]\n"
     ]
    }
   ],
   "source": [
    "model = models.Sequential()\n",
    "model.add(layers.Dense(16, activation='relu', input_shape=(10000, )))\n",
    "model.add(layers.Dense(16, activation='relu'))\n",
    "model.add(layers.Dense(16, activation='relu'))\n",
    "model.add(layers.Dense(16, activation='relu'))\n",
    "model.add(layers.Dense(1, activation='sigmoid'))\n",
    "\n",
    "model.compile(optimizer='rmsprop',\n",
    "             loss='binary_crossentropy',\n",
    "             metrics=['accuracy'])\n",
    "\n",
    "model.fit(x_train, y_train, epochs=4, batch_size=512)\n",
    "result = model.evaluate(x_test, y_test, verbose=2)    # verbose=2 to avoid a looooong progress bar that fills the screen with '='. https://github.com/tensorflow/tensorflow/issues/32286\n",
    "print(result)"
   ]
  },
  {
   "cell_type": "markdown",
   "metadata": {},
   "source": [
    "Ora ora.. Também não foi muito melhor. \n",
    "\n",
    "Vamos tentar agora com várias outras unidades ocultas:"
   ]
  },
  {
   "cell_type": "code",
   "execution_count": 22,
   "metadata": {},
   "outputs": [
    {
     "name": "stdout",
     "output_type": "stream",
     "text": [
      "Train on 25000 samples\n",
      "Epoch 1/4\n",
      "25000/25000 [==============================] - 5s 219us/sample - loss: 0.4305 - accuracy: 0.8041\n",
      "Epoch 2/4\n",
      "25000/25000 [==============================] - 4s 147us/sample - loss: 0.2400 - accuracy: 0.9080\n",
      "Epoch 3/4\n",
      "25000/25000 [==============================] - 3s 125us/sample - loss: 0.1862 - accuracy: 0.9299\n",
      "Epoch 4/4\n",
      "25000/25000 [==============================] - 3s 124us/sample - loss: 0.1505 - accuracy: 0.9438\n",
      "25000/25000 - 4s - loss: 0.3782 - accuracy: 0.8610\n",
      "[0.3781626390266418, 0.86104]\n"
     ]
    }
   ],
   "source": [
    "model = models.Sequential()\n",
    "model.add(layers.Dense(16, activation='relu', input_shape=(10000, )))\n",
    "model.add(layers.Dense(1024, activation='relu'))\n",
    "model.add(layers.Dense(1, activation='sigmoid'))\n",
    "\n",
    "model.compile(optimizer='rmsprop',\n",
    "             loss='binary_crossentropy',\n",
    "             metrics=['accuracy'])\n",
    "\n",
    "model.fit(x_train, y_train, epochs=4, batch_size=512)\n",
    "result = model.evaluate(x_test, y_test, verbose=2)    # verbose=2 to avoid a looooong progress bar that fills the screen with '='. https://github.com/tensorflow/tensorflow/issues/32286\n",
    "print(result)"
   ]
  },
  {
   "cell_type": "markdown",
   "metadata": {},
   "source": [
    "Piorou o resultado. \n",
    "\n",
    "Tentando com perda com mse:"
   ]
  },
  {
   "cell_type": "code",
   "execution_count": 23,
   "metadata": {},
   "outputs": [
    {
     "name": "stdout",
     "output_type": "stream",
     "text": [
      "Train on 25000 samples\n",
      "Epoch 1/4\n",
      "25000/25000 [==============================] - 5s 193us/sample - loss: 0.1512 - accuracy: 0.8215\n",
      "Epoch 2/4\n",
      "25000/25000 [==============================] - 3s 118us/sample - loss: 0.0792 - accuracy: 0.9111\n",
      "Epoch 3/4\n",
      "25000/25000 [==============================] - 3s 112us/sample - loss: 0.0596 - accuracy: 0.9300\n",
      "Epoch 4/4\n",
      "25000/25000 [==============================] - 3s 114us/sample - loss: 0.0490 - accuracy: 0.9428\n",
      "25000/25000 - 4s - loss: 0.0863 - accuracy: 0.8831\n",
      "[0.0863195732331276, 0.88308]\n"
     ]
    }
   ],
   "source": [
    "model = models.Sequential()\n",
    "model.add(layers.Dense(16, activation='relu', input_shape=(10000, )))\n",
    "model.add(layers.Dense(16, activation='relu'))\n",
    "model.add(layers.Dense(1, activation='sigmoid'))\n",
    "\n",
    "model.compile(optimizer='rmsprop',\n",
    "             loss='mse',\n",
    "             metrics=['accuracy'])\n",
    "\n",
    "model.fit(x_train, y_train, epochs=4, batch_size=512)\n",
    "result = model.evaluate(x_test, y_test, verbose=2)    # verbose=2 to avoid a looooong progress bar that fills the screen with '='. https://github.com/tensorflow/tensorflow/issues/32286\n",
    "print(result)"
   ]
  },
  {
   "cell_type": "markdown",
   "metadata": {},
   "source": [
    "Ora ora! Ficou bom neeee\n",
    "\n",
    "Agora com Ativação do tipo tanh:"
   ]
  },
  {
   "cell_type": "code",
   "execution_count": 24,
   "metadata": {},
   "outputs": [
    {
     "name": "stdout",
     "output_type": "stream",
     "text": [
      "Train on 25000 samples\n",
      "Epoch 1/4\n",
      "25000/25000 [==============================] - 5s 210us/sample - loss: 0.4335 - accuracy: 0.8311 - loss: 0.4508 - ac\n",
      "Epoch 2/4\n",
      "25000/25000 [==============================] - 3s 125us/sample - loss: 0.2385 - accuracy: 0.9137 - loss: 0.2401 - accuracy: \n",
      "Epoch 3/4\n",
      "25000/25000 [==============================] - 3s 124us/sample - loss: 0.1779 - accuracy: 0.9352 - loss: 0.1785 - accuracy: \n",
      "Epoch 4/4\n",
      "25000/25000 [==============================] - 3s 118us/sample - loss: 0.1508 - accuracy: 0.9463\n",
      "25000/25000 - 4s - loss: 0.3244 - accuracy: 0.8766\n",
      "[0.3244260913848877, 0.87656]\n"
     ]
    }
   ],
   "source": [
    "model = models.Sequential()\n",
    "model.add(layers.Dense(16, activation='tanh', input_shape=(10000, )))\n",
    "model.add(layers.Dense(16, activation='tanh'))\n",
    "model.add(layers.Dense(1, activation='sigmoid'))\n",
    "\n",
    "model.compile(optimizer='rmsprop',\n",
    "             loss='binary_crossentropy',\n",
    "             metrics=['accuracy'])\n",
    "\n",
    "model.fit(x_train, y_train, epochs=4, batch_size=512)\n",
    "result = model.evaluate(x_test, y_test, verbose=2)    # verbose=2 to avoid a looooong progress bar that fills the screen with '='. https://github.com/tensorflow/tensorflow/issues/32286\n",
    "print(result)"
   ]
  },
  {
   "cell_type": "markdown",
   "metadata": {},
   "source": [
    "Portanto, esses experimentos significam que o modelo usado em nosso livro antes é razoável e algumas alterações são interessantes, mas ainda não tão boas quanto. "
   ]
  }
 ],
 "metadata": {
  "kernelspec": {
   "display_name": "Python 3",
   "language": "python",
   "name": "python3"
  },
  "language_info": {
   "codemirror_mode": {
    "name": "ipython",
    "version": 3
   },
   "file_extension": ".py",
   "mimetype": "text/x-python",
   "name": "python",
   "nbconvert_exporter": "python",
   "pygments_lexer": "ipython3",
   "version": "3.7.9"
  }
 },
 "nbformat": 4,
 "nbformat_minor": 4
}
