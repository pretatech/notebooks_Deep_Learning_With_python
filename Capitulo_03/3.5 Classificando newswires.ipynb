{
 "cells": [
  {
   "cell_type": "markdown",
   "metadata": {},
   "source": [
    "# Deep Learning with Python\n",
    "3.5 Classifying newswires: a multiclass classification example"
   ]
  },
  {
   "cell_type": "markdown",
   "metadata": {},
   "source": [
    "Antes de mais nada os notebooks aqui mostrado tiveram como base/foram retirados dos seguintes repositórios: \n",
    " > https://github.com/fchollet/deep-learning-with-python-notebooks \n",
    " \n",
    " \n",
    " > https://github.com/cdfmlr/Deep-Learning-with-Python-Notebooks\n",
    " \n",
    " Sugiro fortemente que consultem os códigos originais e em caso de dúvida podem me contatar para conversarmos. "
   ]
  },
  {
   "cell_type": "markdown",
   "metadata": {},
   "source": [
    "Nessa seção é trabalharmos com um exemplo de multiclassificação, mas o que é isso? \n",
    "\n",
    "Significa que a nossa classificação não é binária (a saída não é 0 ou 1), mas sim multi classificação. Ou seja, temos várias categorias de saída. Nesse caso vamos trabalhar com uma série de noticias que podem ser de 46 categorias diferentes. \n",
    "\n",
    "A ideia é criarmos um modelo que consegue predizer a qual categoria a notícia pertence. "
   ]
  },
  {
   "cell_type": "code",
   "execution_count": 2,
   "metadata": {},
   "outputs": [],
   "source": [
    "##Conjunto de dados Reuters\n"
   ]
  },
  {
   "cell_type": "markdown",
   "metadata": {},
   "source": [
    "O conjunto de dados da Reuters, um conjunto de dados lançado pela Reuters em 1986, contém 46 tipos de notícias e pelo menos 10 dados para cada tipo do conjunto de treinamento.\n",
    "\n",
    "Para saber mais desse dataset basta consultar: https://keras.io/api/datasets/reuters/\n",
    "\n",
    "Este conjunto de dados, assim como IMDB e MNIST, também é integrado ao Keras:"
   ]
  },
  {
   "cell_type": "code",
   "execution_count": 3,
   "metadata": {},
   "outputs": [
    {
     "name": "stdout",
     "output_type": "stream",
     "text": [
      "Downloading data from https://storage.googleapis.com/tensorflow/tf-keras-datasets/reuters.npz\n",
      "2113536/2110848 [==============================] - 2s 1us/step\n"
     ]
    },
    {
     "name": "stderr",
     "output_type": "stream",
     "text": [
      "C:\\Users\\Lenovo\\Anaconda3\\envs\\tf\\lib\\site-packages\\tensorflow_core\\python\\keras\\datasets\\reuters.py:113: VisibleDeprecationWarning: Creating an ndarray from ragged nested sequences (which is a list-or-tuple of lists-or-tuples-or ndarrays with different lengths or shapes) is deprecated. If you meant to do this, you must specify 'dtype=object' when creating the ndarray\n",
      "  x_train, y_train = np.array(xs[:idx]), np.array(labels[:idx])\n",
      "C:\\Users\\Lenovo\\Anaconda3\\envs\\tf\\lib\\site-packages\\tensorflow_core\\python\\keras\\datasets\\reuters.py:114: VisibleDeprecationWarning: Creating an ndarray from ragged nested sequences (which is a list-or-tuple of lists-or-tuples-or ndarrays with different lengths or shapes) is deprecated. If you meant to do this, you must specify 'dtype=object' when creating the ndarray\n",
      "  x_test, y_test = np.array(xs[idx:]), np.array(labels[idx:])\n"
     ]
    }
   ],
   "source": [
    "from tensorflow.keras.datasets import reuters\n",
    "\n",
    "(train_data, train_labels), (test_data, test_labels) = reuters.load_data(\n",
    "    num_words=10000)"
   ]
  },
  {
   "cell_type": "markdown",
   "metadata": {},
   "source": [
    "Os dados neste conjunto de dados são os mesmos do IMDB anterior, as palavras são traduzidas em números e, então, apenas interceptamos as 10.000 palavras com a maior frequência.\n",
    "\n",
    "Temos mais de 8K dados neste conjunto de treinamento e 2K + no conjunto de teste:"
   ]
  },
  {
   "cell_type": "code",
   "execution_count": 4,
   "metadata": {},
   "outputs": [
    {
     "name": "stdout",
     "output_type": "stream",
     "text": [
      "8982 2246\n"
     ]
    }
   ],
   "source": [
    "print(len(train_data), len(test_data))"
   ]
  },
  {
   "cell_type": "markdown",
   "metadata": {},
   "source": [
    "Assim como fizemos no IMDB, vamos decodificar uma das noticias: "
   ]
  },
  {
   "cell_type": "code",
   "execution_count": 5,
   "metadata": {},
   "outputs": [
    {
     "name": "stdout",
     "output_type": "stream",
     "text": [
      "Downloading data from https://storage.googleapis.com/tensorflow/tf-keras-datasets/reuters_word_index.json\n",
      "557056/550378 [==============================] - 0s 1us/step\n",
      "? ? ? said as a result of its december acquisition of space co it expects earnings per share in 1987 of 1 15 to 1 30 dlrs per share up from 70 cts in 1986 the company said pretax net should rise to nine to 10 mln dlrs from six mln dlrs in 1986 and rental operation revenues to 19 to 22 mln dlrs from 12 5 mln dlrs it said cash flow per share this year should be 2 50 to three dlrs reuter 3\n"
     ]
    }
   ],
   "source": [
    "def decode_news(data):\n",
    "    reverse_word_index = {v: k for k, v in reuters.get_word_index().items()}\n",
    "    return ' '.join([reverse_word_index.get(i - 3, '?') for i in data])\n",
    "\n",
    "text = decode_news(train_data[0])\n",
    "print(text)"
   ]
  },
  {
   "cell_type": "markdown",
   "metadata": {},
   "source": [
    "O rótulo é um número de 0 a 45 (ja que temos 46 possíveis classificações):"
   ]
  },
  {
   "cell_type": "code",
   "execution_count": 6,
   "metadata": {},
   "outputs": [
    {
     "data": {
      "text/plain": [
       "3"
      ]
     },
     "execution_count": 6,
     "metadata": {},
     "output_type": "execute_result"
    }
   ],
   "source": [
    "train_labels[0]"
   ]
  },
  {
   "cell_type": "markdown",
   "metadata": {},
   "source": [
    "## Preparação de dados\n",
    "Em primeiro lugar, devemos vetorizar os bits de dados e aplicar diretamente o código que escrevemos quando nos engajamos no IMDB:"
   ]
  },
  {
   "cell_type": "code",
   "execution_count": 7,
   "metadata": {},
   "outputs": [],
   "source": [
    "import numpy as np\n",
    "\n",
    "def vectorize_sequences(sequences, dimension=10000):\n",
    "    results = np.zeros((len(sequences), dimension))\n",
    "    for i, sequence in enumerate(sequences):\n",
    "        results[i, sequence] = 1.\n",
    "    return results\n",
    "\n",
    "\n",
    "x_train = vectorize_sequences(train_data)\n",
    "x_test = vectorize_sequences(test_data)"
   ]
  },
  {
   "cell_type": "markdown",
   "metadata": {},
   "source": [
    "Então, como resultados "
   ]
  },
  {
   "cell_type": "code",
   "execution_count": 8,
   "metadata": {},
   "outputs": [
    {
     "data": {
      "text/plain": [
       "array([[0., 1., 1., ..., 0., 0., 0.],\n",
       "       [0., 1., 1., ..., 0., 0., 0.],\n",
       "       [0., 1., 1., ..., 0., 0., 0.],\n",
       "       ...,\n",
       "       [0., 1., 1., ..., 0., 0., 0.],\n",
       "       [0., 1., 1., ..., 0., 0., 0.],\n",
       "       [0., 1., 1., ..., 0., 0., 0.]])"
      ]
     },
     "execution_count": 8,
     "metadata": {},
     "output_type": "execute_result"
    }
   ],
   "source": [
    "x_train"
   ]
  },
  {
   "cell_type": "markdown",
   "metadata": {},
   "source": [
    "Podemos processar os rótulos em tensores inteiros ou usar codificação one-hot. Para problemas de classificação, geralmente usamos codificação one-hot (também chamada de codificação categórica).\n",
    "\n",
    "Para nosso problema atual, usamos codificação one-hot, ou seja, um vetor cuja posição é 0, exceto para a posição do índice do rótulo:"
   ]
  },
  {
   "cell_type": "code",
   "execution_count": 9,
   "metadata": {},
   "outputs": [],
   "source": [
    "def to_one_hot(labels, dimension=46):\n",
    "    results = np.zeros((len(labels), dimension))\n",
    "    for i, label in enumerate(labels):\n",
    "        results[i, label] = 1.\n",
    "    return results\n",
    "\n",
    "\n",
    "one_hot_train_labels = to_one_hot(train_labels)\n",
    "one_hot_test_labels = to_one_hot(test_labels)"
   ]
  },
  {
   "cell_type": "markdown",
   "metadata": {},
   "source": [
    "Keras vem com uma função que pode fazer isso:"
   ]
  },
  {
   "cell_type": "code",
   "execution_count": 10,
   "metadata": {},
   "outputs": [],
   "source": [
    "from tensorflow.keras.utils import to_categorical\n",
    "# O livro é de keras.utils.np_utils import to_categorical Mas ,,, os tempos mudaram e estamos usando tensorflow.keras, então há uma pequena diferença\n",
    "one_hot_train_labels = to_categorical(train_labels)\n",
    "one_hot_test_labels = to_categorical(test_labels)"
   ]
  },
  {
   "cell_type": "code",
   "execution_count": 11,
   "metadata": {},
   "outputs": [
    {
     "data": {
      "text/plain": [
       "array([[0., 0., 0., ..., 0., 0., 0.],\n",
       "       [0., 0., 0., ..., 0., 0., 0.],\n",
       "       [0., 0., 0., ..., 0., 0., 0.],\n",
       "       ...,\n",
       "       [0., 0., 0., ..., 0., 0., 0.],\n",
       "       [0., 0., 0., ..., 0., 0., 0.],\n",
       "       [0., 0., 0., ..., 0., 0., 0.]], dtype=float32)"
      ]
     },
     "execution_count": 11,
     "metadata": {},
     "output_type": "execute_result"
    }
   ],
   "source": [
    "one_hot_train_labels"
   ]
  },
  {
   "cell_type": "markdown",
   "metadata": {},
   "source": [
    "# Construa a rede\n",
    "\n",
    "Este problema é semelhante ao problema de classificação da crítica de filme anterior, exceto que a solução final pode ser de 2 -> 46, e o espaço de solução é muito grande.\n",
    "\n",
    "Para a pilha de camadas Densa que usamos, cada camada recebe as informações de saída da camada anterior como entrada. Portanto, se alguma informação for perdida em uma determinada camada, a informação não poderá mais ser recuperada pelas camadas subsequentes. Se a informação perdida for inútil para a classificação, então esse tipo de perda é boa e esperamos que aconteça, mas se a informação perdida contribuir para a classificação final, então esse tipo de perda vai restringir os resultados da rede. Em outras palavras, isso pode causar um \"gargalo de informações\". Esse tipo de gargalo pode ocorrer em todas as camadas.\n",
    "\n",
    "A classificação da crítica anterior do filme acabou com apenas 2 resultados, então usamos 16 unidades na camada, ou seja, deixava a máquina aprender em um espaço de 16 dimensões, e se for grande o suficiente, não há \"gargalo de informação\"."
   ]
  },
  {
   "cell_type": "code",
   "execution_count": 12,
   "metadata": {},
   "outputs": [],
   "source": [
    "from tensorflow.keras import models\n",
    "from tensorflow.keras import layers\n",
    "\n",
    "model = models.Sequential()\n",
    "model.add(layers.Dense(64, activation='relu', input_shape=(10000,)))\n",
    "model.add(layers.Dense(64, activation='relu'))\n",
    "model.add(layers.Dense(46, activation='softmax'))"
   ]
  },
  {
   "cell_type": "markdown",
   "metadata": {},
   "source": [
    "Na última camada, nossa saída é 46-dimensional, correspondendo a 46 categorias, e a função de ativação desta camada é softmax, que é a mesma que usamos ao treinar MNIST.\n",
    "\n",
    "Com softmax, a rede pode produzir a distribuição de probabilidade em 46 categorias, ou seja, um vetor de 46 dimensões, onde o i-ésimo elemento representa a probabilidade de que a entrada pertença à i-ésima categoria e a soma desses 46 elementos é 1."
   ]
  },
  {
   "cell_type": "markdown",
   "metadata": {},
   "source": [
    "# Compile o modelo\n",
    "Para compilar o modelo, é hora de determinar a função de perda, otimizador e objetivos de otimização.\n",
    "\n",
    "Função de perda, problema de classificação ou uso de \"entropia cruzada categórica\" ​​categorical_crossentropy.\n",
    "Para otimizador usamos rmsprop "
   ]
  },
  {
   "cell_type": "code",
   "execution_count": 13,
   "metadata": {},
   "outputs": [],
   "source": [
    "model.compile(optimizer='rmsprop',\n",
    "              loss='categorical_crossentropy',\n",
    "              metrics=['accuracy'])"
   ]
  },
  {
   "cell_type": "markdown",
   "metadata": {},
   "source": [
    "# Efeito de verificação\n",
    "Ainda temos que construir um conjunto de validação para avaliar o modelo durante o processo de treinamento. Basta dividir 1K de dados do conjunto de treinamento:"
   ]
  },
  {
   "cell_type": "code",
   "execution_count": 14,
   "metadata": {},
   "outputs": [],
   "source": [
    "x_val = x_train[:1000]\n",
    "partial_x_train = x_train[1000:]\n",
    "\n",
    "y_val = one_hot_train_labels[:1000]\n",
    "partial_y_train = one_hot_train_labels[1000:]"
   ]
  },
  {
   "cell_type": "markdown",
   "metadata": {},
   "source": [
    "# Modelo de treinamento\n",
    "Bem, os preparativos estão completos e você pode ver o processo de treinamento mais fascinante novamente atraves do fit. "
   ]
  },
  {
   "cell_type": "code",
   "execution_count": 15,
   "metadata": {},
   "outputs": [
    {
     "name": "stdout",
     "output_type": "stream",
     "text": [
      "Train on 7982 samples, validate on 1000 samples\n",
      "Epoch 1/20\n",
      "7982/7982 [==============================] - 21s 3ms/sample - loss: 2.4947 - accuracy: 0.5100 - val_loss: 1.6577 - val_accuracy: 0.6310\n",
      "Epoch 2/20\n",
      "7982/7982 [==============================] - 1s 138us/sample - loss: 1.3551 - accuracy: 0.7101 - val_loss: 1.3166 - val_accuracy: 0.7100\n",
      "Epoch 3/20\n",
      "7982/7982 [==============================] - 1s 105us/sample - loss: 1.0048 - accuracy: 0.7908 - val_loss: 1.1059 - val_accuracy: 0.7640\n",
      "Epoch 4/20\n",
      "7982/7982 [==============================] - 1s 100us/sample - loss: 0.7878 - accuracy: 0.8304 - val_loss: 1.0279 - val_accuracy: 0.7860\n",
      "Epoch 5/20\n",
      "7982/7982 [==============================] - 1s 98us/sample - loss: 0.6264 - accuracy: 0.8646 - val_loss: 0.9525 - val_accuracy: 0.7990\n",
      "Epoch 6/20\n",
      "7982/7982 [==============================] - 1s 97us/sample - loss: 0.5035 - accuracy: 0.8923 - val_loss: 0.9259 - val_accuracy: 0.8030\n",
      "Epoch 7/20\n",
      "7982/7982 [==============================] - 1s 95us/sample - loss: 0.4008 - accuracy: 0.9158 - val_loss: 0.8929 - val_accuracy: 0.8200\n",
      "Epoch 8/20\n",
      "7982/7982 [==============================] - 1s 95us/sample - loss: 0.3294 - accuracy: 0.9305 - val_loss: 0.8881 - val_accuracy: 0.8230\n",
      "Epoch 9/20\n",
      "7982/7982 [==============================] - 1s 97us/sample - loss: 0.2706 - accuracy: 0.9407 - val_loss: 0.9084 - val_accuracy: 0.8160\n",
      "Epoch 10/20\n",
      "7982/7982 [==============================] - 1s 100us/sample - loss: 0.2337 - accuracy: 0.9458 - val_loss: 0.9191 - val_accuracy: 0.8160\n",
      "Epoch 11/20\n",
      "7982/7982 [==============================] - 1s 95us/sample - loss: 0.1997 - accuracy: 0.9494 - val_loss: 1.0757 - val_accuracy: 0.7880\n",
      "Epoch 12/20\n",
      "7982/7982 [==============================] - 1s 93us/sample - loss: 0.1774 - accuracy: 0.9506 - val_loss: 0.9591 - val_accuracy: 0.8170\n",
      "Epoch 13/20\n",
      "7982/7982 [==============================] - 1s 98us/sample - loss: 0.1610 - accuracy: 0.9528 - val_loss: 0.9510 - val_accuracy: 0.8170\n",
      "Epoch 14/20\n",
      "7982/7982 [==============================] - 1s 97us/sample - loss: 0.1474 - accuracy: 0.9557 - val_loss: 1.0105 - val_accuracy: 0.8110\n",
      "Epoch 15/20\n",
      "7982/7982 [==============================] - 1s 97us/sample - loss: 0.1427 - accuracy: 0.9553 - val_loss: 0.9842 - val_accuracy: 0.8100\n",
      "Epoch 16/20\n",
      "7982/7982 [==============================] - 1s 96us/sample - loss: 0.1254 - accuracy: 0.9554 - val_loss: 1.0472 - val_accuracy: 0.8010\n",
      "Epoch 17/20\n",
      "7982/7982 [==============================] - 1s 99us/sample - loss: 0.1248 - accuracy: 0.9550 - val_loss: 1.0716 - val_accuracy: 0.7900\n",
      "Epoch 18/20\n",
      "7982/7982 [==============================] - 1s 111us/sample - loss: 0.1206 - accuracy: 0.9564 - val_loss: 1.1084 - val_accuracy: 0.7960\n",
      "Epoch 19/20\n",
      "7982/7982 [==============================] - 1s 99us/sample - loss: 0.1147 - accuracy: 0.9580 - val_loss: 1.0860 - val_accuracy: 0.8030\n",
      "Epoch 20/20\n",
      "7982/7982 [==============================] - 1s 91us/sample - loss: 0.1125 - accuracy: 0.9589 - val_loss: 1.0705 - val_accuracy: 0.8090\n"
     ]
    }
   ],
   "source": [
    "history = model.fit(partial_x_train,\n",
    "                    partial_y_train,\n",
    "                    epochs=20,\n",
    "                    batch_size=512,\n",
    "                    validation_data=(x_val, y_val))"
   ]
  },
  {
   "cell_type": "markdown",
   "metadata": {},
   "source": [
    "Vamos plotar alguns gráficos para analisar melhor o desempenho do modelo ao longo do treinamento. Primeiro vamos plotar a perda (loss) durante treinamento e validação. "
   ]
  },
  {
   "cell_type": "code",
   "execution_count": 16,
   "metadata": {},
   "outputs": [
    {
     "data": {
      "image/png": "[encoded data removed]",
      "text/plain": [
       "<Figure size 432x288 with 1 Axes>"
      ]
     },
     "metadata": {
      "needs_background": "light"
     },
     "output_type": "display_data"
    }
   ],
   "source": [
    "import matplotlib.pyplot as plt\n",
    "\n",
    "loss = history.history['loss']\n",
    "val_loss = history.history['val_loss']\n",
    "epochs = range(1, len(loss) + 1)\n",
    "\n",
    "plt.plot(epochs, loss, 'bo-', label='Training loss')\n",
    "plt.plot(epochs, val_loss, 'rs-', label='Validation loss')\n",
    "plt.title('Training and validation loss')\n",
    "plt.xlabel('Epochs')\n",
    "plt.ylabel('Loss')\n",
    "plt.legend()\n",
    "plt.show()"
   ]
  },
  {
   "cell_type": "markdown",
   "metadata": {},
   "source": [
    "Agora vamos plotar a acurácia durante o treinamento e validação: "
   ]
  },
  {
   "cell_type": "code",
   "execution_count": 17,
   "metadata": {},
   "outputs": [
    {
     "data": {
      "image/png": "[encoded data removed]",
      "text/plain": [
       "<Figure size 432x288 with 1 Axes>"
      ]
     },
     "metadata": {
      "needs_background": "light"
     },
     "output_type": "display_data"
    }
   ],
   "source": [
    "\n",
    "plt.clf()\n",
    "\n",
    "acc = history.history['accuracy']\n",
    "val_acc = history.history['val_accuracy']\n",
    "\n",
    "plt.plot(epochs, acc, 'bo-', label='Training acc')\n",
    "plt.plot(epochs, val_acc, 'rs-', label='Validation acc')\n",
    "plt.title('Training and validation accuracy')\n",
    "plt.xlabel('Epochs')\n",
    "plt.ylabel('Loss')\n",
    "plt.legend()\n",
    "plt.show()"
   ]
  },
  {
   "cell_type": "markdown",
   "metadata": {},
   "source": [
    "Podemos perceber que durante a 9ª rodada de épocas o modelo começou a overfitar, com isso concluímos que 9 epocas é o suficiente de treinamento. Bora treinar novamente o modelo parando em 9 epocas: "
   ]
  },
  {
   "cell_type": "code",
   "execution_count": 18,
   "metadata": {},
   "outputs": [
    {
     "name": "stdout",
     "output_type": "stream",
     "text": [
      "Train on 7982 samples, validate on 1000 samples\n",
      "Epoch 1/9\n",
      "7982/7982 [==============================] - 2s 220us/sample - loss: 2.5193 - accuracy: 0.5294 - val_loss: 1.6386 - val_accuracy: 0.6520\n",
      "Epoch 2/9\n",
      "7982/7982 [==============================] - 1s 101us/sample - loss: 1.3738 - accuracy: 0.7110 - val_loss: 1.2661 - val_accuracy: 0.7210\n",
      "Epoch 3/9\n",
      "7982/7982 [==============================] - 1s 104us/sample - loss: 1.0305 - accuracy: 0.7769 - val_loss: 1.1115 - val_accuracy: 0.7670\n",
      "Epoch 4/9\n",
      "7982/7982 [==============================] - 1s 98us/sample - loss: 0.8095 - accuracy: 0.8279 - val_loss: 1.0037 - val_accuracy: 0.7870\n",
      "Epoch 5/9\n",
      "7982/7982 [==============================] - 1s 99us/sample - loss: 0.6408 - accuracy: 0.8639 - val_loss: 0.9365 - val_accuracy: 0.7970\n",
      "Epoch 6/9\n",
      "7982/7982 [==============================] - 1s 98us/sample - loss: 0.5130 - accuracy: 0.8900 - val_loss: 0.9066 - val_accuracy: 0.8120\n",
      "Epoch 7/9\n",
      "7982/7982 [==============================] - 1s 96us/sample - loss: 0.4167 - accuracy: 0.9142 - val_loss: 0.8778 - val_accuracy: 0.8180\n",
      "Epoch 8/9\n",
      "7982/7982 [==============================] - 1s 96us/sample - loss: 0.3391 - accuracy: 0.9280 - val_loss: 0.8597 - val_accuracy: 0.8290\n",
      "Epoch 9/9\n",
      "7982/7982 [==============================] - 1s 93us/sample - loss: 0.2772 - accuracy: 0.9386 - val_loss: 0.8810 - val_accuracy: 0.8240\n"
     ]
    },
    {
     "data": {
      "text/plain": [
       "<tensorflow.python.keras.callbacks.History at 0x1ba52e248c8>"
      ]
     },
     "execution_count": 18,
     "metadata": {},
     "output_type": "execute_result"
    }
   ],
   "source": [
    "model = models.Sequential()\n",
    "model.add(layers.Dense(64, activation='relu', input_shape=(10000,)))\n",
    "model.add(layers.Dense(64, activation='relu'))\n",
    "model.add(layers.Dense(46, activation='softmax'))\n",
    "\n",
    "model.compile(optimizer='rmsprop',\n",
    "              loss='categorical_crossentropy',\n",
    "              metrics=['accuracy'])\n",
    "\n",
    "model.fit(partial_x_train,\n",
    "          partial_y_train,\n",
    "          epochs=9,\n",
    "          batch_size=512,\n",
    "          validation_data=(x_val, y_val))"
   ]
  },
  {
   "cell_type": "markdown",
   "metadata": {},
   "source": [
    "Para avaliar o resultado, vamos rodar o modelo com a parte de teste que separamos do dataset. "
   ]
  },
  {
   "cell_type": "code",
   "execution_count": 19,
   "metadata": {},
   "outputs": [
    {
     "name": "stdout",
     "output_type": "stream",
     "text": [
      "2246/2246 - 0s - loss: 0.9937 - accuracy: 0.7898\n",
      "[0.9937268730156781, 0.7898486]\n"
     ]
    }
   ],
   "source": [
    "results = model.evaluate(x_test, one_hot_test_labels, verbose=2)\n",
    "print(results)"
   ]
  },
  {
   "cell_type": "markdown",
   "metadata": {},
   "source": [
    "A precisão é de quase 80%, o que é realmente muito bom!!\n",
    "\n",
    "Se a classificação for sorteada aleatoriamente, a precisão do problema de classificação binária é de 50%, e a precisão da classificação para 46 categorias é inferior a 19%:"
   ]
  },
  {
   "cell_type": "code",
   "execution_count": 20,
   "metadata": {},
   "outputs": [
    {
     "data": {
      "text/plain": [
       "0.18432769367764915"
      ]
     },
     "execution_count": 20,
     "metadata": {},
     "output_type": "execute_result"
    }
   ],
   "source": [
    "import copy\n",
    "\n",
    "test_labels_copy = copy.copy(test_labels)\n",
    "np.random.shuffle(test_labels_copy)\n",
    "hits_array = np.array(test_labels) == np.array(test_labels_copy)\n",
    "float(np.sum(hits_array)) / len(test_labels)"
   ]
  },
  {
   "cell_type": "markdown",
   "metadata": {},
   "source": [
    "Ao chamar o método de previsão da instância do modelo, a distribuição de probabilidade da entrada em 46 categorias pode ser obtida:"
   ]
  },
  {
   "cell_type": "code",
   "execution_count": 21,
   "metadata": {},
   "outputs": [
    {
     "data": {
      "text/plain": [
       "array([[1.72275861e-04, 1.68348997e-04, 4.63836950e-05, ...,\n",
       "        8.00226735e-06, 1.01900687e-05, 2.32556113e-06],\n",
       "       [3.01082386e-03, 1.01267412e-01, 1.44674396e-03, ...,\n",
       "        3.32008087e-04, 8.47177071e-05, 2.29866528e-05],\n",
       "       [4.58389102e-03, 5.92218876e-01, 1.33225229e-02, ...,\n",
       "        5.66237979e-03, 5.89500531e-04, 3.23004875e-04],\n",
       "       ...,\n",
       "       [4.80548042e-05, 1.89294369e-04, 2.25114527e-05, ...,\n",
       "        1.20536615e-05, 6.79310324e-06, 2.04386129e-06],\n",
       "       [2.23178230e-03, 3.54308337e-01, 9.42209084e-03, ...,\n",
       "        3.22150532e-04, 1.89892249e-03, 3.75262520e-04],\n",
       "       [2.95035221e-04, 6.45685315e-01, 1.07156849e-02, ...,\n",
       "        2.72086152e-04, 2.55448977e-04, 1.16469775e-04]], dtype=float32)"
      ]
     },
     "execution_count": 21,
     "metadata": {},
     "output_type": "execute_result"
    }
   ],
   "source": [
    "predictions = model.predict(x_test)\n",
    "predictions"
   ]
  },
  {
   "cell_type": "code",
   "execution_count": 22,
   "metadata": {},
   "outputs": [
    {
     "data": {
      "text/plain": [
       "(46,)"
      ]
     },
     "execution_count": 22,
     "metadata": {},
     "output_type": "execute_result"
    }
   ],
   "source": [
    "# Representa a possibilidade de 46 classificações\n",
    "predictions[0].shape"
   ]
  },
  {
   "cell_type": "code",
   "execution_count": 23,
   "metadata": {},
   "outputs": [
    {
     "data": {
      "text/plain": [
       "1.0000004"
      ]
     },
     "execution_count": 23,
     "metadata": {},
     "output_type": "execute_result"
    }
   ],
   "source": [
    "# A soma é 1\n",
    "np.sum(predictions[0])"
   ]
  },
  {
   "cell_type": "code",
   "execution_count": 24,
   "metadata": {},
   "outputs": [
    {
     "data": {
      "text/plain": [
       "3"
      ]
     },
     "execution_count": 24,
     "metadata": {},
     "output_type": "execute_result"
    }
   ],
   "source": [
    "# O maior, que achamos que esta notícia pertence a esta categoria\n",
    "np.argmax(predictions[0])"
   ]
  },
  {
   "cell_type": "markdown",
   "metadata": {},
   "source": [
    "### Outra maneira de lidar com rótulos e perdas:\n",
    "Conforme mencionado anteriormente, os rótulos podem usar codificação one-hot ou processar rótulos diretamente em tensores inteiros:"
   ]
  },
  {
   "cell_type": "code",
   "execution_count": 25,
   "metadata": {},
   "outputs": [],
   "source": [
    "y_train = np.array(train_labels)\n",
    "y_test = np.array(test_labels)"
   ]
  },
  {
   "cell_type": "markdown",
   "metadata": {},
   "source": [
    "Nesse caso, a função de perda também deve ser alterada para sparse_categorical_crossentropy, que é o mesmo matematicamente que categorical_crossentropy, mas a interface é diferente:"
   ]
  },
  {
   "cell_type": "code",
   "execution_count": 26,
   "metadata": {},
   "outputs": [],
   "source": [
    "model.compile(optimizer='rmsprop',\n",
    "               loss='sparse_categorical_crossentropy',\n",
    "               metrics=['acc'])"
   ]
  },
  {
   "cell_type": "markdown",
   "metadata": {},
   "source": [
    "A importância de uma camada intermediária suficientemente grande\n",
    "Discutimos anteriormente sobre o \"gargalo de informações\" e, em seguida, dissemos que para esta rede de resultados de 46 dimensões, a dimensionalidade da camada intermediária deve ser grande o suficiente!\n",
    "\n",
    "Agora vamos tentar se não é grande o suficiente (causando gargalo de informação). Vamos exagerar um pouco e reduzir de 64 para 4:"
   ]
  },
  {
   "cell_type": "code",
   "execution_count": 27,
   "metadata": {},
   "outputs": [
    {
     "name": "stdout",
     "output_type": "stream",
     "text": [
      "Train on 7982 samples, validate on 1000 samples\n",
      "Epoch 1/20\n",
      "7982/7982 [==============================] - 2s 240us/sample - loss: 2.8907 - accuracy: 0.2814 - val_loss: 2.1078 - val_accuracy: 0.4820\n",
      "Epoch 2/20\n",
      "7982/7982 [==============================] - 1s 145us/sample - loss: 1.7547 - accuracy: 0.5798 - val_loss: 1.5782 - val_accuracy: 0.6130\n",
      "Epoch 3/20\n",
      "7982/7982 [==============================] - 1s 145us/sample - loss: 1.4202 - accuracy: 0.6206 - val_loss: 1.4513 - val_accuracy: 0.6330\n",
      "Epoch 4/20\n",
      "7982/7982 [==============================] - 1s 143us/sample - loss: 1.2605 - accuracy: 0.6580 - val_loss: 1.3956 - val_accuracy: 0.6600\n",
      "Epoch 5/20\n",
      "7982/7982 [==============================] - 1s 143us/sample - loss: 1.1267 - accuracy: 0.7132 - val_loss: 1.3265 - val_accuracy: 0.6980\n",
      "Epoch 6/20\n",
      "7982/7982 [==============================] - 1s 165us/sample - loss: 1.0051 - accuracy: 0.7329 - val_loss: 1.3085 - val_accuracy: 0.6990\n",
      "Epoch 7/20\n",
      "7982/7982 [==============================] - 1s 154us/sample - loss: 0.9156 - accuracy: 0.7417 - val_loss: 1.2714 - val_accuracy: 0.7090\n",
      "Epoch 8/20\n",
      "7982/7982 [==============================] - 1s 149us/sample - loss: 0.8397 - accuracy: 0.7598 - val_loss: 1.3017 - val_accuracy: 0.7080\n",
      "Epoch 9/20\n",
      "7982/7982 [==============================] - 1s 149us/sample - loss: 0.7748 - accuracy: 0.7808 - val_loss: 1.3098 - val_accuracy: 0.7170\n",
      "Epoch 10/20\n",
      "7982/7982 [==============================] - 1s 145us/sample - loss: 0.7178 - accuracy: 0.8013 - val_loss: 1.3307 - val_accuracy: 0.7210\n",
      "Epoch 11/20\n",
      "7982/7982 [==============================] - 1s 143us/sample - loss: 0.6687 - accuracy: 0.8235 - val_loss: 1.3281 - val_accuracy: 0.7230\n",
      "Epoch 12/20\n",
      "7982/7982 [==============================] - 1s 145us/sample - loss: 0.6234 - accuracy: 0.8373 - val_loss: 1.3686 - val_accuracy: 0.7320\n",
      "Epoch 13/20\n",
      "7982/7982 [==============================] - 1s 157us/sample - loss: 0.5859 - accuracy: 0.8475 - val_loss: 1.4238 - val_accuracy: 0.7310\n",
      "Epoch 14/20\n",
      "7982/7982 [==============================] - 1s 170us/sample - loss: 0.5498 - accuracy: 0.8513 - val_loss: 1.4532 - val_accuracy: 0.7310\n",
      "Epoch 15/20\n",
      "7982/7982 [==============================] - 1s 160us/sample - loss: 0.5196 - accuracy: 0.8571 - val_loss: 1.4873 - val_accuracy: 0.7280\n",
      "Epoch 16/20\n",
      "7982/7982 [==============================] - 1s 160us/sample - loss: 0.4952 - accuracy: 0.8582 - val_loss: 1.5556 - val_accuracy: 0.7370 - loss: 0.4874 - accu\n",
      "Epoch 17/20\n",
      "7982/7982 [==============================] - 1s 165us/sample - loss: 0.4701 - accuracy: 0.8624 - val_loss: 1.5934 - val_accuracy: 0.7280\n",
      "Epoch 18/20\n",
      "7982/7982 [==============================] - 1s 183us/sample - loss: 0.4515 - accuracy: 0.8676 - val_loss: 1.6819 - val_accuracy: 0.7270\n",
      "Epoch 19/20\n",
      "7982/7982 [==============================] - ETA: 0s - loss: 0.4320 - accuracy: 0.86 - 2s 191us/sample - loss: 0.4331 - accuracy: 0.8688 - val_loss: 1.7074 - val_accuracy: 0.7290\n",
      "Epoch 20/20\n",
      "7982/7982 [==============================] - 1s 169us/sample - loss: 0.4156 - accuracy: 0.8741 - val_loss: 1.7900 - val_accuracy: 0.7240\n"
     ]
    },
    {
     "data": {
      "text/plain": [
       "<tensorflow.python.keras.callbacks.History at 0x1ba549af3c8>"
      ]
     },
     "execution_count": 27,
     "metadata": {},
     "output_type": "execute_result"
    }
   ],
   "source": [
    "model = models.Sequential()\n",
    "model.add(layers.Dense(64, activation='relu', input_shape=(10000,)))\n",
    "model.add(layers.Dense(4, activation='relu'))\n",
    "model.add(layers.Dense(46, activation='softmax'))\n",
    "\n",
    "model.compile(optimizer='rmsprop',\n",
    "              loss='categorical_crossentropy',\n",
    "              metrics=['accuracy'])\n",
    "\n",
    "model.fit(partial_x_train,\n",
    "          partial_y_train,\n",
    "          epochs=20,\n",
    "          batch_size=128,\n",
    "          validation_data=(x_val, y_val))"
   ]
  },
  {
   "cell_type": "markdown",
   "metadata": {},
   "source": [
    "Veja só, este treinamento não é um pouco pior do que o anterior de 64 dimensões.\n",
    "\n",
    "Essa queda no efeito ocorre porque a dimensão espacial que você aprendeu para ele é muito baixa e ele descarta muitas informações úteis para classificação.\n",
    "\n",
    "Quanto maior, melhor? Vamos tentar ampliar a camada do meio:"
   ]
  },
  {
   "cell_type": "code",
   "execution_count": 28,
   "metadata": {},
   "outputs": [
    {
     "name": "stdout",
     "output_type": "stream",
     "text": [
      "Train on 7982 samples, validate on 1000 samples\n",
      "Epoch 1/20\n",
      "7982/7982 [==============================] - 3s 353us/sample - loss: 1.5480 - accuracy: 0.6315 - val_loss: 1.1160 - val_accuracy: 0.7320\n",
      "Epoch 2/20\n",
      "7982/7982 [==============================] - 2s 268us/sample - loss: 0.8374 - accuracy: 0.7964 - val_loss: 1.0251 - val_accuracy: 0.7610\n",
      "Epoch 3/20\n",
      "7982/7982 [==============================] - 2s 255us/sample - loss: 0.5120 - accuracy: 0.8738 - val_loss: 0.9627 - val_accuracy: 0.7970\n",
      "Epoch 4/20\n",
      "7982/7982 [==============================] - 2s 267us/sample - loss: 0.3249 - accuracy: 0.9198 - val_loss: 1.0095 - val_accuracy: 0.8010\n",
      "Epoch 5/20\n",
      "7982/7982 [==============================] - 2s 251us/sample - loss: 0.2273 - accuracy: 0.9421 - val_loss: 1.2236 - val_accuracy: 0.8040\n",
      "Epoch 6/20\n",
      "7982/7982 [==============================] - 2s 254us/sample - loss: 0.1829 - accuracy: 0.9490 - val_loss: 1.3214 - val_accuracy: 0.7840\n",
      "Epoch 7/20\n",
      "7982/7982 [==============================] - 2s 244us/sample - loss: 0.1579 - accuracy: 0.9529 - val_loss: 1.2003 - val_accuracy: 0.8030\n",
      "Epoch 8/20\n",
      "7982/7982 [==============================] - 2s 245us/sample - loss: 0.1452 - accuracy: 0.9541 - val_loss: 1.2515 - val_accuracy: 0.8070\n",
      "Epoch 9/20\n",
      "7982/7982 [==============================] - 2s 245us/sample - loss: 0.1320 - accuracy: 0.9546 - val_loss: 1.3034 - val_accuracy: 0.8070\n",
      "Epoch 10/20\n",
      "7982/7982 [==============================] - 2s 248us/sample - loss: 0.1139 - accuracy: 0.9592 - val_loss: 1.5822 - val_accuracy: 0.7920\n",
      "Epoch 11/20\n",
      "7982/7982 [==============================] - 2s 257us/sample - loss: 0.1069 - accuracy: 0.9538 - val_loss: 1.5369 - val_accuracy: 0.8040\n",
      "Epoch 12/20\n",
      "7982/7982 [==============================] - 2s 255us/sample - loss: 0.0977 - accuracy: 0.9574 - val_loss: 1.9367 - val_accuracy: 0.7970\n",
      "Epoch 13/20\n",
      "7982/7982 [==============================] - 2s 245us/sample - loss: 0.0932 - accuracy: 0.9551 - val_loss: 2.1207 - val_accuracy: 0.7960\n",
      "Epoch 14/20\n",
      "7982/7982 [==============================] - 2s 247us/sample - loss: 0.0869 - accuracy: 0.9582 - val_loss: 2.2398 - val_accuracy: 0.8010\n",
      "Epoch 15/20\n",
      "7982/7982 [==============================] - 2s 246us/sample - loss: 0.0839 - accuracy: 0.9595 - val_loss: 2.3261 - val_accuracy: 0.7960\n",
      "Epoch 16/20\n",
      "7982/7982 [==============================] - 2s 247us/sample - loss: 0.0788 - accuracy: 0.9573 - val_loss: 2.5477 - val_accuracy: 0.7960\n",
      "Epoch 17/20\n",
      "7982/7982 [==============================] - 2s 251us/sample - loss: 0.0771 - accuracy: 0.9592 - val_loss: 2.9290 - val_accuracy: 0.7950\n",
      "Epoch 18/20\n",
      "7982/7982 [==============================] - 2s 267us/sample - loss: 0.0794 - accuracy: 0.9592 - val_loss: 2.8049 - val_accuracy: 0.7940\n",
      "Epoch 19/20\n",
      "7982/7982 [==============================] - 2s 289us/sample - loss: 0.0689 - accuracy: 0.9590 - val_loss: 3.0987 - val_accuracy: 0.7970\n",
      "Epoch 20/20\n",
      "7982/7982 [==============================] - 2s 285us/sample - loss: 0.0714 - accuracy: 0.9604 - val_loss: 3.3213 - val_accuracy: 0.7930\n"
     ]
    },
    {
     "data": {
      "text/plain": [
       "<tensorflow.python.keras.callbacks.History at 0x1ba5438e188>"
      ]
     },
     "execution_count": 28,
     "metadata": {},
     "output_type": "execute_result"
    }
   ],
   "source": [
    "model = models.Sequential()\n",
    "model.add(layers.Dense(64, activation='relu', input_shape=(10000,)))\n",
    "model.add(layers.Dense(4096, activation='relu'))\n",
    "model.add(layers.Dense(46, activation='softmax'))\n",
    "\n",
    "model.compile(optimizer='rmsprop',\n",
    "              loss='categorical_crossentropy',\n",
    "              metrics=['accuracy'])\n",
    "\n",
    "model.fit(partial_x_train,\n",
    "          partial_y_train,\n",
    "          epochs=20,\n",
    "          batch_size=128,\n",
    "          validation_data=(x_val, y_val))"
   ]
  },
  {
   "cell_type": "markdown",
   "metadata": {},
   "source": [
    "Percebe-se que o tempo de treinamento foi um pouco mais longo, e o computador esquentou um pouco, mas o efeito não melhorou muito. Isso ocorre porque a entrada da primeira camada para a camada do meio tem apenas 64 dimensões. Não importa quão grande seja a camada do meio, ela é restrita pelo gargalo da primeira camada.\n",
    "\n",
    "Vamos tentar aumentar a primeira camada também!"
   ]
  },
  {
   "cell_type": "code",
   "execution_count": 29,
   "metadata": {},
   "outputs": [
    {
     "name": "stdout",
     "output_type": "stream",
     "text": [
      "Train on 7982 samples, validate on 1000 samples\n",
      "Epoch 1/20\n",
      "7982/7982 [==============================] - 8s 967us/sample - loss: 1.3473 - accuracy: 0.6969 - val_loss: 0.9965 - val_accuracy: 0.7700\n",
      "Epoch 2/20\n",
      "7982/7982 [==============================] - 6s 769us/sample - loss: 0.5329 - accuracy: 0.8814 - val_loss: 0.8300 - val_accuracy: 0.8060\n",
      "Epoch 3/20\n",
      "7982/7982 [==============================] - 6s 759us/sample - loss: 0.2796 - accuracy: 0.9352 - val_loss: 1.1440 - val_accuracy: 0.7360\n",
      "Epoch 4/20\n",
      "7982/7982 [==============================] - 6s 754us/sample - loss: 0.2072 - accuracy: 0.9460 - val_loss: 0.9644 - val_accuracy: 0.7960\n",
      "Epoch 5/20\n",
      "7982/7982 [==============================] - 6s 780us/sample - loss: 0.1664 - accuracy: 0.9501 - val_loss: 1.0272 - val_accuracy: 0.8160\n",
      "Epoch 6/20\n",
      "7982/7982 [==============================] - 6s 755us/sample - loss: 0.1431 - accuracy: 0.9543 - val_loss: 1.0107 - val_accuracy: 0.8250\n",
      "Epoch 7/20\n",
      "7982/7982 [==============================] - 6s 763us/sample - loss: 0.1271 - accuracy: 0.9541 - val_loss: 1.3596 - val_accuracy: 0.7980\n",
      "Epoch 8/20\n",
      "7982/7982 [==============================] - 6s 770us/sample - loss: 0.1103 - accuracy: 0.9543 - val_loss: 1.2719 - val_accuracy: 0.8140\n",
      "Epoch 9/20\n",
      "7982/7982 [==============================] - 6s 763us/sample - loss: 0.0988 - accuracy: 0.9567 - val_loss: 1.7214 - val_accuracy: 0.8080\n",
      "Epoch 10/20\n",
      "7982/7982 [==============================] - 6s 773us/sample - loss: 0.0928 - accuracy: 0.9549 - val_loss: 1.6215 - val_accuracy: 0.8080\n",
      "Epoch 11/20\n",
      "7982/7982 [==============================] - 6s 771us/sample - loss: 0.0852 - accuracy: 0.9573 - val_loss: 2.0035 - val_accuracy: 0.8120\n",
      "Epoch 12/20\n",
      "7982/7982 [==============================] - 6s 778us/sample - loss: 0.0815 - accuracy: 0.9574 - val_loss: 2.0484 - val_accuracy: 0.8050\n",
      "Epoch 13/20\n",
      "7982/7982 [==============================] - 6s 775us/sample - loss: 0.0770 - accuracy: 0.9592 - val_loss: 2.1293 - val_accuracy: 0.8090\n",
      "Epoch 14/20\n",
      "7982/7982 [==============================] - 6s 758us/sample - loss: 0.0744 - accuracy: 0.9582 - val_loss: 2.2331 - val_accuracy: 0.8050\n",
      "Epoch 15/20\n",
      "7982/7982 [==============================] - 6s 773us/sample - loss: 0.0696 - accuracy: 0.9545 - val_loss: 2.7138 - val_accuracy: 0.7980\n",
      "Epoch 16/20\n",
      "7982/7982 [==============================] - 6s 770us/sample - loss: 0.0700 - accuracy: 0.9572 - val_loss: 2.7625 - val_accuracy: 0.8030\n",
      "Epoch 17/20\n",
      "7982/7982 [==============================] - 6s 766us/sample - loss: 0.0711 - accuracy: 0.9585 - val_loss: 2.9917 - val_accuracy: 0.7910\n",
      "Epoch 18/20\n",
      "7982/7982 [==============================] - 6s 782us/sample - loss: 0.0672 - accuracy: 0.9592 - val_loss: 2.9442 - val_accuracy: 0.7960\n",
      "Epoch 19/20\n",
      "7982/7982 [==============================] - 6s 768us/sample - loss: 0.0670 - accuracy: 0.9602 - val_loss: 3.1239 - val_accuracy: 0.8060\n",
      "Epoch 20/20\n",
      "7982/7982 [==============================] - 6s 775us/sample - loss: 0.0632 - accuracy: 0.9583 - val_loss: 3.5381 - val_accuracy: 0.7890\n"
     ]
    },
    {
     "data": {
      "text/plain": [
       "<tensorflow.python.keras.callbacks.History at 0x1ba6315cd88>"
      ]
     },
     "execution_count": 29,
     "metadata": {},
     "output_type": "execute_result"
    }
   ],
   "source": [
    "model = models.Sequential()\n",
    "model.add(layers.Dense(512, activation='relu', input_shape=(10000,)))\n",
    "model.add(layers.Dense(512, activation='relu'))\n",
    "model.add(layers.Dense(46, activation='softmax'))\n",
    "\n",
    "model.compile(optimizer='rmsprop',\n",
    "              loss='categorical_crossentropy',\n",
    "              metrics=['accuracy'])\n",
    "\n",
    "model.fit(partial_x_train,\n",
    "          partial_y_train,\n",
    "          epochs=20,\n",
    "          batch_size=128,\n",
    "          validation_data=(x_val, y_val))"
   ]
  },
  {
   "cell_type": "markdown",
   "metadata": {},
   "source": [
    "Um pouco menor, originalmente usado 4096, mas é muito grande\n",
    "\n",
    "Vamos plotar um gráfico para avaliar melhor o resultado: "
   ]
  },
  {
   "cell_type": "code",
   "execution_count": 30,
   "metadata": {},
   "outputs": [
    {
     "data": {
      "image/png": "[encoded data removed]",
      "text/plain": [
       "<Figure size 432x288 with 1 Axes>"
      ]
     },
     "metadata": {
      "needs_background": "light"
     },
     "output_type": "display_data"
    }
   ],
   "source": [
    "\n",
    "import matplotlib.pyplot as plt\n",
    "\n",
    "loss = _.history['loss']\n",
    "val_loss = _.history['val_loss']\n",
    "epochs = range(1, len(loss) + 1)\n",
    "\n",
    "plt.plot(epochs, loss, 'bo-', label='Training loss')\n",
    "plt.plot(epochs, val_loss, 'rs-', label='Validation loss')\n",
    "plt.title('Training and validation loss')\n",
    "plt.xlabel('Epochs')\n",
    "plt.ylabel('Loss')\n",
    "plt.legend()\n",
    "plt.show()"
   ]
  },
  {
   "cell_type": "markdown",
   "metadata": {},
   "source": [
    "Portanto, muito grande não é bom. \n",
    "\n",
    "Vamos tentar usar menos camadas:"
   ]
  },
  {
   "cell_type": "code",
   "execution_count": 31,
   "metadata": {},
   "outputs": [
    {
     "name": "stdout",
     "output_type": "stream",
     "text": [
      "Train on 7982 samples, validate on 1000 samples\n",
      "Epoch 1/20\n",
      "7982/7982 [==============================] - 2s 198us/sample - loss: 2.4874 - accuracy: 0.5862 - val_loss: 1.8713 - val_accuracy: 0.6470\n",
      "Epoch 2/20\n",
      "7982/7982 [==============================] - 1s 128us/sample - loss: 1.4303 - accuracy: 0.7141 - val_loss: 1.3829 - val_accuracy: 0.7010\n",
      "Epoch 3/20\n",
      "7982/7982 [==============================] - 1s 128us/sample - loss: 0.9820 - accuracy: 0.7894 - val_loss: 1.1543 - val_accuracy: 0.7630\n",
      "Epoch 4/20\n",
      "7982/7982 [==============================] - 1s 129us/sample - loss: 0.7301 - accuracy: 0.8504 - val_loss: 1.0398 - val_accuracy: 0.7840\n",
      "Epoch 5/20\n",
      "7982/7982 [==============================] - 1s 131us/sample - loss: 0.5795 - accuracy: 0.8824 - val_loss: 0.9856 - val_accuracy: 0.7950\n",
      "Epoch 6/20\n",
      "7982/7982 [==============================] - 1s 130us/sample - loss: 0.4796 - accuracy: 0.9032 - val_loss: 0.9617 - val_accuracy: 0.7980\n",
      "Epoch 7/20\n",
      "7982/7982 [==============================] - 1s 134us/sample - loss: 0.4095 - accuracy: 0.9144 - val_loss: 0.9537 - val_accuracy: 0.8020\n",
      "Epoch 8/20\n",
      "7982/7982 [==============================] - 1s 141us/sample - loss: 0.3582 - accuracy: 0.9247 - val_loss: 0.9609 - val_accuracy: 0.8020\n",
      "Epoch 9/20\n",
      "7982/7982 [==============================] - 1s 139us/sample - loss: 0.3186 - accuracy: 0.9321 - val_loss: 0.9640 - val_accuracy: 0.8090\n",
      "Epoch 10/20\n",
      "7982/7982 [==============================] - 1s 142us/sample - loss: 0.2870 - accuracy: 0.9372 - val_loss: 0.9860 - val_accuracy: 0.8060\n",
      "Epoch 11/20\n",
      "7982/7982 [==============================] - 1s 141us/sample - loss: 0.2611 - accuracy: 0.9402 - val_loss: 1.0006 - val_accuracy: 0.8080\n",
      "Epoch 12/20\n",
      "7982/7982 [==============================] - 1s 137us/sample - loss: 0.2400 - accuracy: 0.9442 - val_loss: 1.0252 - val_accuracy: 0.8010\n",
      "Epoch 13/20\n",
      "7982/7982 [==============================] - 1s 130us/sample - loss: 0.2217 - accuracy: 0.9471 - val_loss: 1.0439 - val_accuracy: 0.8050\n",
      "Epoch 14/20\n",
      "7982/7982 [==============================] - 1s 134us/sample - loss: 0.2067 - accuracy: 0.9493 - val_loss: 1.0658 - val_accuracy: 0.8010\n",
      "Epoch 15/20\n",
      "7982/7982 [==============================] - 1s 140us/sample - loss: 0.1934 - accuracy: 0.9504 - val_loss: 1.0891 - val_accuracy: 0.8030\n",
      "Epoch 16/20\n",
      "7982/7982 [==============================] - 1s 135us/sample - loss: 0.1822 - accuracy: 0.9523 - val_loss: 1.1158 - val_accuracy: 0.8000\n",
      "Epoch 17/20\n",
      "7982/7982 [==============================] - 1s 138us/sample - loss: 0.1722 - accuracy: 0.9538 - val_loss: 1.1374 - val_accuracy: 0.7990\n",
      "Epoch 18/20\n",
      "7982/7982 [==============================] - 1s 131us/sample - loss: 0.1632 - accuracy: 0.9548 - val_loss: 1.1648 - val_accuracy: 0.7980\n",
      "Epoch 19/20\n",
      "7982/7982 [==============================] - 1s 132us/sample - loss: 0.1553 - accuracy: 0.9564 - val_loss: 1.1886 - val_accuracy: 0.7990\n",
      "Epoch 20/20\n",
      "7982/7982 [==============================] - 1s 130us/sample - loss: 0.1487 - accuracy: 0.9555 - val_loss: 1.2085 - val_accuracy: 0.7990\n"
     ]
    },
    {
     "data": {
      "image/png": "[encoded data removed]",
      "text/plain": [
       "<Figure size 432x288 with 1 Axes>"
      ]
     },
     "metadata": {
      "needs_background": "light"
     },
     "output_type": "display_data"
    }
   ],
   "source": [
    "model = models.Sequential()\n",
    "model.add(layers.Dense(46, activation='softmax', input_shape=(10000,)))\n",
    "\n",
    "model.compile(optimizer='rmsprop',\n",
    "              loss='categorical_crossentropy',\n",
    "              metrics=['accuracy'])\n",
    "\n",
    "history = model.fit(partial_x_train,\n",
    "          partial_y_train,\n",
    "          epochs=20,\n",
    "          batch_size=128,\n",
    "          validation_data=(x_val, y_val))\n",
    "\n",
    "loss = history.history['loss']\n",
    "val_loss = history.history['val_loss']\n",
    "epochs = range(1, len(loss) + 1)\n",
    "\n",
    "plt.plot(epochs, loss, 'bo-', label='Training loss')\n",
    "plt.plot(epochs, val_loss, 'rs-', label='Validation loss')\n",
    "plt.title('Training and validation loss')\n",
    "plt.xlabel('Epochs')\n",
    "plt.ylabel('Loss')\n",
    "plt.legend()\n",
    "plt.show()"
   ]
  },
  {
   "cell_type": "markdown",
   "metadata": {},
   "source": [
    "Vamos! O resultado é um pouco pior.\n",
    "\n",
    "Agora usando Mais camadas"
   ]
  },
  {
   "cell_type": "code",
   "execution_count": 32,
   "metadata": {},
   "outputs": [
    {
     "name": "stdout",
     "output_type": "stream",
     "text": [
      "Train on 7982 samples, validate on 1000 samples\n",
      "Epoch 1/20\n",
      "7982/7982 [==============================] - 2s 250us/sample - loss: 1.8284 - accuracy: 0.5811 - val_loss: 1.2636 - val_accuracy: 0.7000\n",
      "Epoch 2/20\n",
      "7982/7982 [==============================] - 1s 146us/sample - loss: 1.0526 - accuracy: 0.7493 - val_loss: 1.1824 - val_accuracy: 0.7160\n",
      "Epoch 3/20\n",
      "7982/7982 [==============================] - 1s 153us/sample - loss: 0.7345 - accuracy: 0.8301 - val_loss: 1.0298 - val_accuracy: 0.7730\n",
      "Epoch 4/20\n",
      "7982/7982 [==============================] - 1s 155us/sample - loss: 0.5163 - accuracy: 0.8827 - val_loss: 1.0095 - val_accuracy: 0.8010\n",
      "Epoch 5/20\n",
      "7982/7982 [==============================] - 1s 156us/sample - loss: 0.3664 - accuracy: 0.9179 - val_loss: 1.1162 - val_accuracy: 0.7720\n",
      "Epoch 6/20\n",
      "7982/7982 [==============================] - 1s 156us/sample - loss: 0.2792 - accuracy: 0.9365 - val_loss: 1.2895 - val_accuracy: 0.7630\n",
      "Epoch 7/20\n",
      "7982/7982 [==============================] - 1s 174us/sample - loss: 0.2327 - accuracy: 0.9459 - val_loss: 1.2028 - val_accuracy: 0.7730\n",
      "Epoch 8/20\n",
      "7982/7982 [==============================] - 1s 166us/sample - loss: 0.1916 - accuracy: 0.9488 - val_loss: 1.2966 - val_accuracy: 0.7750\n",
      "Epoch 9/20\n",
      "7982/7982 [==============================] - 1s 172us/sample - loss: 0.1793 - accuracy: 0.9531 - val_loss: 1.2257 - val_accuracy: 0.7810\n",
      "Epoch 10/20\n",
      "7982/7982 [==============================] - 1s 166us/sample - loss: 0.1592 - accuracy: 0.9557 - val_loss: 1.3512 - val_accuracy: 0.7710\n",
      "Epoch 11/20\n",
      "7982/7982 [==============================] - 1s 165us/sample - loss: 0.1469 - accuracy: 0.9536 - val_loss: 1.5068 - val_accuracy: 0.7550\n",
      "Epoch 12/20\n",
      "7982/7982 [==============================] - 2s 189us/sample - loss: 0.1383 - accuracy: 0.9567 - val_loss: 1.3004 - val_accuracy: 0.7790\n",
      "Epoch 13/20\n",
      "7982/7982 [==============================] - 1s 175us/sample - loss: 0.1295 - accuracy: 0.9560 - val_loss: 1.4520 - val_accuracy: 0.7630\n",
      "Epoch 14/20\n",
      "7982/7982 [==============================] - 1s 161us/sample - loss: 0.1245 - accuracy: 0.9578 - val_loss: 1.4946 - val_accuracy: 0.7710\n",
      "Epoch 15/20\n",
      "7982/7982 [==============================] - 1s 159us/sample - loss: 0.1178 - accuracy: 0.9563 - val_loss: 1.3928 - val_accuracy: 0.7670\n",
      "Epoch 16/20\n",
      "7982/7982 [==============================] - 1s 158us/sample - loss: 0.1105 - accuracy: 0.9560 - val_loss: 1.4932 - val_accuracy: 0.7750\n",
      "Epoch 17/20\n",
      "7982/7982 [==============================] - 1s 157us/sample - loss: 0.1056 - accuracy: 0.9559 - val_loss: 1.5471 - val_accuracy: 0.7640\n",
      "Epoch 18/20\n",
      "7982/7982 [==============================] - 1s 158us/sample - loss: 0.1021 - accuracy: 0.9564 - val_loss: 1.7483 - val_accuracy: 0.7630\n",
      "Epoch 19/20\n",
      "7982/7982 [==============================] - 1s 167us/sample - loss: 0.0975 - accuracy: 0.9584 - val_loss: 1.7507 - val_accuracy: 0.7780\n",
      "Epoch 20/20\n",
      "7982/7982 [==============================] - 1s 165us/sample - loss: 0.0957 - accuracy: 0.9578 - val_loss: 1.7294 - val_accuracy: 0.7710\n"
     ]
    },
    {
     "data": {
      "image/png": "[encoded data removed]",
      "text/plain": [
       "<Figure size 432x288 with 1 Axes>"
      ]
     },
     "metadata": {
      "needs_background": "light"
     },
     "output_type": "display_data"
    }
   ],
   "source": [
    "model = models.Sequential()\n",
    "model.add(layers.Dense(64, activation='relu', input_shape=(10000,)))\n",
    "model.add(layers.Dense(64, activation='relu'))\n",
    "model.add(layers.Dense(64, activation='relu'))\n",
    "model.add(layers.Dense(64, activation='relu'))\n",
    "model.add(layers.Dense(46, activation='softmax'))\n",
    "\n",
    "model.compile(optimizer='rmsprop',\n",
    "              loss='categorical_crossentropy',\n",
    "              metrics=['accuracy'])\n",
    "\n",
    "history = model.fit(partial_x_train,\n",
    "          partial_y_train,\n",
    "          epochs=20,\n",
    "          batch_size=128,\n",
    "          validation_data=(x_val, y_val))\n",
    "\n",
    "loss = history.history['loss']\n",
    "val_loss = history.history['val_loss']\n",
    "epochs = range(1, len(loss) + 1)\n",
    "\n",
    "plt.plot(epochs, loss, 'bo-', label='Training loss')\n",
    "plt.plot(epochs, val_loss, 'rs-', label='Validation loss')\n",
    "plt.title('Training and validation loss')\n",
    "plt.xlabel('Epochs')\n",
    "plt.ylabel('Loss')\n",
    "plt.legend()\n",
    "plt.show()"
   ]
  },
  {
   "cell_type": "markdown",
   "metadata": {},
   "source": [
    "Então podemos concluir que nem sempre mais é melhor, mas também menos não quer dizer pior. ;) "
   ]
  }
 ],
 "metadata": {
  "kernelspec": {
   "display_name": "Python 3",
   "language": "python",
   "name": "python3"
  },
  "language_info": {
   "codemirror_mode": {
    "name": "ipython",
    "version": 3
   },
   "file_extension": ".py",
   "mimetype": "text/x-python",
   "name": "python",
   "nbconvert_exporter": "python",
   "pygments_lexer": "ipython3",
   "version": "3.7.9"
  }
 },
 "nbformat": 4,
 "nbformat_minor": 4
}
