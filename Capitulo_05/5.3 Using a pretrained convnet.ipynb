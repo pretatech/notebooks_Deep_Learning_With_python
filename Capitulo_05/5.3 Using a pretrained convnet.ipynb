{
 "cells": [
  {
   "cell_type": "markdown",
   "metadata": {},
   "source": [
    "# Deep Learning with Python\n",
    "\n",
    "## 5.3 Using a pretrained convnet\n",
    "\n",
    "Para pequenos conjuntos de dados de imagem, um método eficiente que costumamos usar é usar uma rede pré-treinada para construir um modelo de aprendizado profundo. A rede pré-treinada é uma rede que foi previamente treinada em grandes conjuntos de dados (geralmente treinada em grandes tarefas de classificação de imagens). Se o conjunto de pré-treinamento usa dados suficientes e o modelo é suficientemente generalizado, a hierarquia espacial aprendida pela rede de pré-treinamento pode ser usada efetivamente como um modelo geral para refletir o mundo visual real, para que possa ser usada para vários problemas de visão computacional , Mesmo que o novo problema não tenha nada a ver com a tarefa original.\n",
    "\n",
    "Por exemplo, podemos usar uma rede pré-treinada no ImageNet (este conjunto de dados tem 1,4 milhão de imagens, 1.000 categorias diferentes, principalmente animais e diversas necessidades diárias) para lidar com o problema de classificação de cães e gatos. Usaremos a arquitetura VGG16.\n",
    "\n",
    "Existem duas maneiras de usar a rede pré-treinada: * extração de recursos * (extração de recursos) e * modelo de ajuste fino * (ajuste fino)."
   ]
  },
  {
   "cell_type": "markdown",
   "metadata": {},
   "source": [
    "Antes de mais nada os notebooks aqui mostrado tiveram como base/foram retirados dos seguintes repositórios: \n",
    " > https://github.com/fchollet/deep-learning-with-python-notebooks \n",
    " \n",
    " \n",
    " > https://github.com/cdfmlr/Deep-Learning-with-Python-Notebooks\n",
    " \n",
    " Sugiro fortemente que consultem os códigos originais e em caso de dúvida podem me contatar para conversarmos. "
   ]
  },
  {
   "cell_type": "markdown",
   "metadata": {},
   "source": [
    "### Extração de característica\n",
    "\n",
    "A extração de recursos é usar as representações aprendidas pela rede anterior para extrair os recursos necessários da nova amostra, inserir um novo classificador e iniciar o treinamento do zero.\n",
    "\n",
    "No exemplo anterior de rede neural convolucional, sabemos que o modelo que usamos para classificação de imagens pode ser dividido em duas partes:\n",
    "\n",
    "-Base de convolução: camada anterior de convolução e pooling;\n",
    "-Classificador: a camada intimamente conectada atrás;\n",
    "\n",
    "Na rede pré-treinada, o grau geral de representação de recursos que pode ser extraído depende de sua profundidade. Quanto menos camadas são mais versáteis (por exemplo, a cor, bordas, texturas da imagem, etc.), e quanto mais camadas contêm mais informações abstratas (por exemplo, há olhos de um gato, etc.). Portanto, se o problema original tratado pela rede de pré-treinamento está muito distante do problema com o qual estamos lidando, é apenas porque as primeiras camadas devem ser usadas em vez de toda a base convolucional.\n",
    "\n",
    "Agora, vamos praticar. Usaremos o modelo VGG16 pré-treinado na ImageNet para lidar com o problema de classificação de cães e gatos. Manteremos a base convolucional inalterada e mudaremos o classificador.\n",
    "\n",
    "O modelo VGG16 é integrado ao Keras, basta usá-lo diretamente:"
   ]
  },
  {
   "cell_type": "code",
   "execution_count": 1,
   "metadata": {},
   "outputs": [],
   "source": [
    "from tensorflow.keras.applications import VGG16\n",
    "\n",
    "conv_base = VGG16(weights='imagenet',        # Especifique o ponto de verificação de peso para inicialização do modelo\n",
    "                  include_top=False,         # Se deve incluir o classificador de camada final densamente conectado\n",
    "                  input_shape=(150, 150, 3)) # Forma de entrada, pode lidar com a entrada de forma arbitrária sem passar"
   ]
  },
  {
   "cell_type": "code",
   "execution_count": 2,
   "metadata": {},
   "outputs": [
    {
     "name": "stdout",
     "output_type": "stream",
     "text": [
      "Model: \"vgg16\"\n",
      "_________________________________________________________________\n",
      "Layer (type)                 Output Shape              Param #   \n",
      "=================================================================\n",
      "input_1 (InputLayer)         [(None, 150, 150, 3)]     0         \n",
      "_________________________________________________________________\n",
      "block1_conv1 (Conv2D)        (None, 150, 150, 64)      1792      \n",
      "_________________________________________________________________\n",
      "block1_conv2 (Conv2D)        (None, 150, 150, 64)      36928     \n",
      "_________________________________________________________________\n",
      "block1_pool (MaxPooling2D)   (None, 75, 75, 64)        0         \n",
      "_________________________________________________________________\n",
      "block2_conv1 (Conv2D)        (None, 75, 75, 128)       73856     \n",
      "_________________________________________________________________\n",
      "block2_conv2 (Conv2D)        (None, 75, 75, 128)       147584    \n",
      "_________________________________________________________________\n",
      "block2_pool (MaxPooling2D)   (None, 37, 37, 128)       0         \n",
      "_________________________________________________________________\n",
      "block3_conv1 (Conv2D)        (None, 37, 37, 256)       295168    \n",
      "_________________________________________________________________\n",
      "block3_conv2 (Conv2D)        (None, 37, 37, 256)       590080    \n",
      "_________________________________________________________________\n",
      "block3_conv3 (Conv2D)        (None, 37, 37, 256)       590080    \n",
      "_________________________________________________________________\n",
      "block3_pool (MaxPooling2D)   (None, 18, 18, 256)       0         \n",
      "_________________________________________________________________\n",
      "block4_conv1 (Conv2D)        (None, 18, 18, 512)       1180160   \n",
      "_________________________________________________________________\n",
      "block4_conv2 (Conv2D)        (None, 18, 18, 512)       2359808   \n",
      "_________________________________________________________________\n",
      "block4_conv3 (Conv2D)        (None, 18, 18, 512)       2359808   \n",
      "_________________________________________________________________\n",
      "block4_pool (MaxPooling2D)   (None, 9, 9, 512)         0         \n",
      "_________________________________________________________________\n",
      "block5_conv1 (Conv2D)        (None, 9, 9, 512)         2359808   \n",
      "_________________________________________________________________\n",
      "block5_conv2 (Conv2D)        (None, 9, 9, 512)         2359808   \n",
      "_________________________________________________________________\n",
      "block5_conv3 (Conv2D)        (None, 9, 9, 512)         2359808   \n",
      "_________________________________________________________________\n",
      "block5_pool (MaxPooling2D)   (None, 4, 4, 512)         0         \n",
      "=================================================================\n",
      "Total params: 14,714,688\n",
      "Trainable params: 14,714,688\n",
      "Non-trainable params: 0\n",
      "_________________________________________________________________\n"
     ]
    }
   ],
   "source": [
    "#A arquitetura do modelo:\n",
    "conv_base.summary()"
   ]
  },
  {
   "cell_type": "markdown",
   "metadata": {},
   "source": [
    "Observe que a primeira entrada foi ajustada para o `(150, 150, 3)` desejado e a saída final é `(4, 4, 512)`, e iremos conectar ao nosso próprio classificador mais tarde. Existem duas maneiras:\n",
    "\n",
    "1. Execute nosso conjunto de dados atual nesta base convolucional e, em seguida, coloque o resultado em uma matriz Numpy, salve-o no disco e use essa matriz como entrada e jogue-a em uma rede densamente conectada para treinamento. Esse método é relativamente simples e só precisa calcular a parte da base convolucional que mais consome uma vez. No entanto, este método não pode usar o aprimoramento de dados.\n",
    "2. Expanda conv_base, adicione uma camada Densa atrás dela e, em seguida, execute toda a rede ponta a ponta nos dados de entrada, para que o aprimoramento de dados possa ser usado, mas o custo computacional é relativamente alto.\n",
    "\n",
    "Em primeiro lugar, fazemos o primeiro.\n",
    "\n",
    "#### Extração rápida de recursos, sem aprimoramento de dados\n",
    "\n",
    "Em geral, esse método salva a saída de nossos dados após passar conv_base e, em seguida, coloca essas saídas como entrada em um novo modelo.\n",
    "\n",
    "Aqui, ainda usamos ImageDataGenerator para extrair imagens e rótulos em matrizes Numpy. Em seguida, chame o método de previsão de conv_base para extrair recursos com o modelo pré-treinado."
   ]
  },
  {
   "cell_type": "code",
   "execution_count": 3,
   "metadata": {},
   "outputs": [
    {
     "name": "stdout",
     "output_type": "stream",
     "text": [
      "Found 2000 images belonging to 2 classes.\n",
      "Found 1000 images belonging to 2 classes.\n",
      "Found 1000 images belonging to 2 classes.\n"
     ]
    }
   ],
   "source": [
    "# Extraia recursos usando base convolucional pré-treinada\n",
    "\n",
    "import os\n",
    "import numpy as np\n",
    "from tensorflow.keras.preprocessing.image import ImageDataGenerator\n",
    "\n",
    "base_dir = '.../dogs-vs-cats/cats_and_dogs_small'\n",
    "train_dir = os.path.join(base_dir, 'train')\n",
    "validation_dir = os.path.join(base_dir, 'validation')\n",
    "test_dir = os.path.join(base_dir, 'test')\n",
    "\n",
    "datagen = ImageDataGenerator(rescale=1./255)\n",
    "batch_size = 20\n",
    "\n",
    "def extract_features(directory, sample_count):\n",
    "    features = np.zeros(shape=(sample_count, 4, 4, 512))    # Isso deve estar de acordo com a forma da saída da última camada de conv_base.summary () antes\n",
    "    labels = np.zeros(shape=(sample_count))\n",
    "    generator = datagen.flow_from_directory(\n",
    "        directory,\n",
    "        target_size=(150, 150),\n",
    "        batch_size=batch_size,\n",
    "        class_mode='binary')\n",
    "    i = 0\n",
    "    for inputs_batch, labels_batch in generator:    # Adicionar dados lote por lote\n",
    "        features_batch = conv_base.predict(inputs_batch)\n",
    "        features[i * batch_size : (i + 1) * batch_size] = features_batch\n",
    "        labels[i * batch_size : (i + 1) * batch_size] = labels_batch\n",
    "        i += 1\n",
    "        if i * batch_size >= sample_count:    # O gerador irá gerar dados ilimitados, o intervalo deve ser controlado por você\n",
    "            break\n",
    "    return features, labels\n",
    "\n",
    "train_features, train_labels = extract_features(train_dir, 2000)\n",
    "validation_features, validation_labels = extract_features(validation_dir, 1000)\n",
    "test_features, test_labels = extract_features(test_dir, 1000)"
   ]
  },
  {
   "cell_type": "markdown",
   "metadata": {},
   "source": [
    "Depois disso, vamos conectar o classificador da camada intimamente conectada, então esmagamos o tensor primeiro:"
   ]
  },
  {
   "cell_type": "code",
   "execution_count": 4,
   "metadata": {},
   "outputs": [],
   "source": [
    "train_features = np.reshape(train_features, (2000, 4 * 4 * 512))\n",
    "validation_features = np.reshape(validation_features, (1000, 4 * 4 * 512))\n",
    "test_features = np.reshape(test_features, (1000, 4 * 4 * 512))"
   ]
  },
  {
   "cell_type": "markdown",
   "metadata": {},
   "source": [
    "Então é fazer o classificador de conexão densa, ou usar a regularização de dropout:"
   ]
  },
  {
   "cell_type": "code",
   "execution_count": 5,
   "metadata": {},
   "outputs": [
    {
     "name": "stdout",
     "output_type": "stream",
     "text": [
      "Train on 2000 samples, validate on 1000 samples\n",
      "Epoch 1/30\n",
      "2000/2000 [==============================] - 3s 1ms/sample - loss: 0.5905 - acc: 0.6840 - val_loss: 0.4347 - val_acc: 0.8430\n",
      "Epoch 2/30\n",
      "2000/2000 [==============================] - 1s 640us/sample - loss: 0.4339 - acc: 0.8060 - val_loss: 0.3566 - val_acc: 0.8620\n",
      "Epoch 3/30\n",
      "2000/2000 [==============================] - 1s 638us/sample - loss: 0.3583 - acc: 0.8475 - val_loss: 0.3184 - val_acc: 0.8770\n",
      "Epoch 4/30\n",
      "2000/2000 [==============================] - 1s 641us/sample - loss: 0.3099 - acc: 0.8775 - val_loss: 0.3053 - val_acc: 0.8730\n",
      "Epoch 5/30\n",
      "2000/2000 [==============================] - 1s 638us/sample - loss: 0.2804 - acc: 0.8900 - val_loss: 0.2796 - val_acc: 0.8990\n",
      "Epoch 6/30\n",
      "2000/2000 [==============================] - 1s 637us/sample - loss: 0.2658 - acc: 0.8995 - val_loss: 0.2758 - val_acc: 0.8870\n",
      "Epoch 7/30\n",
      "2000/2000 [==============================] - 1s 641us/sample - loss: 0.2476 - acc: 0.9100 - val_loss: 0.2629 - val_acc: 0.8950\n",
      "Epoch 8/30\n",
      "2000/2000 [==============================] - 1s 664us/sample - loss: 0.2343 - acc: 0.9110 - val_loss: 0.2606 - val_acc: 0.8900\n",
      "Epoch 9/30\n",
      "2000/2000 [==============================] - 1s 646us/sample - loss: 0.2249 - acc: 0.9145 - val_loss: 0.2565 - val_acc: 0.8890\n",
      "Epoch 10/30\n",
      "2000/2000 [==============================] - 1s 655us/sample - loss: 0.2143 - acc: 0.9120 - val_loss: 0.2502 - val_acc: 0.8950\n",
      "Epoch 11/30\n",
      "2000/2000 [==============================] - 1s 660us/sample - loss: 0.1989 - acc: 0.9260 - val_loss: 0.2447 - val_acc: 0.9060\n",
      "Epoch 12/30\n",
      "2000/2000 [==============================] - 1s 651us/sample - loss: 0.1829 - acc: 0.9315 - val_loss: 0.2409 - val_acc: 0.9020\n",
      "Epoch 13/30\n",
      "2000/2000 [==============================] - 1s 661us/sample - loss: 0.1844 - acc: 0.9365 - val_loss: 0.2398 - val_acc: 0.9060\n",
      "Epoch 14/30\n",
      "2000/2000 [==============================] - 1s 655us/sample - loss: 0.1738 - acc: 0.9400 - val_loss: 0.2397 - val_acc: 0.9000\n",
      "Epoch 15/30\n",
      "2000/2000 [==============================] - 1s 702us/sample - loss: 0.1667 - acc: 0.9420 - val_loss: 0.2369 - val_acc: 0.9020\n",
      "Epoch 16/30\n",
      "2000/2000 [==============================] - 1s 692us/sample - loss: 0.1531 - acc: 0.9430 - val_loss: 0.2431 - val_acc: 0.9000\n",
      "Epoch 17/30\n",
      "2000/2000 [==============================] - 1s 667us/sample - loss: 0.1516 - acc: 0.9480 - val_loss: 0.2363 - val_acc: 0.9030\n",
      "Epoch 18/30\n",
      "2000/2000 [==============================] - 1s 690us/sample - loss: 0.1457 - acc: 0.9510 - val_loss: 0.2483 - val_acc: 0.9010\n",
      "Epoch 19/30\n",
      "2000/2000 [==============================] - 1s 680us/sample - loss: 0.1397 - acc: 0.9480 - val_loss: 0.2439 - val_acc: 0.9000\n",
      "Epoch 20/30\n",
      "2000/2000 [==============================] - 1s 695us/sample - loss: 0.1324 - acc: 0.9545 - val_loss: 0.2425 - val_acc: 0.9030\n",
      "Epoch 21/30\n",
      "2000/2000 [==============================] - 1s 701us/sample - loss: 0.1301 - acc: 0.9535 - val_loss: 0.2373 - val_acc: 0.9000\n",
      "Epoch 22/30\n",
      "2000/2000 [==============================] - 1s 707us/sample - loss: 0.1204 - acc: 0.9595 - val_loss: 0.2354 - val_acc: 0.9020\n",
      "Epoch 23/30\n",
      "2000/2000 [==============================] - 1s 701us/sample - loss: 0.1169 - acc: 0.9655 - val_loss: 0.2347 - val_acc: 0.9040\n",
      "Epoch 24/30\n",
      "2000/2000 [==============================] - 1s 684us/sample - loss: 0.1112 - acc: 0.9660 - val_loss: 0.2353 - val_acc: 0.9020\n",
      "Epoch 25/30\n",
      "2000/2000 [==============================] - 1s 673us/sample - loss: 0.1064 - acc: 0.9630 - val_loss: 0.2359 - val_acc: 0.9020\n",
      "Epoch 26/30\n",
      "2000/2000 [==============================] - 1s 691us/sample - loss: 0.1071 - acc: 0.9640 - val_loss: 0.2364 - val_acc: 0.9040\n",
      "Epoch 27/30\n",
      "2000/2000 [==============================] - 1s 684us/sample - loss: 0.1009 - acc: 0.9670 - val_loss: 0.2381 - val_acc: 0.9030\n",
      "Epoch 28/30\n",
      "2000/2000 [==============================] - 1s 682us/sample - loss: 0.0951 - acc: 0.9690 - val_loss: 0.2394 - val_acc: 0.9020\n",
      "Epoch 29/30\n",
      "2000/2000 [==============================] - 1s 686us/sample - loss: 0.0928 - acc: 0.9755 - val_loss: 0.2390 - val_acc: 0.9010\n",
      "Epoch 30/30\n",
      "2000/2000 [==============================] - 1s 687us/sample - loss: 0.0889 - acc: 0.9715 - val_loss: 0.2401 - val_acc: 0.9010\n"
     ]
    }
   ],
   "source": [
    "from tensorflow.keras import models\n",
    "from tensorflow.keras import layers\n",
    "from tensorflow.keras import optimizers\n",
    "\n",
    "model = models.Sequential()\n",
    "model.add(layers.Dense(256, activation='relu', input_dim=4 * 4 * 512))\n",
    "model.add(layers.Dropout(0.5))\n",
    "model.add(layers.Dense(1, activation='sigmoid'))\n",
    "\n",
    "model.compile(optimizer=optimizers.RMSprop(lr=2e-5),\n",
    "              loss='binary_crossentropy',\n",
    "              metrics=['acc'])\n",
    "\n",
    "history = model.fit(train_features, train_labels,\n",
    "                    epochs=30,\n",
    "                    batch_size=20,\n",
    "                    validation_data=(validation_features, validation_labels))"
   ]
  },
  {
   "cell_type": "markdown",
   "metadata": {},
   "source": [
    "Veja o resultado:"
   ]
  },
  {
   "cell_type": "code",
   "execution_count": 7,
   "metadata": {},
   "outputs": [
    {
     "data": {
      "image/png": "[encoded data removed]",
      "text/plain": [
       "<Figure size 432x288 with 1 Axes>"
      ]
     },
     "metadata": {
      "needs_background": "light"
     },
     "output_type": "display_data"
    },
    {
     "data": {
      "image/png": "[encoded data removed]",
      "text/plain": [
       "<Figure size 432x288 with 1 Axes>"
      ]
     },
     "metadata": {
      "needs_background": "light"
     },
     "output_type": "display_data"
    }
   ],
   "source": [
    "import matplotlib.pyplot as plt\n",
    "\n",
    "acc = history.history['acc']\n",
    "val_acc = history.history['val_acc']\n",
    "loss = history.history['loss']\n",
    "val_loss = history.history['val_loss']\n",
    "\n",
    "epochs = range(1, len(acc) + 1)\n",
    "\n",
    "plt.plot(epochs, acc, 'bo-', label='Training acc')\n",
    "plt.plot(epochs, val_acc, 'rs-', label='Validation acc')\n",
    "plt.title('Training and validation accuracy')\n",
    "plt.legend()\n",
    "\n",
    "plt.figure()\n",
    "\n",
    "plt.plot(epochs, loss, 'bo-', label='Training loss')\n",
    "plt.plot(epochs, val_loss, 'rs-', label='Validation loss')\n",
    "plt.title('Training and validation loss')\n",
    "plt.legend()\n",
    "\n",
    "plt.show()"
   ]
  },
  {
   "cell_type": "markdown",
   "metadata": {},
   "source": [
    "Como você pode ver, o efeito ainda é muito bom, perto de 90% de precisão. Mas ainda existem problemas, porque não há aprimoramento de dados, o overfitting ainda é sério e basicamente é overfitting desde o início. Para este tipo de conjunto de dados de imagem muito pequeno, não há aprimoramento de dados, o que geralmente não é bom."
   ]
  },
  {
   "cell_type": "markdown",
   "metadata": {},
   "source": [
    "### Extração de recursos com aprimoramento de dados\n",
    "\n",
    "O segundo método é expandir conv_base, adicionar uma camada Densa atrás dela e, em seguida, executar toda a rede ponta a ponta nos dados de entrada.\n",
    "\n",
    "Basicamente, só pode ser executado com GPU. Isso é usado sem uma GPU.\n",
    "\n",
    "No Keras, podemos adicionar um modelo ao modelo Sequencial como adicionar camadas:"
   ]
  },
  {
   "cell_type": "code",
   "execution_count": 8,
   "metadata": {},
   "outputs": [],
   "source": [
    "# Adicione um classificador densamente conectado com base na base convolucional\n",
    "\n",
    "from tensorflow.keras import models\n",
    "from tensorflow.keras import layers\n",
    "\n",
    "model = models.Sequential()\n",
    "model.add(conv_base)\n",
    "model.add(layers.Flatten())\n",
    "model.add(layers.Dense(256, activation='relu'))\n",
    "model.add(layers.Dense(1, activation='sigmoid'))"
   ]
  },
  {
   "cell_type": "markdown",
   "metadata": {},
   "source": [
    "Dê uma olhada no modelo:"
   ]
  },
  {
   "cell_type": "code",
   "execution_count": 10,
   "metadata": {},
   "outputs": [
    {
     "name": "stdout",
     "output_type": "stream",
     "text": [
      "Model: \"sequential_1\"\n",
      "_________________________________________________________________\n",
      "Layer (type)                 Output Shape              Param #   \n",
      "=================================================================\n",
      "vgg16 (Model)                (None, 4, 4, 512)         14714688  \n",
      "_________________________________________________________________\n",
      "flatten (Flatten)            (None, 8192)              0         \n",
      "_________________________________________________________________\n",
      "dense_2 (Dense)              (None, 256)               2097408   \n",
      "_________________________________________________________________\n",
      "dense_3 (Dense)              (None, 1)                 257       \n",
      "=================================================================\n",
      "Total params: 16,812,353\n",
      "Trainable params: 16,812,353\n",
      "Non-trainable params: 0\n",
      "_________________________________________________________________\n"
     ]
    }
   ],
   "source": [
    "model.summary()"
   ]
  },
  {
   "cell_type": "markdown",
   "metadata": {},
   "source": [
    "Observe que ao utilizar este método de utilização do modelo de pré-treinamento, deve-se ** congelar a base convolucional **, ou seja, informar a rede para não atualizar os parâmetros da base convolucional durante o processo de treinamento! Isso é muito importante, se você não fizer isso, o modelo pré-treinado ficará destruído, no final equivale a treinar do zero, e aí perde o sentido de pré-treinamento."
   ]
  },
  {
   "cell_type": "code",
   "execution_count": 11,
   "metadata": {},
   "outputs": [],
   "source": [
    "# Base convolucional congelada\n",
    "conv_base.trainable = False"
   ]
  },
  {
   "cell_type": "markdown",
   "metadata": {},
   "source": [
    "Depois de fazer isso, ao treinar o modelo, ele continuará apenas atualizando o peso da camada Densa:"
   ]
  },
  {
   "cell_type": "code",
   "execution_count": 12,
   "metadata": {},
   "outputs": [
    {
     "name": "stdout",
     "output_type": "stream",
     "text": [
      "Model: \"sequential_1\"\n",
      "_________________________________________________________________\n",
      "Layer (type)                 Output Shape              Param #   \n",
      "=================================================================\n",
      "vgg16 (Model)                (None, 4, 4, 512)         14714688  \n",
      "_________________________________________________________________\n",
      "flatten (Flatten)            (None, 8192)              0         \n",
      "_________________________________________________________________\n",
      "dense_2 (Dense)              (None, 256)               2097408   \n",
      "_________________________________________________________________\n",
      "dense_3 (Dense)              (None, 1)                 257       \n",
      "=================================================================\n",
      "Total params: 16,812,353\n",
      "Trainable params: 2,097,665\n",
      "Non-trainable params: 14,714,688\n",
      "_________________________________________________________________\n"
     ]
    }
   ],
   "source": [
    "model.summary()"
   ]
  },
  {
   "cell_type": "markdown",
   "metadata": {},
   "source": [
    "Em seguida, você pode usar o aprimoramento de dados para treinar o modelo:"
   ]
  },
  {
   "cell_type": "code",
   "execution_count": null,
   "metadata": {},
   "outputs": [],
   "source": [
    "# Treine o modelo de ponta a ponta com uma base de convolução congelada\n",
    "\n",
    "from tensorflow.keras.preprocessing.image import ImageDataGenerator\n",
    "from tensorflow.keras import optimizers\n",
    "\n",
    "train_datagen = ImageDataGenerator(\n",
    "    rescale=1./255,\n",
    "    rotation_range=40,\n",
    "    width_shift_range=0.2,\n",
    "    height_shift_range=0.2,\n",
    "    shear_range=0.2,\n",
    "    zoom_range=0.2,\n",
    "    horizontal_flip=True,\n",
    "    fill_mode='nearest')\n",
    "\n",
    "test_datagen = ImageDataGenerator(rescale=1./255)    # Observe que o teste não é aprimorado\n",
    "\n",
    "train_generator = train_datagen.flow_from_directory(\n",
    "    train_dir,\n",
    "    target_size=(150, 150),\n",
    "    batch_size=20,\n",
    "    class_mode='binary')\n",
    "\n",
    "validation_generator = test_datagen.flow_from_directory(\n",
    "    validation_dir,\n",
    "    target_size=(150, 150),\n",
    "    batch_size=20,\n",
    "    class_mode='binary')\n",
    "\n",
    "model.compile(loss='binary_crossentropy',\n",
    "              optimizer=optimizers.RMSprop(lr=2e-5),\n",
    "              metrics=['acc'])\n",
    "\n",
    "history = model.fit_generator(\n",
    "    train_generator,\n",
    "    steps_per_epoch=100,\n",
    "    epochs=30,\n",
    "    validation_data=validation_generator,\n",
    "    validation_steps=50)"
   ]
  },
  {
   "cell_type": "raw",
   "metadata": {},
   "source": [
    "Found 2000 images belonging to 2 classes.\n",
    "Found 1000 images belonging to 2 classes.\n",
    "Epoch 1/30\n",
    "100/100 [==============================] - 30s 300ms/step - loss: 0.5984 - acc: 0.6855 - val_loss: 0.4592 - val_acc: 0.8250\n",
    "Epoch 2/30\n",
    "100/100 [==============================] - 30s 302ms/step - loss: 0.4854 - acc: 0.7815 - val_loss: 0.3660 - val_acc: 0.8710\n",
    "Epoch 3/30\n",
    "100/100 [==============================] - 29s 294ms/step - loss: 0.4320 - acc: 0.8050 - val_loss: 0.3297 - val_acc: 0.8730\n",
    "Epoch 4/30\n",
    "100/100 [==============================] - 30s 300ms/step - loss: 0.4057 - acc: 0.8140 - val_loss: 0.3076 - val_acc: 0.8730\n",
    "Epoch 5/30\n",
    "100/100 [==============================] - 30s 296ms/step - loss: 0.3768 - acc: 0.8425 - val_loss: 0.2880 - val_acc: 0.8800\n",
    "Epoch 6/30\n",
    "100/100 [==============================] - 31s 305ms/step - loss: 0.3559 - acc: 0.8500 - val_loss: 0.2887 - val_acc: 0.8830\n",
    "Epoch 7/30\n",
    "100/100 [==============================] - 29s 293ms/step - loss: 0.3584 - acc: 0.8495 - val_loss: 0.2768 - val_acc: 0.8900\n",
    "Epoch 8/30\n",
    "100/100 [==============================] - 30s 304ms/step - loss: 0.3499 - acc: 0.8435 - val_loss: 0.2658 - val_acc: 0.9060\n",
    "Epoch 9/30\n",
    "100/100 [==============================] - 30s 298ms/step - loss: 0.3451 - acc: 0.8380 - val_loss: 0.2596 - val_acc: 0.9050\n",
    "Epoch 10/30\n",
    "100/100 [==============================] - 30s 303ms/step - loss: 0.3356 - acc: 0.8540 - val_loss: 0.2588 - val_acc: 0.8980\n",
    "Epoch 11/30\n",
    "100/100 [==============================] - 30s 297ms/step - loss: 0.3323 - acc: 0.8575 - val_loss: 0.2531 - val_acc: 0.9010\n",
    "Epoch 12/30\n",
    "100/100 [==============================] - 30s 300ms/step - loss: 0.3284 - acc: 0.8605 - val_loss: 0.2498 - val_acc: 0.9020\n",
    "Epoch 13/30\n",
    "100/100 [==============================] - 30s 296ms/step - loss: 0.3113 - acc: 0.8640 - val_loss: 0.2498 - val_acc: 0.8990\n",
    "Epoch 14/30\n",
    "100/100 [==============================] - 30s 304ms/step - loss: 0.3076 - acc: 0.8665 - val_loss: 0.2466 - val_acc: 0.9030\n",
    "Epoch 15/30\n",
    "100/100 [==============================] - 30s 298ms/step - loss: 0.3148 - acc: 0.8615 - val_loss: 0.2448 - val_acc: 0.9100\n",
    "Epoch 16/30\n",
    "100/100 [==============================] - 31s 306ms/step - loss: 0.3126 - acc: 0.8730 - val_loss: 0.2428 - val_acc: 0.9020\n",
    "Epoch 17/30\n",
    "100/100 [==============================] - 30s 299ms/step - loss: 0.3083 - acc: 0.8690 - val_loss: 0.2442 - val_acc: 0.9030\n",
    "Epoch 18/30\n",
    "100/100 [==============================] - 31s 312ms/step - loss: 0.3050 - acc: 0.8675 - val_loss: 0.2482 - val_acc: 0.9010\n",
    "Epoch 19/30\n",
    "100/100 [==============================] - 31s 306ms/step - loss: 0.3038 - acc: 0.8705 - val_loss: 0.2397 - val_acc: 0.9020\n",
    "Epoch 20/30\n",
    "100/100 [==============================] - 30s 302ms/step - loss: 0.3011 - acc: 0.8705 - val_loss: 0.2427 - val_acc: 0.9020\n",
    "Epoch 21/30\n",
    "100/100 [==============================] - 30s 300ms/step - loss: 0.2996 - acc: 0.8630 - val_loss: 0.2408 - val_acc: 0.9010\n",
    "Epoch 22/30\n",
    "100/100 [==============================] - 31s 307ms/step - loss: 0.2886 - acc: 0.8770 - val_loss: 0.2527 - val_acc: 0.8990\n",
    "Epoch 23/30\n",
    "100/100 [==============================] - 30s 300ms/step - loss: 0.2943 - acc: 0.8765 - val_loss: 0.2412 - val_acc: 0.9050\n",
    "Epoch 24/30\n",
    "100/100 [==============================] - 30s 302ms/step - loss: 0.2948 - acc: 0.8750 - val_loss: 0.2386 - val_acc: 0.9020\n",
    "Epoch 25/30\n",
    "100/100 [==============================] - 30s 298ms/step - loss: 0.2880 - acc: 0.8710 - val_loss: 0.2530 - val_acc: 0.8950\n",
    "Epoch 26/30\n",
    "100/100 [==============================] - 30s 304ms/step - loss: 0.2980 - acc: 0.8810 - val_loss: 0.2387 - val_acc: 0.9060\n",
    "Epoch 27/30\n",
    "100/100 [==============================] - 30s 301ms/step - loss: 0.2933 - acc: 0.8745 - val_loss: 0.2411 - val_acc: 0.9050\n",
    "Epoch 28/30\n",
    "100/100 [==============================] - 30s 297ms/step - loss: 0.2885 - acc: 0.8710 - val_loss: 0.2392 - val_acc: 0.9020\n",
    "Epoch 29/30\n",
    "100/100 [==============================] - 30s 300ms/step - loss: 0.2774 - acc: 0.8825 - val_loss: 0.2402 - val_acc: 0.9040\n",
    "Epoch 30/30\n",
    "100/100 [==============================] - 30s 302ms/step - loss: 0.2693 - acc: 0.8900 - val_loss: 0.2401 - val_acc: 0.9070"
   ]
  },
  {
   "cell_type": "markdown",
   "metadata": {},
   "source": [
    "![运行结果图](https://tva1.sinaimg.cn/large/007S8ZIlgy1gh5lk985mvj30m60vqtcp.jpg)"
   ]
  },
  {
   "cell_type": "markdown",
   "metadata": {},
   "source": [
    "### Modelo de ajuste fino de ajuste fino\n",
    "\n",
    "(Eu gosto mais da palavra \"ajuste fino\", mas \"ajuste fino\" não tem gosto interno.)\n",
    "\n",
    "O ajuste fino é para complementar a extração de recursos e otimizar ainda mais o modelo. O que o ajuste fino faz é descongelar as camadas no topo (perto da parte de trás) da base convolucional e treinar as camadas descongeladas e a parte recém-adicionada (classificador totalmente conectado) juntas. Este método ajusta ligeiramente as representações abstratas de alto nível no modelo de pré-treinamento (ou seja, aquelas próximas ao nível superior) para torná-las mais adequadas para o problema em questão.\n"
   ]
  },
  {
   "cell_type": "markdown",
   "metadata": {},
   "source": [
    "Observe que o classificador final totalmente conectado deve ser treinado antes de ir para o bloco Conv no topo da base de convolução de ajuste fino, caso contrário, os resultados do pré-treinamento serão completamente destruídos.\n",
    "\n",
    "Portanto, o ajuste fino precisa seguir as seguintes etapas:\n",
    "\n",
    "1. Adicionar nossa própria rede (como classificador) à rede treinada (rede base);\n",
    "2. Congele a rede básica;\n",
    "3. Treine-se para adicionar essa parte;\n",
    "4. Descongelar algumas camadas da rede base;\n",
    "5. Treinamento conjunto da camada descongelada e sua própria parte;\n",
    "\n",
    "As três primeiras etapas são iguais à extração de recursos, portanto, partimos da quarta etapa. Primeiro, olhe nossa base de convolução VGG16:"
   ]
  },
  {
   "cell_type": "code",
   "execution_count": 15,
   "metadata": {},
   "outputs": [
    {
     "name": "stdout",
     "output_type": "stream",
     "text": [
      "Model: \"vgg16\"\n",
      "_________________________________________________________________\n",
      "Layer (type)                 Output Shape              Param #   \n",
      "=================================================================\n",
      "input_1 (InputLayer)         [(None, 150, 150, 3)]     0         \n",
      "_________________________________________________________________\n",
      "block1_conv1 (Conv2D)        (None, 150, 150, 64)      1792      \n",
      "_________________________________________________________________\n",
      "block1_conv2 (Conv2D)        (None, 150, 150, 64)      36928     \n",
      "_________________________________________________________________\n",
      "block1_pool (MaxPooling2D)   (None, 75, 75, 64)        0         \n",
      "_________________________________________________________________\n",
      "block2_conv1 (Conv2D)        (None, 75, 75, 128)       73856     \n",
      "_________________________________________________________________\n",
      "block2_conv2 (Conv2D)        (None, 75, 75, 128)       147584    \n",
      "_________________________________________________________________\n",
      "block2_pool (MaxPooling2D)   (None, 37, 37, 128)       0         \n",
      "_________________________________________________________________\n",
      "block3_conv1 (Conv2D)        (None, 37, 37, 256)       295168    \n",
      "_________________________________________________________________\n",
      "block3_conv2 (Conv2D)        (None, 37, 37, 256)       590080    \n",
      "_________________________________________________________________\n",
      "block3_conv3 (Conv2D)        (None, 37, 37, 256)       590080    \n",
      "_________________________________________________________________\n",
      "block3_pool (MaxPooling2D)   (None, 18, 18, 256)       0         \n",
      "_________________________________________________________________\n",
      "block4_conv1 (Conv2D)        (None, 18, 18, 512)       1180160   \n",
      "_________________________________________________________________\n",
      "block4_conv2 (Conv2D)        (None, 18, 18, 512)       2359808   \n",
      "_________________________________________________________________\n",
      "block4_conv3 (Conv2D)        (None, 18, 18, 512)       2359808   \n",
      "_________________________________________________________________\n",
      "block4_pool (MaxPooling2D)   (None, 9, 9, 512)         0         \n",
      "_________________________________________________________________\n",
      "block5_conv1 (Conv2D)        (None, 9, 9, 512)         2359808   \n",
      "_________________________________________________________________\n",
      "block5_conv2 (Conv2D)        (None, 9, 9, 512)         2359808   \n",
      "_________________________________________________________________\n",
      "block5_conv3 (Conv2D)        (None, 9, 9, 512)         2359808   \n",
      "_________________________________________________________________\n",
      "block5_pool (MaxPooling2D)   (None, 4, 4, 512)         0         \n",
      "=================================================================\n",
      "Total params: 14,714,688\n",
      "Trainable params: 0\n",
      "Non-trainable params: 14,714,688\n",
      "_________________________________________________________________\n"
     ]
    }
   ],
   "source": [
    "conv_base.summary()"
   ]
  },
  {
   "cell_type": "markdown",
   "metadata": {},
   "source": [
    "Vamos descongelar block5_conv1, block5_conv2 e block5_conv3 para completar o ajuste fino:"
   ]
  },
  {
   "cell_type": "code",
   "execution_count": null,
   "metadata": {},
   "outputs": [],
   "source": [
    "# Congele todas as camadas até uma determinada camada\n",
    "\n",
    "conv_base.trainable = True\n",
    "\n",
    "set_trainable = False\n",
    "for layer in conv_base.layers:\n",
    "    if layer.name == 'block5_conv1':\n",
    "        set_trainable = True\n",
    "    if set_trainable:\n",
    "        layer.trainable = True\n",
    "    else:\n",
    "        layer.trainable = False\n",
    "        \n",
    "# Ajustar o modelo\n",
    "\n",
    "model.compile(loss='binary_crossentropy',\n",
    "              optimizer=optimizers.RMSprop(lr=1e-5),    # A taxa de aprendizagem (lr) usada aqui é muito pequena, espera-se que a representação ajustada de três níveis não mude muito\n",
    "              metrics=['acc'])\n",
    "\n",
    "history = model.fit_generator(\n",
    "    train_generator,\n",
    "    steps_per_epoch=100,\n",
    "    epochs=100,\n",
    "    validation_data=validation_generator,\n",
    "    validation_steps=50)"
   ]
  },
  {
   "cell_type": "markdown",
   "metadata": {},
   "source": [
    "Este também foi executado no Kaggle:\n",
    "\n",
    "![在 Kaggle 训练的最后几轮输出](https://tva1.sinaimg.cn/large/007S8ZIlgy1gh6fkf1r4hj31jw0gaq87.jpg)\n",
    "\n",
    "![训练历史图线](https://tva1.sinaimg.cn/large/007S8ZIlgy1gh6flamoy7j30o60wkdl5.jpg)"
   ]
  },
  {
   "cell_type": "markdown",
   "metadata": {},
   "source": [
    "A precisão dos resultados do livro é de 97%, e o meu, o meu, menos de 95%, dano."
   ]
  }
 ],
 "metadata": {
  "kernelspec": {
   "display_name": "Python 3",
   "language": "python",
   "name": "python3"
  },
  "language_info": {
   "codemirror_mode": {
    "name": "ipython",
    "version": 3
   },
   "file_extension": ".py",
   "mimetype": "text/x-python",
   "name": "python",
   "nbconvert_exporter": "python",
   "pygments_lexer": "ipython3",
   "version": "3.7.9"
  }
 },
 "nbformat": 4,
 "nbformat_minor": 4
}
