{
 "cells": [
  {
   "cell_type": "markdown",
   "metadata": {},
   "source": [
    "# Aprendizado profundo com Python\n",
    "\n",
    "## 8.3 Transferência de estilo neural\n",
    "\n",
    "> Transferência de estilo neural\n",
    "\n",
    "A transferência de estilo neural, uma rede neural baseada no aprendizado profundo, aplica o estilo da imagem de referência à imagem alvo enquanto preserva o conteúdo da imagem alvo para criar uma nova imagem.\n",
    "\n",
    "! [Um exemplo de migração de estilo] (https://tva1.sinaimg.cn/large/007S8ZIlgy1ghsqybmpeij314y0cgarv.jpg)\n",
    "\n",
    "A ideia de transferência de estilo neural é simples: defina uma função de perda para especificar o objetivo a ser alcançado e, em seguida, minimize essa perda. O objetivo aqui é preservar o conteúdo da imagem original, ao mesmo tempo que adota o estilo da imagem de referência.\n",
    "\n",
    "Supondo que existam funções de conteúdo e estilo que podem calcular o conteúdo e o estilo da imagem de entrada, respectivamente, e a distância da função de forma normal, a perda de transferência de estilo neural pode ser expressa como:\n",
    "\n",
    "`` `python\n",
    "perda = distância (conteúdo (imagem_original) -content (imagem_gerada)) +\n",
    "       distance (style (reference_image) -style (generated_image))\n",
    "`` `\n",
    "\n",
    "Na verdade, usando redes neurais convolucionais profundas, as funções de estilo e conteúdo podem ser definidas matematicamente.\n",
    "\n",
    "#### Definição de perda\n",
    "\n",
    "1. ** Perda de conteúdo **\n",
    "\n",
    "As ativações de camadas próximas à parte inferior (frente) da rede neural convolucional contêm informações locais sobre a imagem, e as camadas próximas à parte superior (traseira) contêm informações mais globais e abstratas. O conteúdo é a informação global e abstrata da imagem, portanto, a ativação da camada superior da rede neural convolucional pode ser usada para representar o conteúdo da imagem.\n",
    "\n",
    "Portanto, dada uma rede neural convolucional pré-treinada, selecione uma camada superior, a perda de conteúdo pode usar o L2 entre \"a ativação desta camada na imagem alvo\" e \"a ativação desta camada na imagem gerada\" Norma.\n",
    "\n",
    "2. ** Perda de estilo **\n",
    "\n",
    "Ao contrário do conteúdo que pode ser expresso com apenas uma camada, o estilo requer várias camadas para definir. Existem muitos estilos de estilos, como pinceladas, linhas, texturas, cores, etc. Esses conteúdos aparecerão em diferentes níveis de abstração. Portanto, a expressão do estilo precisa capturar a aparência extraída em todas as escalas espaciais, não apenas em uma única escala.\n",
    "\n",
    "Sob esse tipo de pensamento, a expressão da perda de estilo pode contar com a matriz de Gram da ativação da camada. Esta matriz de Gram é o produto interno de cada mapa de feições de uma determinada camada, expressando o mapeamento da correlação entre as feições da camada, e corresponde à aparência da textura encontrada nesta escala. A preservação de relações internas semelhantes em diferentes ativações pode ser considerada como \"estilo\".\n",
    "\n",
    "Então, podemos usar as texturas mantidas em diferentes camadas da imagem gerada e a imagem de referência de estilo para definir a perda de estilo.\n",
    "\n",
    "#### Implementação de Keras de transferência de estilo neural\n",
    "\n",
    "A transferência de estilo neural pode ser implementada com qualquer rede neural convolucional pré-treinada e o VGG19 é usado aqui.\n",
    "\n",
    "As etapas de transferência de estilo neural são as seguintes:\n",
    "\n",
    "1. Crie uma rede para calcular simultaneamente a ativação da camada VGG19 da imagem de referência de estilo, imagem alvo e imagem gerada;\n",
    "2. Use as ativações de camada calculadas nessas três imagens para definir a função de perda descrita anteriormente;\n",
    "3. Descida em gradiente para minimizar esta função de perda.\n",
    "\n",
    "Antes de começar a construir a rede, defina o caminho da imagem de referência do estilo e a imagem alvo. Se o tamanho da imagem for muito diferente, a transferência do estilo será mais difícil, então aqui também definimos o tamanho:"
   ]
  },
  {
   "cell_type": "code",
   "execution_count": 15,
   "metadata": {},
   "outputs": [],
   "source": [
    "# Não use o modo de execução just-in-time\n",
    "\n",
    "import tensorflow as tf\n",
    "\n",
    "tf.compat.v1.disable_eager_execution()"
   ]
  },
  {
   "cell_type": "code",
   "execution_count": 16,
   "metadata": {},
   "outputs": [],
   "source": [
    "# Defina as variáveis ​​iniciais\n",
    "\n",
    "from tensorflow.keras.preprocessing.image import load_img, img_to_array\n",
    "\n",
    "target_image_path = 'img/portrait.jpg'\n",
    "style_referencce_image_path = 'img/transfer_style_reference.jpg'\n",
    "\n",
    "width, height = load_img(target_image_path).size\n",
    "img_height = 400\n",
    "img_width = width * img_height // height"
   ]
  },
  {
   "cell_type": "markdown",
   "metadata": {},
   "source": [
    "Eu escolhi esta foto:\n",
    "\n",
    "-transfer_style_reference: Vincent Van Gogh, \"A Wheatfield, with Cypresses\" (* A Wheatfield, with Cypresses *), 1889, coletado no Metropolitan Museum of New York.\n",
    "-poretrato: Paul Gauguin \"The Swineherd, Brittany\" (* The Swineherd, Brittany *), 1888, coletado no Museu de Arte do Condado de Los Angeles, Califórnia, EUA.\n",
    "\n",
    "! [A árvore cipreste e o pastor bretão no centeio] (https://tva1.sinaimg.cn/large/007S8ZIlgy1ghtv5qecwtj31g20n1u0x.jpg)\n",
    "\n",
    "A seguir, precisamos de algumas funções auxiliares para carregamento e processamento de imagens."
   ]
  },
  {
   "cell_type": "code",
   "execution_count": 17,
   "metadata": {},
   "outputs": [],
   "source": [
    "# Função auxiliar\n",
    "\n",
    "import numpy as np\n",
    "from tensorflow.keras.applications import vgg19\n",
    "\n",
    "def preprocess_image(image_path):\n",
    "    img = load_img(image_path, target_size=(img_height, img_width))\n",
    "    img = img_to_array(img)\n",
    "    img = np.expand_dims(img, axis=0)\n",
    "    img = vgg19.preprocess_input(img)\n",
    "    return img\n",
    "\n",
    "def deprocess_image(x):\n",
    "    # vgg19.preprocess_input O valor médio do pixel de ImageNet é subtraído para tornar seu centro zero. Faça a operação inversa aqui:\n",
    "    x[:, :, 0] += 103.939\n",
    "    x[:, :, 1] += 116.779\n",
    "    x[:, :, 2] += 123.680\n",
    "    \n",
    "    # BGR -> RGB\n",
    "    x = x[:, :, ::-1]\n",
    "    x = np.clip(x, 0, 255).astype('uint8')\n",
    "    \n",
    "    return x"
   ]
  },
  {
   "cell_type": "markdown",
   "metadata": {},
   "source": [
    "Em seguida, construa a rede VGG19: Receba lote de três imagens como entrada.As três imagens são a imagem de referência de estilo, a constante da imagem de destino e um espaço reservado para salvar a imagem gerada."
   ]
  },
  {
   "cell_type": "code",
   "execution_count": 18,
   "metadata": {},
   "outputs": [
    {
     "name": "stdout",
     "output_type": "stream",
     "text": [
      "Model loaded.\n"
     ]
    }
   ],
   "source": [
    "from tensorflow.keras import backend as K\n",
    "\n",
    "target_image = K.constant(preprocess_image(target_image_path))\n",
    "style_reference_image = K.constant(preprocess_image(style_referencce_image_path))\n",
    "combination_image = K.placeholder((1, img_height, img_width, 3))\n",
    "\n",
    "input_tensor = K.concatenate([target_image,\n",
    "                              style_reference_image,\n",
    "                              combination_image], axis=0)\n",
    "\n",
    "model = vgg19.VGG19(input_tensor=input_tensor,\n",
    "                    weights='imagenet',\n",
    "                    include_top=False)\n",
    "\n",
    "print('Model loaded.')"
   ]
  },
  {
   "cell_type": "markdown",
   "metadata": {},
   "source": [
    "Defina a perda de conteúdo para garantir que a imagem de destino e a imagem gerada tenham resultados semelhantes no topo da rede:"
   ]
  },
  {
   "cell_type": "code",
   "execution_count": 19,
   "metadata": {},
   "outputs": [],
   "source": [
    "# Perda de conteúdo\n",
    "\n",
    "def content_loss(base, combination):\n",
    "    return K.sum(K.square(combination - base))"
   ]
  },
  {
   "cell_type": "markdown",
   "metadata": {},
   "source": [
    "Depois, há a perda de estilo, que calcula a matriz de Gram da matriz de entrada e calcula a perda de estilo usando a matriz de Gram:"
   ]
  },
  {
   "cell_type": "code",
   "execution_count": 20,
   "metadata": {},
   "outputs": [],
   "source": [
    "# 风格损失\n",
    "\n",
    "def gram_matrix(x):\n",
    "    features = K.batch_flatten(K.permute_dimensions(x, (2, 0, 1)))\n",
    "    gram = K.dot(features, K.transpose(features))\n",
    "    return gram\n",
    "\n",
    "def style_loss(style, combination):\n",
    "    S = gram_matrix(style)\n",
    "    C = gram_matrix(combination)\n",
    "    channels = 3\n",
    "    size = img_height * img_width\n",
    "    return K.sum(K.square(S - C)) / (4.0 * (channels ** 2) * (size ** 2))"
   ]
  },
  {
   "cell_type": "markdown",
   "metadata": {},
   "source": [
    "这里我们再额外定义一个「总变差损失」(total variation loss)，促使生成图像具有空间连续性，避免结果过度像素化，相当于一个正则化。"
   ]
  },
  {
   "cell_type": "code",
   "execution_count": 21,
   "metadata": {},
   "outputs": [],
   "source": [
    "# 总变差损失\n",
    "\n",
    "def total_variation_loss(x):\n",
    "    a = K.square(\n",
    "        x[:, :img_height - 1, :img_width - 1, :] - \n",
    "        x[:, 1:, :img_width - 1, :])\n",
    "    b = K.square(\n",
    "        x[:, :img_height - 1, :img_width - 1, :] - \n",
    "        x[:, :img_height - 1, 1:, :])\n",
    "    return K.sum(K.pow(a + b, 1.25))"
   ]
  },
  {
   "cell_type": "markdown",
   "metadata": {},
   "source": [
    "现在考虑具体的损失计算：在计算内容损失时，我们需要一个靠顶部的层；对于风格损失，我们需要使用一系列层，既包括顶层也包括底层；最后还需要添加总变差损失。最终的损失就是这三类损失的加权平均。"
   ]
  },
  {
   "cell_type": "code",
   "execution_count": 22,
   "metadata": {},
   "outputs": [],
   "source": [
    "# 定义需要最小化的最终损失\n",
    "\n",
    "outputs_dict = {layer.name: layer.output for layer in model.layers}\n",
    "\n",
    "content_layer = 'block5_conv2'\n",
    "style_layers = [f'block{i}_conv1' for i in range(1, 6)]\n",
    "\n",
    "total_variation_weight = 1e-4\n",
    "style_weight = 1.0\n",
    "content_weight = 0.025  # content_weight越大，目标内容更容易在生成图像中越容易识别\n",
    "\n",
    "# 内容损失\n",
    "loss = K.variable(0.)\n",
    "layer_features = outputs_dict[content_layer]\n",
    "target_image_features = layer_features[0, :, :, :]\n",
    "combination_features = layer_features[2, :, :, :]\n",
    "loss = loss + content_weight * content_loss(target_image_features, combination_features)\n",
    "\n",
    "# 风格损失\n",
    "for layer_name in style_layers:\n",
    "    layer_features = outputs_dict[layer_name]\n",
    "    style_reference_features = layer_features[1, :, :, :]\n",
    "    combination_features = layer_features[2, :, :, :]\n",
    "    sl = style_loss(style_reference_features, combination_features)\n",
    "    loss = loss + (style_weight / len(style_layers)) * sl\n",
    "    \n",
    "# 总变差损失\n",
    "loss = loss + total_variation_weight * total_variation_loss(combination_image)"
   ]
  },
  {
   "cell_type": "markdown",
   "metadata": {},
   "source": [
    "最后就是梯度下降过程了。这里调用 scipy，用 `L-BFGS` 算法进行最优化。\n",
    "\n",
    "为了快速计算，我们创建一个 Evaluator 类，同时计算损失值和梯度值，在第一次调用时会返回损失值，同时缓存梯度值用于下一次调用。"
   ]
  },
  {
   "cell_type": "code",
   "execution_count": 23,
   "metadata": {},
   "outputs": [],
   "source": [
    "# 设置梯度下降过程\n",
    "\n",
    "grads = K.gradients(loss, combination_image)[0]\n",
    "fetch_loss_and_grads = K.function([combination_image], [loss, grads])\n",
    "\n",
    "class Evaluator(object):\n",
    "    def __init__(self):\n",
    "        self.loss_value = None\n",
    "        self.grads_values = None\n",
    "        \n",
    "    def loss(self, x):\n",
    "        assert self.loss_value is None\n",
    "        x = x.reshape((1, img_height, img_width, 3))\n",
    "        outs = fetch_loss_and_grads([x])\n",
    "        loss_value = outs[0]\n",
    "        grad_values = outs[1].flatten().astype('float64')\n",
    "        self.loss_value = loss_value\n",
    "        self.grads_values = grad_values\n",
    "        return self.loss_value\n",
    "    \n",
    "    def grads(self, x):\n",
    "        assert self.loss_value is not None\n",
    "        grad_values = np.copy(self.grads_values)\n",
    "        self.loss_value = None\n",
    "        self.grad_values = None\n",
    "        return grad_values\n",
    "        \n",
    "evaluator = Evaluator()"
   ]
  },
  {
   "cell_type": "markdown",
   "metadata": {},
   "source": [
    "最后的最后，调用 SciPy 的 L-BFGS 算法来运行梯度上升过程，每一次迭代(20 步梯度上升)后都保存当前的生成图像："
   ]
  },
  {
   "cell_type": "code",
   "execution_count": 24,
   "metadata": {},
   "outputs": [
    {
     "name": "stdout",
     "output_type": "stream",
     "text": [
      "Start of iteration 0\n",
      "  Current loss value: 442468450.0\n",
      "  Image saved as results/result_at_iteration_0.png\n",
      "  Iteration 0 completed in 177.57321500778198 s\n",
      "Start of iteration 1\n",
      "  Current loss value: 220311460.0\n",
      "  Image saved as results/result_at_iteration_1.png\n",
      "  Iteration 1 completed in 170.76263999938965 s\n",
      "Start of iteration 2\n",
      "  Current loss value: 161225440.0\n",
      "  Image saved as results/result_at_iteration_2.png\n",
      "  Iteration 2 completed in 181.72589802742004 s\n",
      "Start of iteration 3\n",
      "  Current loss value: 135288640.0\n",
      "  Image saved as results/result_at_iteration_3.png\n",
      "  Iteration 3 completed in 176.2833709716797 s\n",
      "Start of iteration 4\n",
      "  Current loss value: 117499910.0\n",
      "  Image saved as results/result_at_iteration_4.png\n",
      "  Iteration 4 completed in 191.78947687149048 s\n",
      "Start of iteration 5\n",
      "  Current loss value: 105684536.0\n",
      "  Image saved as results/result_at_iteration_5.png\n",
      "  Iteration 5 completed in 189.79483294487 s\n",
      "Start of iteration 6\n",
      "  Current loss value: 95785740.0\n",
      "  Image saved as results/result_at_iteration_6.png\n",
      "  Iteration 6 completed in 207.53733015060425 s\n",
      "Start of iteration 7\n",
      "  Current loss value: 87925460.0\n",
      "  Image saved as results/result_at_iteration_7.png\n",
      "  Iteration 7 completed in 205.23730516433716 s\n",
      "Start of iteration 8\n",
      "  Current loss value: 80994420.0\n",
      "  Image saved as results/result_at_iteration_8.png\n",
      "  Iteration 8 completed in 173.9172248840332 s\n",
      "Start of iteration 9\n",
      "  Current loss value: 75526030.0\n",
      "  Image saved as results/result_at_iteration_9.png\n",
      "  Iteration 9 completed in 171.63874793052673 s\n",
      "Start of iteration 10\n",
      "  Current loss value: 69631650.0\n",
      "  Image saved as results/result_at_iteration_10.png\n",
      "  Iteration 10 completed in 196.33709502220154 s\n",
      "Start of iteration 11\n",
      "  Current loss value: 65286160.0\n",
      "  Image saved as results/result_at_iteration_11.png\n",
      "  Iteration 11 completed in 191.3251178264618 s\n",
      "Start of iteration 12\n",
      "  Current loss value: 61511944.0\n",
      "  Image saved as results/result_at_iteration_12.png\n",
      "  Iteration 12 completed in 206.86293005943298 s\n",
      "Start of iteration 13\n",
      "  Current loss value: 58609350.0\n",
      "  Image saved as results/result_at_iteration_13.png\n",
      "  Iteration 13 completed in 177.63087797164917 s\n",
      "Start of iteration 14\n",
      "  Current loss value: 55896484.0\n",
      "  Image saved as results/result_at_iteration_14.png\n",
      "  Iteration 14 completed in 174.04010701179504 s\n",
      "Start of iteration 15\n",
      "  Current loss value: 53155708.0\n",
      "  Image saved as results/result_at_iteration_15.png\n",
      "  Iteration 15 completed in 179.62437200546265 s\n",
      "Start of iteration 16\n",
      "  Current loss value: 50788788.0\n",
      "  Image saved as results/result_at_iteration_16.png\n",
      "  Iteration 16 completed in 174.6363160610199 s\n",
      "Start of iteration 17\n",
      "  Current loss value: 48466696.0\n",
      "  Image saved as results/result_at_iteration_17.png\n",
      "  Iteration 17 completed in 172.9484281539917 s\n",
      "Start of iteration 18\n",
      "  Current loss value: 46473520.0\n",
      "  Image saved as results/result_at_iteration_18.png\n",
      "  Iteration 18 completed in 171.4425630569458 s\n",
      "Start of iteration 19\n",
      "  Current loss value: 44762796.0\n",
      "  Image saved as results/result_at_iteration_19.png\n",
      "  Iteration 19 completed in 177.95070385932922 s\n"
     ]
    }
   ],
   "source": [
    "from scipy.optimize import fmin_l_bfgs_b\n",
    "from imageio import imsave\n",
    "import time\n",
    "\n",
    "iterations = 20\n",
    "\n",
    "def result_fname(iteration):\n",
    "    return f'results/result_at_iteration_{iteration}.png'\n",
    "\n",
    "x = preprocess_image(target_image_path)\n",
    "x = x.flatten()\n",
    "\n",
    "for i in range(iterations):\n",
    "    print('Start of iteration', i)\n",
    "    start_time = time.time()\n",
    "    \n",
    "    x, min_val, info = fmin_l_bfgs_b(evaluator.loss,\n",
    "                                     x,\n",
    "                                     fprime=evaluator.grads,\n",
    "                                     maxfun=20)\n",
    "    print('  Current loss value:', min_val)\n",
    "    \n",
    "    img = x.copy().reshape((img_height, img_width, 3))\n",
    "    img = deprocess_image(img)\n",
    "    fname = result_fname(i)\n",
    "    imsave(fname, img)\n",
    "    print('  Image saved as', fname)\n",
    "    \n",
    "    end_time = time.time()\n",
    "    print(f'  Iteration {i} completed in {end_time - start_time} s')"
   ]
  },
  {
   "cell_type": "markdown",
   "metadata": {},
   "source": [
    "把结果和原图放在一起比较一下：\n",
    "\n",
    "![结果1](https://tva1.sinaimg.cn/large/007S8ZIlgy1ghu38838haj317h0u0b2b.jpg)\n",
    "\n",
    "再看一个例子：风格参考还是用梵高的《麦田里的丝柏树》，内容用米勒的《拾穗者》(Des glaneuses，1857年，巴黎奥塞美术馆)。比较有意思的是，梵高本人画过一幅部分模仿《拾穗者》的《夕阳下两位农妇开掘积雪覆盖的田地》(Zwei grabende Bäuerinnen auf schneebedecktem Feld)：\n",
    "\n",
    "![结果2](https://tva1.sinaimg.cn/large/007S8ZIlgy1ghu6d9c19jj30vr0u0u0x.jpg)\n",
    "\n",
    "可以看到，我们的机器只是简单粗暴的风格迁移，而大师本人会在模仿中再创作。\n",
    "\n",
    "最后，补充一点。这个风格迁移算法的运行比较慢，但足够简单。要实现快速风格迁移，可以考虑：首先利用这里介绍的方法，固定一张风格参考图像，给不同的内容图像，生成一大堆「输入-输出」训练样例，拿这些「输入-输出」去训练一个简单的卷积神经网络来学习这个特定风格的变换(输入->输出)。完成之后，对一张图像进行特定风格的迁移就非常快了，做一次前向传递就完成了。"
   ]
  }
 ],
 "metadata": {
  "kernelspec": {
   "display_name": "Python 3",
   "language": "python",
   "name": "python3"
  },
  "language_info": {
   "codemirror_mode": {
    "name": "ipython",
    "version": 3
   },
   "file_extension": ".py",
   "mimetype": "text/x-python",
   "name": "python",
   "nbconvert_exporter": "python",
   "pygments_lexer": "ipython3",
   "version": "3.7.9"
  }
 },
 "nbformat": 4,
 "nbformat_minor": 4
}
