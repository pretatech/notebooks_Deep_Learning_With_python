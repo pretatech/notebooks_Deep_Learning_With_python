{
 "cells": [
  {
   "cell_type": "markdown",
   "metadata": {},
   "source": [
    "# Deep Learning with Python\n",
    "\n",
    "## 6.1  Working with text data\n",
    "\n",
    "> Processando dados de texto\n",
    "\n",
    "Use redes neurais de aprendizado profundo para processar dados de texto, semelhantes a imagens, mas também vetorizar os dados: texto -> tensor numérico.\n",
    "\n",
    "Para fazer isso, você pode transformar cada palavra em um vetor, pode transformar um caractere em um vetor e pode transformar várias palavras ou caracteres consecutivos (chamados * N-gramas *) em um vetor.\n",
    "\n",
    "Independentemente de como dividir, chamamos a unidade de divisão de texto de * tokens * (marcas), e o processo de divisão de texto é chamado de * tokenização * (segmentação de palavra).\n",
    "\n",
    "> Observação: a tradução chinesa do token é \"Mark\" 😂. Essas traduções são estranhas. Embora token tenha o significado de uma marca, traduzir o token aqui em uma marca não tem sabor interno. Acho que token é o significado de usar uma coisa em nome de outra. Esse tipo de token é uma coisa física, como um voucher. A palavra \"marca\" é usada como substantivo no dicionário para significar \"marcas para marcar\", e não acho que as marcas sejam muito substanciais. Um voucher não é um token, pode-se dizer que é uma marca. Da mesma forma, o token aqui também é um tipo de coisa física. Não acho que possa ser chamado de \"marca\". Não concordo com este método de tradução, portanto, todos os tokens envolvidos no seguinte são escritos como \"token\" em vez de \"marca\".\n",
    "\n",
    "\n",
    "A vetorização do texto é fazer a segmentação da palavra primeiro, depois os tokens gerados são correspondidos aos vetores numéricos um a um e, finalmente, os vetores numéricos correspondentes são sintetizados em um tensor que expressa o texto original. Entre eles, o mais interessante é como estabelecer a conexão entre token e vetor numérico. Aqui estão duas maneiras de fazer isso: codificação one-hot (codificação one-hot) e incorporação de token (incorporação de marca), entre as quais a incorporação de token é geralmente usada para palavras , Denominado \"incorporação de palavras\".\n",
    "\n",
    "Mais informações: https://ilumeo.com.br/todos-posts/2020/06/12/um-guia-para-pnl-processamento-de-linguagem-natural"
   ]
  },
  {
   "cell_type": "markdown",
   "metadata": {},
   "source": [
    "Antes de mais nada os notebooks aqui mostrado tiveram como base/foram retirados dos seguintes repositórios: \n",
    " > https://github.com/fchollet/deep-learning-with-python-notebooks \n",
    " \n",
    " \n",
    " > https://github.com/cdfmlr/Deep-Learning-with-Python-Notebooks\n",
    " \n",
    " Sugiro fortemente que consultem os códigos originais e em caso de dúvida podem me contatar para conversarmos. "
   ]
  },
  {
   "cell_type": "markdown",
   "metadata": {},
   "source": [
    "### n-gramas e pacote de palavras\n",
    "\n",
    "n-gram é uma coleção de ≤N palavras consecutivas que podem ser extraídas de uma frase. Por exemplo: \"O gato sentou no tapete.\"\n",
    "\n",
    "Esta frase decomposta em 2 gramas é:\n",
    "\n",
    "`` `\n",
    "{\"O\", \"O gato\", \"gato\", \"gato sentou\", \"sentou\",\n",
    "  \"sentou em\", \"em\", \"no\", \"em no\", \"no tapete\", \"tapete\"}\n",
    "`` `\n",
    "\n",
    "Este conjunto é denominado saco de 2 gramas (saco de 2 gramas).\n",
    "\n",
    "Decomposto em 3 gramas é:\n",
    "\n",
    "`` `\n",
    "{\"O\", \"O gato\", \"gato\", \"o gato sentou\", \"O gato sentou\",\n",
    "  \"sentou\", \"sentou em\", \"em\", \"gato sentou em\", \"em\", \"em\",\n",
    "  \"sentou no\", \"no tapete\", \"no tapete\", \"no tapete\"}\n",
    "`` `\n",
    "\n",
    "Este conjunto é denominado saco de 3 gramas (saco de 3 gramas).\n",
    "\n",
    "Essa coisa é chamada de \"bolsa\" porque é apenas uma coleção de tokens, sem a ordem e o significado do texto original. O método de segmentação de palavras para dividir o texto em tais sacos é denominado \"saco de palavras\".\n",
    "\n",
    "Como o pacote de palavras não preserva a ordem (a separação é um conjunto, não uma sequência), geralmente não é usado no aprendizado profundo. Mas no modelo de processamento de texto leve e raso, n-grama e pacote de palavras ainda são métodos muito importantes."
   ]
  },
  {
   "cell_type": "markdown",
   "metadata": {},
   "source": [
    "### Codificação one-hot (one-hot encoding)\n",
    "\n",
    "One-hot é relativamente básico e comumente usado. O método consiste em associar cada token a um índice inteiro único e, em seguida, converter o índice inteiro i em um vetor binário de comprimento N (N é o tamanho do vocabulário). Esse vetor tem apenas o i-ésimo elemento de 1 e o resto dos elementos são 0 .\n",
    "\n",
    "Link: https://medium.com/@arthurlambletvaz/one-hot-encoding-o-que-%C3%A9-cd2e8d302ae0\n",
    "\n",
    "Aqui estão duas versões de brinquedo de exemplos de codificação one-hot:"
   ]
  },
  {
   "cell_type": "code",
   "execution_count": 1,
   "metadata": {},
   "outputs": [
    {
     "name": "stdout",
     "output_type": "stream",
     "text": [
      "[[[0. 1. 0. 0. 0. 0. 0. 0. 0. 0. 0.]\n",
      "  [0. 0. 1. 0. 0. 0. 0. 0. 0. 0. 0.]\n",
      "  [0. 0. 0. 1. 0. 0. 0. 0. 0. 0. 0.]\n",
      "  [0. 0. 0. 0. 1. 0. 0. 0. 0. 0. 0.]\n",
      "  [0. 0. 0. 0. 0. 1. 0. 0. 0. 0. 0.]\n",
      "  [0. 0. 0. 0. 0. 0. 1. 0. 0. 0. 0.]\n",
      "  [0. 0. 0. 0. 0. 0. 0. 0. 0. 0. 0.]\n",
      "  [0. 0. 0. 0. 0. 0. 0. 0. 0. 0. 0.]\n",
      "  [0. 0. 0. 0. 0. 0. 0. 0. 0. 0. 0.]\n",
      "  [0. 0. 0. 0. 0. 0. 0. 0. 0. 0. 0.]]\n",
      "\n",
      " [[0. 1. 0. 0. 0. 0. 0. 0. 0. 0. 0.]\n",
      "  [0. 0. 0. 0. 0. 0. 0. 1. 0. 0. 0.]\n",
      "  [0. 0. 0. 0. 0. 0. 0. 0. 1. 0. 0.]\n",
      "  [0. 0. 0. 0. 0. 0. 0. 0. 0. 1. 0.]\n",
      "  [0. 0. 0. 0. 0. 0. 0. 0. 0. 0. 1.]\n",
      "  [0. 0. 0. 0. 0. 0. 0. 0. 0. 0. 0.]\n",
      "  [0. 0. 0. 0. 0. 0. 0. 0. 0. 0. 0.]\n",
      "  [0. 0. 0. 0. 0. 0. 0. 0. 0. 0. 0.]\n",
      "  [0. 0. 0. 0. 0. 0. 0. 0. 0. 0. 0.]\n",
      "  [0. 0. 0. 0. 0. 0. 0. 0. 0. 0. 0.]]]\n"
     ]
    }
   ],
   "source": [
    "# Codificação one-hot para palavra\n",
    "\n",
    "import numpy as np\n",
    "\n",
    "samples = ['The cat sat on the mat.', 'The dog ate my homework.']\n",
    "\n",
    "token_index = {}\n",
    "for sample in samples:\n",
    "    for word in sample.split():\n",
    "        if word not in token_index:\n",
    "            token_index[word] = len(token_index) + 1\n",
    "            \n",
    "# Segmente a amostra. Considere apenas as primeiras palavras max_length de cada amostra\n",
    "max_length = 10 #nesse caso as 10 primeiras palavras\n",
    "\n",
    "results = np.zeros(shape=(len(samples), \n",
    "                          max_length, \n",
    "                          max(token_index.values()) + 1))\n",
    "for i, sample in enumerate(samples):\n",
    "    for j, word in list(enumerate(sample.split()))[:max_length]:\n",
    "        index = token_index.get(word)\n",
    "        results[i, j, index] = 1.\n",
    "\n",
    "print(results)"
   ]
  },
  {
   "cell_type": "code",
   "execution_count": 3,
   "metadata": {},
   "outputs": [
    {
     "name": "stdout",
     "output_type": "stream",
     "text": [
      "[[[1. 1. 1. ... 1. 1. 1.]\n",
      "  [1. 1. 1. ... 1. 1. 1.]\n",
      "  [1. 1. 1. ... 1. 1. 1.]\n",
      "  ...\n",
      "  [0. 0. 0. ... 0. 0. 0.]\n",
      "  [0. 0. 0. ... 0. 0. 0.]\n",
      "  [0. 0. 0. ... 0. 0. 0.]]\n",
      "\n",
      " [[1. 1. 1. ... 1. 1. 1.]\n",
      "  [1. 1. 1. ... 1. 1. 1.]\n",
      "  [1. 1. 1. ... 1. 1. 1.]\n",
      "  ...\n",
      "  [0. 0. 0. ... 0. 0. 0.]\n",
      "  [0. 0. 0. ... 0. 0. 0.]\n",
      "  [0. 0. 0. ... 0. 0. 0.]]]\n"
     ]
    }
   ],
   "source": [
    "# One-hot encodging para caractere \n",
    "import string\n",
    "\n",
    "samples = ['The cat sat on the mat.', 'The dog ate my homework.']\n",
    "\n",
    "characters = string.printable    # Todos os caracteres ASCII imprimíveis\n",
    "token_index = dict(zip(range(1, len(characters) + 1), characters))\n",
    "\n",
    "max_length = 50\n",
    "results = np.zeros((len(samples), max_length, max(token_index.keys()) + 1))\n",
    "for i, sample in enumerate(samples):\n",
    "    for j, character in enumerate(sample):\n",
    "        index = token_index.get(character)\n",
    "        results[i, j, index] = 1.\n",
    "        \n",
    "print(results)"
   ]
  },
  {
   "cell_type": "markdown",
   "metadata": {},
   "source": [
    "Keras tem uma ferramenta de codificação one-hot integrada que é muito mais poderosa do que a versão teste recém-escrita. No uso real, você deve usar este método em vez da versão escrita anteriormente:"
   ]
  },
  {
   "cell_type": "code",
   "execution_count": 21,
   "metadata": {},
   "outputs": [
    {
     "name": "stdout",
     "output_type": "stream",
     "text": [
      "sequences: [[1, 2, 3, 4, 1, 5], [1, 6, 7, 8, 9]]\n",
      "one_hot_results: shape=(2, 1000):\n",
      " [[0. 1. 1. ... 0. 0. 0.]\n",
      " [0. 1. 0. ... 0. 0. 0.]]\n",
      "Found 9 unique tokens. word_index: {'the': 1, 'cat': 2, 'sat': 3, 'on': 4, 'mat': 5, 'dog': 6, 'ate': 7, 'my': 8, 'homework': 9}\n"
     ]
    }
   ],
   "source": [
    "from tensorflow.keras.preprocessing.text import Tokenizer\n",
    "\n",
    "samples = ['The cat sat on the mat.', 'The dog ate my homework.']\n",
    "\n",
    "tokenizer = Tokenizer(num_words=1000)    # Considere apenas as 1000 palavras mais comuns\n",
    "tokenizer.fit_on_texts(samples)\n",
    "\n",
    "sequences = tokenizer.texts_to_sequences(samples)    # Converte uma string em uma lista de índices inteiros\n",
    "print('sequences:', sequences)\n",
    "\n",
    "one_hot_results = tokenizer.texts_to_matrix(samples, mode='binary')  # Obtenha representação binária one-hot diretamente\n",
    "\n",
    "word_index = tokenizer.word_index    # O índice de palavras é o dicionário de vocabulário, você pode restaurar os dados com isso\n",
    "\n",
    "print(f'one_hot_results: shape={one_hot_results.shape}:\\n', one_hot_results, )\n",
    "print(f'Found {len(word_index)} unique tokens.', 'word_index:', word_index)"
   ]
  },
  {
   "cell_type": "markdown",
   "metadata": {},
   "source": [
    "Há também uma variante simples dessa codificação one-hot chamada * truque de hashing one-hot *. A ideia desse método não é associar um índice inteiro único a cada token, mas usar uma função hash Para funcionar, o texto é mapeado diretamente em um vetor de comprimento fixo.\n",
    "\n",
    "Desta forma, você pode economizar a sobrecarga de memória para manter o índice de palavras e também pode implementar a codificação online (codificar um por um sem afetar os subsequentes); mas existem algumas desvantagens: podem ocorrer conflitos de hash e os dados codificados não podem ser usados. redução."
   ]
  },
  {
   "cell_type": "code",
   "execution_count": 23,
   "metadata": {},
   "outputs": [
    {
     "name": "stdout",
     "output_type": "stream",
     "text": [
      "(2, 10, 1000)\n",
      "[[[0. 0. 0. ... 0. 0. 0.]\n",
      "  [0. 0. 0. ... 0. 0. 0.]\n",
      "  [0. 0. 0. ... 0. 0. 0.]\n",
      "  ...\n",
      "  [0. 0. 0. ... 0. 0. 0.]\n",
      "  [0. 0. 0. ... 0. 0. 0.]\n",
      "  [0. 0. 0. ... 0. 0. 0.]]\n",
      "\n",
      " [[0. 0. 0. ... 0. 0. 0.]\n",
      "  [0. 0. 0. ... 0. 0. 0.]\n",
      "  [0. 0. 0. ... 0. 0. 0.]\n",
      "  ...\n",
      "  [0. 0. 0. ... 0. 0. 0.]\n",
      "  [0. 0. 0. ... 0. 0. 0.]\n",
      "  [0. 0. 0. ... 0. 0. 0.]]]\n"
     ]
    }
   ],
   "source": [
    "# Codificação one-hot no nível da palavra usando técnicas de hash, versão de brinquedo\n",
    "\n",
    "samples = ['The cat sat on the mat.', 'The dog ate my homework.']\n",
    "\n",
    "dimensionality = 1000  # Salve a palavra como um vetor de comprimento 1000. Quanto mais palavras houver, maior será o valor, caso contrário, o conflito de hash pode aumentar\n",
    "max_length = 10\n",
    "\n",
    "results = np.zeros((len(samples), max_length, dimensionality))\n",
    "for i, sample in enumerate(samples):\n",
    "    for j, word in list(enumerate(sample.split()))[:max_length]:\n",
    "        index = abs(hash(word)) % dimensionality  # Hash a palavra em um índice inteiro aleatório no intervalo de 0 ~ dimensionalidade\n",
    "        results[i, j, index] = 1.\n",
    "\n",
    "print(results.shape)\n",
    "print(results)"
   ]
  },
  {
   "cell_type": "markdown",
   "metadata": {},
   "source": [
    "### Incorporação de palavras\n",
    "\n",
    "No exemplo anterior, você também pode ver que o vetor de resultado obtido pela codificação one-hot é muito esparso e tem uma dimensão relativamente alta.\n",
    "\n",
    "A incorporação de palavras é outro método comum de associação de palavras a vetores. Este método pode obter uma codificação mais densa e de baixa dimensão do que um hot. O resultado da incorporação de palavras é aprendido a partir dos dados.\n",
    "\n",
    "Existem duas maneiras de usar a incorporação de palavras:\n",
    "\n",
    "1. Use a camada de incorporação para aprender a incorporação de palavras: aprenda a incorporação de palavras enquanto realiza a tarefa principal (como classificação de documento ou previsão de sentimento): comece com um vetor de palavras aleatório e, em seguida, use o mesmo peso para o vetor de palavras que a rede neural de aprendizagem Maneira de aprender.\n",
    "2. Use incorporação de palavras pré-treinada: pré-treine a incorporação de palavras em uma tarefa de aprendizado de máquina diferente do problema a ser resolvido e, em seguida, carregue-a no modelo.\n"
   ]
  },
  {
   "cell_type": "markdown",
   "metadata": {},
   "source": [
    "#### Use a camada de incorporação para aprender a incorporação de palavras\n",
    "\n",
    "Um espaço de incorporação de palavras ideal deve ser capaz de mapear a linguagem humana perfeitamente. Tem uma estrutura realista, palavras semelhantes devem estar relativamente próximas no espaço e a direção em que as palavras estão inseridas no espaço também deve ser significativa.\n",
    "Neste espaço de incorporação de palavras, animais de estimação estão na posição inferior e os animais selvagens estão na posição superior, então um vetor de baixo para cima deve representar animais de estimação para animais selvagens, este vetor é de gato para tigre Ou cachorro -> lobo. Da mesma forma, um vetor da esquerda para a direita pode ser interpretado como de cão para gato, esse vetor pode ser de cão para gato ou de lobo para tigre.\n",
    "\n",
    "Para ser mais complicado, por exemplo, se você quiser expressar a relação de gênero de uma palavra, adicione o vetor rei ao vetor feminino, você deve obter o vetor rainha e a relação plural: rei + plural == reis ......\n",
    "\n",
    "Portanto, é difícil ter uma palavra tão perfeita incorporando espaço, e ela ainda não está lá. Mas, usando o aprendizado profundo, ainda podemos obter um espaço de incorporação de palavras melhor para um problema específico. No Keras, precisamos apenas deixar o modelo aprender o peso de uma camada de incorporação para obter a palavra espaço de incorporação para a tarefa atual:"
   ]
  },
  {
   "cell_type": "code",
   "execution_count": 24,
   "metadata": {},
   "outputs": [],
   "source": [
    "from tensorflow.keras.layers import Embedding\n",
    "\n",
    "embedding_layer = Embedding(1000, 64)  # Incorporação (número de tokens possíveis, dimensão de incorporação)"
   ]
  },
  {
   "cell_type": "markdown",
   "metadata": {},
   "source": [
    "A camada de incorporação é, na verdade, equivalente a um dicionário, que mapeia um índice inteiro que representa uma palavra específica para um vetor de palavras.\n",
    "\n",
    "\n",
    "\n",
    "A entrada da camada de incorporação é um tensor inteiro bidimensional de forma `(amostras, comprimento_de_sequência)`. Um elemento neste tensor de entrada é uma sequência de inteiros que representa uma sequência de texto. Todas as sequências de entrada devem ser mantidas com o mesmo comprimento. Sequências mais curtas devem ser preenchidas com 0 e as sequências mais longas devem ser truncadas.\n",
    "\n",
    "A saída da camada Embedding é um tensor de ponto flutuante tridimensional com a forma `(samples, sequence_length, embedding_dimensionality)`. Esta saída pode ser processada por RNN ou Conv1D para outras coisas.\n",
    "\n",
    "A camada de Embedding também é inicializada de forma aleatória no início.Durante o processo de treinamento, a retropropagação será usada para ajustar gradativamente o vetor de palavras e alterar a estrutura espacial, aproximando-se passo a passo do estado ideal que mencionamos anteriormente.\n",
    "\n",
    "Exemplo: Use a camada Embedding para processar a previsão de emoção da resenha de filme IMDB."
   ]
  },
  {
   "cell_type": "code",
   "execution_count": 25,
   "metadata": {},
   "outputs": [],
   "source": [
    "# Carregar dados IMDB, prontos para serem usados na camada de incorporação\n",
    "\n",
    "from tensorflow.keras.datasets import imdb\n",
    "from tensorflow.keras import preprocessing\n",
    "\n",
    "max_features = 10000    # Número de palavras como características\n",
    "maxlen = 20    # Truncar texto após palavras de recurso maxlen\n",
    "\n",
    "(x_train, y_train), (x_test, y_test) = imdb.load_data(num_words=max_features)\n",
    "\n",
    "# Converta uma lista de inteiros em um tensor de forma inteiro bidimensional (amostras, maxlen)\n",
    "x_train = preprocessing.sequence.pad_sequences(x_train, maxlen=maxlen)\n",
    "x_test = preprocessing.sequence.pad_sequences(x_test, maxlen=maxlen)"
   ]
  },
  {
   "cell_type": "code",
   "execution_count": 28,
   "metadata": {},
   "outputs": [
    {
     "name": "stdout",
     "output_type": "stream",
     "text": [
      "Model: \"sequential_1\"\n",
      "_________________________________________________________________\n",
      "Layer (type)                 Output Shape              Param #   \n",
      "=================================================================\n",
      "embedding_2 (Embedding)      (None, 20, 8)             80000     \n",
      "_________________________________________________________________\n",
      "flatten_1 (Flatten)          (None, 160)               0         \n",
      "_________________________________________________________________\n",
      "dense_1 (Dense)              (None, 1)                 161       \n",
      "=================================================================\n",
      "Total params: 80,161\n",
      "Trainable params: 80,161\n",
      "Non-trainable params: 0\n",
      "_________________________________________________________________\n",
      "Epoch 1/10\n",
      "625/625 [==============================] - 1s 1ms/step - loss: 0.6686 - acc: 0.6145 - val_loss: 0.6152 - val_acc: 0.6952\n",
      "Epoch 2/10\n",
      "625/625 [==============================] - 1s 929us/step - loss: 0.5370 - acc: 0.7525 - val_loss: 0.5214 - val_acc: 0.7318\n",
      "Epoch 3/10\n",
      "625/625 [==============================] - 1s 878us/step - loss: 0.4573 - acc: 0.7895 - val_loss: 0.4979 - val_acc: 0.7456\n",
      "Epoch 4/10\n",
      "625/625 [==============================] - 1s 889us/step - loss: 0.4182 - acc: 0.8116 - val_loss: 0.4937 - val_acc: 0.7512\n",
      "Epoch 5/10\n",
      "625/625 [==============================] - 1s 902us/step - loss: 0.3931 - acc: 0.8224 - val_loss: 0.4935 - val_acc: 0.7568\n",
      "Epoch 6/10\n",
      "625/625 [==============================] - 1s 931us/step - loss: 0.3721 - acc: 0.8360 - val_loss: 0.4969 - val_acc: 0.7582\n",
      "Epoch 7/10\n",
      "625/625 [==============================] - 1s 878us/step - loss: 0.3534 - acc: 0.8482 - val_loss: 0.5050 - val_acc: 0.7570\n",
      "Epoch 8/10\n",
      "625/625 [==============================] - 1s 873us/step - loss: 0.3356 - acc: 0.8579 - val_loss: 0.5103 - val_acc: 0.7556\n",
      "Epoch 9/10\n",
      "625/625 [==============================] - 1s 999us/step - loss: 0.3183 - acc: 0.8670 - val_loss: 0.5161 - val_acc: 0.7560\n",
      "Epoch 10/10\n",
      "625/625 [==============================] - 1s 886us/step - loss: 0.3017 - acc: 0.8766 - val_loss: 0.5260 - val_acc: 0.7508\n"
     ]
    }
   ],
   "source": [
    "# Use camada de incorporação e classificador em dados IMDB\n",
    "\n",
    "from tensorflow.keras.models import Sequential\n",
    "from tensorflow.keras.layers import Embedding, Flatten, Dense\n",
    "\n",
    "model = Sequential()\n",
    "model.add(Embedding(10000, 8, input_length=maxlen))  # (samples, maxlen, 8)\n",
    "model.add(Flatten())  # (samles, maxlen*8)\n",
    "model.add(Dense(1, activation='sigmoid'))  # top classifier\n",
    "\n",
    "model.compile(optimizer='rmsprop',\n",
    "              loss='binary_crossentropy',\n",
    "              metrics=['acc'])\n",
    "model.summary()\n",
    "\n",
    "history = model.fit(x_train, y_train, \n",
    "                    epochs=10, \n",
    "                    batch_size=32, \n",
    "                    validation_split=0.2)\n"
   ]
  },
  {
   "cell_type": "markdown",
   "metadata": {},
   "source": [
    "Aqui, usamos apenas uma camada Densa para completar a classificação após expandir a sequência de incorporação de palavras, o que fará com que o modelo processe cada palavra na sequência de entrada separadamente, sem considerar a relação entre as palavras e a estrutura da frase. Isso fará com que a modelo pense que \"este filme é uma bomba\" e \"este filme é a bomba\" são críticas negativas. Para aprender a frase inteira, você precisa usar RNN ou Conv1D, que será apresentado mais tarde.\n",
    "\n",
    "#### Use incorporação de palavras pré-treinada\n",
    "\n",
    "Assim como quando usamos redes pré-treinadas ao fazer visão computacional, usamos embeddings de palavras pré-treinadas quando temos menos dados e emprestamos recursos comuns de modelos reutilizáveis ​​treinados por outros.\n",
    "\n",
    "A incorporação de palavras gerais geralmente é calculada usando estatísticas de frequência de palavras. Agora, existem muitas opções para nós, como word2vec, GloVe, etc. Os princípios específicos são mais complicados, portanto, podemos usá-los primeiro.\n",
    "\n",
    "Tentaremos usar o GloVe nos exemplos abaixo."
   ]
  },
  {
   "cell_type": "markdown",
   "metadata": {},
   "source": [
    "### Do texto original à incorporação de palavras\n",
    "\n",
    "Tentamos começar com os dados IMDB originais (ou seja, muito texto), processar os dados e fazer a incorporação de palavras.\n",
    "\n",
    "#### Baixe o texto original dos dados IMDB\n",
    "\n",
    "O conjunto de dados IMDB original pode ser baixado de [http://mng.bz/0tIo](http://mng.bz/0tIo) (finalmente, vá para http://s3.amazonaws.com/ a partir de s3 text-datasets / aclImdb.zip, a Internet é lenta se não for científica).\n",
    "\n",
    "O conjunto de dados baixado fica assim após a descompressão:\n",
    "\n",
    "`` `\n",
    "aclImdb\n",
    "├── teste\n",
    "│ ├── neg\n",
    "│ └── pos\n",
    "└── trem\n",
    "     ├── neg\n",
    "     └── pos\n",
    "`` `\n",
    "Sob cada diretório neg / pos há um grande número de arquivos `.txt`, cada um contendo um comentário.\n",
    "\n",
    "Em seguida, convertemos os comentários do trem em uma lista de strings, um comentário por string, e gravamos o rótulo correspondente (neg / pos) na lista de rótulos."
   ]
  },
  {
   "cell_type": "code",
   "execution_count": 43,
   "metadata": {},
   "outputs": [],
   "source": [
    "# Processando tags para dados brutos IMDB\n",
    "\n",
    "import os\n",
    "\n",
    "imdb_dir = '/Volumes/WD/Files/dataset/aclImdb'\n",
    "train_dir = os.path.join(imdb_dir, 'train')\n",
    "\n",
    "texts = []\n",
    "labels = []\n",
    "\n",
    "for label_type in ['neg', 'pos']:\n",
    "    dir_name = os.path.join(train_dir, label_type)\n",
    "    for fname in os.listdir(dir_name):\n",
    "        if fname.endswith('.txt'):\n",
    "            with open(os.path.join(dir_name, fname)) as f:\n",
    "                texts.append(f.read())\n",
    "            labels.append(0 if label_type == 'neg' else 1)\n"
   ]
  },
  {
   "cell_type": "code",
   "execution_count": 44,
   "metadata": {},
   "outputs": [
    {
     "name": "stdout",
     "output_type": "stream",
     "text": [
      "0 --> Working with one of the best Shakespeare sources, this film manages to be creditable to it's source, whilst still appealing to a wider audience.<br /><br />Branagh steals the film from under Fishburne's nose, and there's a talented cast on good form.\n",
      "1 --> Enchanted April is a tone poem, an impressionist painting, a masterpiece of conveying a message with few words. It has been one of my 10 favorite films since it came out. I continue to wait, albeit less patiently, for the film to come out in DVD format. Apparently, I am not alone.<br /><br />If parent company Amazon's listings are correct, there are many people who want this title in DVD format. Many people want to go to Italy with this cast and this script. Many people want to keep a permanent copy of this film in their libraries. The cast is spectacular, the cinematography and direction impeccable. The film is a definite keeper. Many have already asked. Please add our names to the list.\n",
      "25000 25000\n"
     ]
    }
   ],
   "source": [
    "print(labels[0], texts[0], sep=' --> ')\n",
    "print(labels[-1], texts[-1], sep=' --> ')\n",
    "print(len(texts), len(labels))"
   ]
  },
  {
   "cell_type": "markdown",
   "metadata": {},
   "source": [
    "#### Segmentação de dados\n",
    "\n",
    "Agora vamos segmentar as palavras e dividir o conjunto de treinamento e validação definido pelo caminho. Para experimentar a incorporação de palavras pré-treinamento, tornaremos o conjunto de treinamento menor, deixando apenas 200 dados para treinamento."
   ]
  },
  {
   "cell_type": "code",
   "execution_count": 45,
   "metadata": {},
   "outputs": [
    {
     "name": "stdout",
     "output_type": "stream",
     "text": [
      "Found 88582 unique tokens.\n",
      "Shape of data tensor: (25000, 100)\n",
      "Shape of label tensor: (25000,)\n"
     ]
    }
   ],
   "source": [
    "# Segmentação de texto de dados brutos IMDB\n",
    "\n",
    "import numpy as np\n",
    "\n",
    "from tensorflow.keras.preprocessing.text import Tokenizer\n",
    "from tensorflow.keras.preprocessing.sequence import pad_sequences\n",
    "\n",
    "maxlen = 100  # Basta olhar para as primeiras 100 palavras de cada comentário\n",
    "training_samples = 200\n",
    "validation_samples = 10000\n",
    "max_words = 10000\n",
    "\n",
    "tokenizer = Tokenizer(num_words=max_words)\n",
    "tokenizer.fit_on_texts(texts)\n",
    "sequences = tokenizer.texts_to_sequences(texts)\n",
    "word_index = tokenizer.word_index\n",
    "print(f'Found {len(word_index)} unique tokens.')\n",
    "\n",
    "data = pad_sequences(sequences, maxlen=maxlen)\n",
    "\n",
    "labels = np.asarray(labels)\n",
    "\n",
    "print('Shape of data tensor:', data.shape)\n",
    "print('Shape of label tensor:', labels.shape)\n",
    "\n",
    "# Dados codificados\n",
    "indices = np.arange(labels.shape[0])\n",
    "np.random.shuffle(indices)\n",
    "data = data[indices]\n",
    "labels = labels[indices]\n",
    "\n",
    "# Divida os conjuntos de treinamento e validação\n",
    "x_train = data[:training_samples]\n",
    "y_train = labels[:training_samples]\n",
    "x_val = data[training_samples: training_samples + validation_samples]\n",
    "y_val = labels[training_samples: training_samples + validation_samples]"
   ]
  },
  {
   "cell_type": "markdown",
   "metadata": {},
   "source": [
    "#### Baixar GloVe word embedding\n",
    "\n",
    "Baixe a incorporação de palavras GloVe pré-treinada: [http://nlp.stanford.edu/data/glove.6B.zip](http://nlp.stanford.edu/data/glove.6B.zip)\n",
    "\n",
    "Anote-o e descompacte-o.O vetor de incorporação de palavras 100-dimensional de 400.000 tokens treinados é armazenado em texto simples.\n",
    "\n",
    "#### Pré-processando a incorporação\n",
    "\n",
    "Analise o arquivo descompactado:"
   ]
  },
  {
   "cell_type": "code",
   "execution_count": 46,
   "metadata": {},
   "outputs": [
    {
     "name": "stdout",
     "output_type": "stream",
     "text": [
      "Found 400000 word vectors.\n"
     ]
    }
   ],
   "source": [
    "glove_dir = '...glove.6B'\n",
    "\n",
    "embeddings_index = {}\n",
    "\n",
    "with open(os.path.join(glove_dir, 'glove.6B.100d.txt')) as f:\n",
    "    for line in f:\n",
    "        values = line.split()\n",
    "        word = values[0]\n",
    "        coefs = np.asarray(values[1:], dtype='float32')\n",
    "        embeddings_index[word] = coefs\n",
    "\n",
    "print(f'Found {len(embeddings_index)} word vectors.')"
   ]
  },
  {
   "cell_type": "markdown",
   "metadata": {},
   "source": [
    "Então, temos que construir uma matriz de incorporação que pode ser carregada na camada de incorporação, e sua forma é `(max_words, embedding_dim)`."
   ]
  },
  {
   "cell_type": "code",
   "execution_count": 47,
   "metadata": {},
   "outputs": [
    {
     "name": "stdout",
     "output_type": "stream",
     "text": [
      "[[ 0.          0.          0.         ...  0.          0.\n",
      "   0.        ]\n",
      " [-0.038194   -0.24487001  0.72812003 ... -0.1459      0.82779998\n",
      "   0.27061999]\n",
      " [-0.071953    0.23127     0.023731   ... -0.71894997  0.86894\n",
      "   0.19539   ]\n",
      " ...\n",
      " [-0.44036001  0.31821999  0.10778    ... -1.29849994  0.11824\n",
      "   0.64845002]\n",
      " [ 0.          0.          0.         ...  0.          0.\n",
      "   0.        ]\n",
      " [-0.54539001 -0.31817999 -0.016281   ... -0.44865     0.067047\n",
      "   0.17975999]]\n"
     ]
    }
   ],
   "source": [
    "embedding_dim = 100\n",
    "\n",
    "embedding_matrix = np.zeros((max_words, embedding_dim))\n",
    "for word, i in word_index.items():\n",
    "    if i < max_words:\n",
    "        embedding_vector = embeddings_index.get(word)  # Alguns usam a palavra vetor em embeddings_index\n",
    "        if embedding_vector is not None:               # Use todos os zeros\n",
    "            embedding_matrix[i] = embedding_vector\n",
    "            \n",
    "print(embedding_matrix)"
   ]
  },
  {
   "cell_type": "markdown",
   "metadata": {},
   "source": [
    "#### Defina o modelo"
   ]
  },
  {
   "cell_type": "code",
   "execution_count": 48,
   "metadata": {},
   "outputs": [
    {
     "name": "stdout",
     "output_type": "stream",
     "text": [
      "Model: \"sequential_2\"\n",
      "_________________________________________________________________\n",
      "Layer (type)                 Output Shape              Param #   \n",
      "=================================================================\n",
      "embedding_3 (Embedding)      (None, 100, 100)          1000000   \n",
      "_________________________________________________________________\n",
      "flatten_2 (Flatten)          (None, 10000)             0         \n",
      "_________________________________________________________________\n",
      "dense_2 (Dense)              (None, 32)                320032    \n",
      "_________________________________________________________________\n",
      "dense_3 (Dense)              (None, 1)                 33        \n",
      "=================================================================\n",
      "Total params: 1,320,065\n",
      "Trainable params: 1,320,065\n",
      "Non-trainable params: 0\n",
      "_________________________________________________________________\n"
     ]
    }
   ],
   "source": [
    "from tensorflow.keras.models import Sequential\n",
    "from tensorflow.keras.layers import Embedding, Flatten, Dense\n",
    "\n",
    "model = Sequential()\n",
    "model.add(Embedding(max_words, embedding_dim, input_length=maxlen))\n",
    "model.add(Flatten())\n",
    "model.add(Dense(32, activation='relu'))\n",
    "model.add(Dense(1, activation='sigmoid'))\n",
    "\n",
    "model.summary()"
   ]
  },
  {
   "cell_type": "markdown",
   "metadata": {},
   "source": [
    "#### Carregar a palavra GloVe embutida no modelo"
   ]
  },
  {
   "cell_type": "code",
   "execution_count": 49,
   "metadata": {},
   "outputs": [],
   "source": [
    "model.layers[0].set_weights([embedding_matrix])\n",
    "model.layers[0].trainable = False"
   ]
  },
  {
   "cell_type": "markdown",
   "metadata": {},
   "source": [
    "#### Modelo de treinamento e avaliação"
   ]
  },
  {
   "cell_type": "code",
   "execution_count": 51,
   "metadata": {},
   "outputs": [
    {
     "name": "stdout",
     "output_type": "stream",
     "text": [
      "Epoch 1/10\n",
      "7/7 [==============================] - 0s 64ms/step - loss: 1.3595 - acc: 0.5150 - val_loss: 0.6871 - val_acc: 0.5490\n",
      "Epoch 2/10\n",
      "7/7 [==============================] - 0s 42ms/step - loss: 0.6846 - acc: 0.7950 - val_loss: 0.7569 - val_acc: 0.5217\n",
      "Epoch 3/10\n",
      "7/7 [==============================] - 0s 42ms/step - loss: 0.3757 - acc: 0.8900 - val_loss: 0.8181 - val_acc: 0.5189\n",
      "Epoch 4/10\n",
      "7/7 [==============================] - 0s 41ms/step - loss: 0.3464 - acc: 0.8800 - val_loss: 0.8497 - val_acc: 0.4971\n",
      "Epoch 5/10\n",
      "7/7 [==============================] - 0s 41ms/step - loss: 0.2278 - acc: 0.9600 - val_loss: 0.8661 - val_acc: 0.5308\n",
      "Epoch 6/10\n",
      "7/7 [==============================] - 0s 42ms/step - loss: 0.1328 - acc: 0.9950 - val_loss: 0.6977 - val_acc: 0.5895\n",
      "Epoch 7/10\n",
      "7/7 [==============================] - 0s 42ms/step - loss: 0.1859 - acc: 0.9250 - val_loss: 0.6923 - val_acc: 0.5867\n",
      "Epoch 8/10\n",
      "7/7 [==============================] - 0s 42ms/step - loss: 0.0950 - acc: 0.9950 - val_loss: 0.7609 - val_acc: 0.5609\n",
      "Epoch 9/10\n",
      "7/7 [==============================] - 0s 50ms/step - loss: 0.0453 - acc: 1.0000 - val_loss: 0.7235 - val_acc: 0.5979\n",
      "Epoch 10/10\n",
      "7/7 [==============================] - 0s 49ms/step - loss: 0.0398 - acc: 1.0000 - val_loss: 1.1416 - val_acc: 0.5063\n"
     ]
    }
   ],
   "source": [
    "model.compile(optimizer='rmsprop',\n",
    "              loss='binary_crossentropy', \n",
    "              metrics=['acc'])\n",
    "history = model.fit(x_train, y_train, \n",
    "                    epochs=10, \n",
    "                    batch_size=32, \n",
    "                    validation_data=(x_val, y_val))\n",
    "model.save_weights('pre_trained_glove_model.h5')"
   ]
  },
  {
   "cell_type": "code",
   "execution_count": 52,
   "metadata": {},
   "outputs": [
    {
     "data": {
      "image/png": "[encoded data removed]",
      "text/plain": [
       "<Figure size 432x288 with 1 Axes>"
      ]
     },
     "metadata": {
      "needs_background": "light"
     },
     "output_type": "display_data"
    },
    {
     "data": {
      "image/png": "[encoded data removed]",
      "text/plain": [
       "<Figure size 432x288 with 1 Axes>"
      ]
     },
     "metadata": {
      "needs_background": "light"
     },
     "output_type": "display_data"
    }
   ],
   "source": [
    "# Resultado do sorteio\n",
    "\n",
    "import matplotlib.pyplot as plt\n",
    "\n",
    "acc = history.history['acc']\n",
    "val_acc = history.history['val_acc']\n",
    "loss = history.history['loss']\n",
    "val_loss = history.history['val_loss']\n",
    "\n",
    "epochs = range(len(acc))\n",
    "\n",
    "plt.plot(epochs, acc, 'bo-', label='Training acc')\n",
    "plt.plot(epochs, val_acc, 'rs-', label='Validation acc')\n",
    "plt.title('Training and validation accuracy')\n",
    "plt.legend()\n",
    "\n",
    "plt.figure()\n",
    "\n",
    "plt.plot(epochs, loss, 'bo-', label='Training loss')\n",
    "plt.plot(epochs, val_loss, 'rs-', label='Validation loss')\n",
    "plt.title('Training and validation loss')\n",
    "plt.legend()\n",
    "\n",
    "plt.show()"
   ]
  },
  {
   "cell_type": "markdown",
   "metadata": {},
   "source": [
    "Ainda é muito difícil usar apenas 200 amostras de treinamento, mas os embeddings de palavras pré-treinados ainda obtêm bons resultados. Como comparação, veja como seria sem o pré-treinamento:"
   ]
  },
  {
   "cell_type": "code",
   "execution_count": 53,
   "metadata": {},
   "outputs": [
    {
     "name": "stdout",
     "output_type": "stream",
     "text": [
      "Model: \"sequential_3\"\n",
      "_________________________________________________________________\n",
      "Layer (type)                 Output Shape              Param #   \n",
      "=================================================================\n",
      "embedding_4 (Embedding)      (None, 100, 100)          1000000   \n",
      "_________________________________________________________________\n",
      "flatten_3 (Flatten)          (None, 10000)             0         \n",
      "_________________________________________________________________\n",
      "dense_4 (Dense)              (None, 32)                320032    \n",
      "_________________________________________________________________\n",
      "dense_5 (Dense)              (None, 1)                 33        \n",
      "=================================================================\n",
      "Total params: 1,320,065\n",
      "Trainable params: 1,320,065\n",
      "Non-trainable params: 0\n",
      "_________________________________________________________________\n",
      "Epoch 1/10\n",
      "7/7 [==============================] - 1s 72ms/step - loss: 0.6972 - acc: 0.4600 - val_loss: 0.6921 - val_acc: 0.5150\n",
      "Epoch 2/10\n",
      "7/7 [==============================] - 0s 46ms/step - loss: 0.4991 - acc: 1.0000 - val_loss: 0.6901 - val_acc: 0.5347\n",
      "Epoch 3/10\n",
      "7/7 [==============================] - 0s 46ms/step - loss: 0.2795 - acc: 1.0000 - val_loss: 0.6914 - val_acc: 0.5401\n",
      "Epoch 4/10\n",
      "7/7 [==============================] - 0s 52ms/step - loss: 0.1171 - acc: 1.0000 - val_loss: 0.6977 - val_acc: 0.5389\n",
      "Epoch 5/10\n",
      "7/7 [==============================] - 0s 45ms/step - loss: 0.0535 - acc: 1.0000 - val_loss: 0.7115 - val_acc: 0.5343\n",
      "Epoch 6/10\n",
      "7/7 [==============================] - 0s 44ms/step - loss: 0.0271 - acc: 1.0000 - val_loss: 0.7133 - val_acc: 0.5348\n",
      "Epoch 7/10\n",
      "7/7 [==============================] - 0s 44ms/step - loss: 0.0149 - acc: 1.0000 - val_loss: 0.7146 - val_acc: 0.5382\n",
      "Epoch 8/10\n",
      "7/7 [==============================] - 0s 44ms/step - loss: 0.0087 - acc: 1.0000 - val_loss: 0.7192 - val_acc: 0.5410\n",
      "Epoch 9/10\n",
      "7/7 [==============================] - 0s 44ms/step - loss: 0.0052 - acc: 1.0000 - val_loss: 0.7266 - val_acc: 0.5398\n",
      "Epoch 10/10\n",
      "7/7 [==============================] - 0s 53ms/step - loss: 0.0032 - acc: 1.0000 - val_loss: 0.7378 - val_acc: 0.5380\n"
     ]
    },
    {
     "data": {
      "image/png": "[encoded data removed]",
      "text/plain": [
       "<Figure size 432x288 with 1 Axes>"
      ]
     },
     "metadata": {
      "needs_background": "light"
     },
     "output_type": "display_data"
    },
    {
     "data": {
      "image/png": "[encoded data removed]",
      "text/plain": [
       "<Figure size 432x288 with 1 Axes>"
      ]
     },
     "metadata": {
      "needs_background": "light"
     },
     "output_type": "display_data"
    }
   ],
   "source": [
    "# Modelo de construção\n",
    "\n",
    "from tensorflow.keras.models import Sequential\n",
    "from tensorflow.keras.layers import Embedding, Flatten, Dense\n",
    "\n",
    "model = Sequential()\n",
    "model.add(Embedding(max_words, embedding_dim, input_length=maxlen))\n",
    "model.add(Flatten())\n",
    "model.add(Dense(32, activation='relu'))\n",
    "model.add(Dense(1, activation='sigmoid'))\n",
    "\n",
    "model.summary()\n",
    "\n",
    "# Não use incorporação de palavras GloVe\n",
    "\n",
    "# Treinamento\n",
    "\n",
    "model.compile(optimizer='rmsprop', \n",
    "              loss='binary_crossentropy', \n",
    "              metrics=['acc'])\n",
    "history = model.fit(x_train, y_train, \n",
    "                    epochs=10, \n",
    "                    batch_size=32, \n",
    "                    validation_data=(x_val, y_val))\n",
    "\n",
    "# Resultado do sorteio\n",
    "\n",
    "import matplotlib.pyplot as plt\n",
    "\n",
    "acc = history.history['acc']\n",
    "val_acc = history.history['val_acc']\n",
    "loss = history.history['loss']\n",
    "val_loss = history.history['val_loss']\n",
    "\n",
    "epochs = range(len(acc))\n",
    "\n",
    "plt.plot(epochs, acc, 'bo-', label='Training acc')\n",
    "plt.plot(epochs, val_acc, 'rs-', label='Validation acc')\n",
    "plt.title('Training and validation accuracy')\n",
    "plt.legend()\n",
    "\n",
    "plt.figure()\n",
    "\n",
    "plt.plot(epochs, loss, 'bo-', label='Training loss')\n",
    "plt.plot(epochs, val_loss, 'rs-', label='Validation loss')\n",
    "plt.title('Training and validation loss')\n",
    "plt.legend()\n",
    "\n",
    "plt.show()"
   ]
  },
  {
   "cell_type": "markdown",
   "metadata": {},
   "source": [
    "Pode-se ver que, neste exemplo, o desempenho da palavra embedding pré-treinada é melhor do que a palavra embedding aprendida com a tarefa. Mas se houver muitos dados disponíveis, usar uma camada de incorporação para treinar com a tarefa geralmente é mais poderoso do que usar a incorporação de palavras pré-treinada.\n",
    "\n",
    "Por fim, observe os resultados do conjunto de teste:"
   ]
  },
  {
   "cell_type": "code",
   "execution_count": 54,
   "metadata": {},
   "outputs": [
    {
     "name": "stdout",
     "output_type": "stream",
     "text": [
      "782/782 [==============================] - 1s 983us/step - loss: 1.1397 - acc: 0.5127\n"
     ]
    },
    {
     "data": {
      "text/plain": [
       "[1.1397335529327393, 0.512719988822937]"
      ]
     },
     "execution_count": 54,
     "metadata": {},
     "output_type": "execute_result"
    }
   ],
   "source": [
    "# Segmentação de dados de teste\n",
    "\n",
    "test_dir = os.path.join(imdb_dir, 'test')\n",
    "\n",
    "texts = []\n",
    "labels = []\n",
    "\n",
    "for label_type in ['neg', 'pos']:\n",
    "    dir_name = os.path.join(test_dir, label_type)\n",
    "    for fname in sorted(os.listdir(dir_name)):\n",
    "        if fname.endswith('.txt'):\n",
    "            with open(os.path.join(dir_name, fname)) as f:\n",
    "                texts.append(f.read())\n",
    "            labels.append(0 if label_type == 'neg' else 1)\n",
    "\n",
    "sequences = tokenizer.texts_to_sequences(texts)\n",
    "x_test = pad_sequences(sequences, maxlen=maxlen)\n",
    "y_test = np.asarray(labels)\n",
    "\n",
    "# Avalie o modelo no conjunto de teste\n",
    "\n",
    "model.load_weights('pre_trained_glove_model.h5')\n",
    "model.evaluate(x_test, y_test)"
   ]
  }
 ],
 "metadata": {
  "kernelspec": {
   "display_name": "Python 3",
   "language": "python",
   "name": "python3"
  },
  "language_info": {
   "codemirror_mode": {
    "name": "ipython",
    "version": 3
   },
   "file_extension": ".py",
   "mimetype": "text/x-python",
   "name": "python",
   "nbconvert_exporter": "python",
   "pygments_lexer": "ipython3",
   "version": "3.7.9"
  }
 },
 "nbformat": 4,
 "nbformat_minor": 4
}
