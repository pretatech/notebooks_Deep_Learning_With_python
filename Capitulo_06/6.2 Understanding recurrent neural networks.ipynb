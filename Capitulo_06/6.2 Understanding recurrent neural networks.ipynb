{
 "cells": [
  {
   "cell_type": "markdown",
   "metadata": {},
   "source": [
    "# Aprendizado profundo com Python\n",
    "\n",
    "## 6.2 Compreendendo redes neurais recorrentes\n",
    "\n",
    "> Compreendendo a rede neural recorrente\n",
    "\n",
    "Tanto a rede totalmente conectada quanto a rede neural convolucional que usamos antes são chamadas de redes feedforward. Esse tipo de rede não tem memória, ou seja, processam cada entrada individualmente, sem salvar nenhum estado entre a entrada e a entrada. Nesse tipo de rede, se quisermos processar sequências de tempo / texto, devemos processar uma sequência completa em um grande tensor e passá-la para a rede como um todo, de modo que o modelo possa ver a sequência completa de cada vez.\n",
    "\n",
    "Isso é obviamente diferente da maneira como nós, humanos, lemos e aprendemos textos e outras informações. Não olhamos o livro inteiro de relance. Precisamos olhar para ele palavra por palavra. Enquanto movemos nossos olhos para adquirir novos dados, devemos lembrar o conteúdo anterior e vincular o conteúdo novo e antigo para entender a frase inteira. o significado de. Para ser mais abstrato, vamos salvar um modelo interno do conteúdo processado, esse modelo é construído com base em informações anteriores e é constantemente atualizado à medida que novas informações entram. Todos nós processamos as informações dessa forma progressiva.\n",
    "\n",
    "De acordo com essa ideia, temos um novo modelo chamado ** rede neural recorrente ** (rede neural recorrente, RNN), esta rede irá percorrer todos os elementos da sequência, e salvar um estado que registra as informações relacionadas ao conteúdo visualizado (Estado). Ao processar a próxima sequência, o estado RNN será redefinido. Ao usar RNN, ainda podemos produzir a sequência inteira de uma rede, mas dentro da rede, os dados não são mais processados ​​diretamente, mas os elementos da sequência são percorridos automaticamente.\n",
    "\n",
    "\n",
    "Para entender as redes neurais recorrentes, usamos o Numpy para escrever à mão uma versão de brinquedo do passe para a frente RNN. Considere o processamento de uma sequência de forma `(timesteps, input_features)`, RNN itera em timesteps, combina os input_features do timestep atual com o estado obtido na etapa anterior para calcular a saída desta etapa e, em seguida, salva esta saída como um novo estado para Use na próxima etapa. Na primeira etapa, não há estado, então o estado é inicializado em um vetor totalmente zero, que é chamado de estado inicial da rede.\n",
    "\n",
    "Código falso:\n",
    "\n",
    "`` `python\n",
    "state_t = 0\n",
    "para input_t em input_sequence:\n",
    "    output_t = f (input_t, state_t)\n",
    "    state_t = output_t\n",
    "`` `\n",
    "\n",
    "O `f (...)` aqui é realmente semelhante à nossa camada Densa, mas aqui não apenas a saída é processada, mas a influência do estado também é adicionada ao mesmo tempo. Portanto, ele precisa conter 3 parâmetros: as matrizes W e U que atuam e emitem e indicam respectivamente, e o vetor de deslocamento b:\n",
    "\n",
    "`` `python\n",
    "def f (input_t, state_t):\n",
    "    ativação de retorno (\n",
    "        ponto (W, entrada_t) + ponto (U, estado_t) + b\n",
    "    )\n",
    "`` `\n"
   ]
  },
  {
   "cell_type": "markdown",
   "metadata": {},
   "source": [
    "Antes de mais nada os notebooks aqui mostrado tiveram como base/foram retirados dos seguintes repositórios: \n",
    " > https://github.com/fchollet/deep-learning-with-python-notebooks \n",
    " \n",
    " \n",
    " > https://github.com/cdfmlr/Deep-Learning-with-Python-Notebooks\n",
    " \n",
    " Sugiro fortemente que consultem os códigos originais e em caso de dúvida podem me contatar para conversarmos. "
   ]
  },
  {
   "cell_type": "code",
   "execution_count": 22,
   "metadata": {},
   "outputs": [
    {
     "name": "stdout",
     "output_type": "stream",
     "text": [
      "(64,)\n",
      "(100, 64)\n"
     ]
    }
   ],
   "source": [
    "import numpy as np\n",
    "Antes de mais nada os notebooks aqui mostrado tiveram como base/foram retirados dos seguintes repositórios: \n",
    " > https://github.com/fchollet/deep-learning-with-python-notebooks \n",
    " \n",
    " \n",
    " > https://github.com/cdfmlr/Deep-Learning-with-Python-Notebooks\n",
    " \n",
    " Sugiro fortemente que consultem os códigos originais e em caso de dúvida podem me contatar para conversarmos. \n",
    "# Defina várias dimensões\n",
    "timesteps = 100\n",
    "input_features = 32\n",
    "output_features = 64\n",
    "\n",
    "inputs = np.random.random((timesteps, input_features))\n",
    "\n",
    "state_t = np.zeros((output_features))\n",
    "\n",
    "W = np.random.random((output_features, input_features))\n",
    "U = np.random.random((output_features, output_features))\n",
    "b = np.random.random((output_features))\n",
    "\n",
    "successive_outputs = []\n",
    "\n",
    "for input_t in inputs:    # input_t: (input_features, )\n",
    "    output_t = np.tanh(   # output_t: (output_features, )\n",
    "        np.dot(W, input_t) + np.dot(U, state_t) + b\n",
    "    )\n",
    "    successive_outputs.append(output_t)\n",
    "    \n",
    "    state_t = output_t\n",
    "    \n",
    "final_output_sequence = np.stack(successive_outputs, axis=0)  # (timesteps, output_features)\n",
    "\n",
    "print(successive_outputs[-1].shape)\n",
    "print(final_output_sequence.shape)\n"
   ]
  },
  {
   "cell_type": "markdown",
   "metadata": {},
   "source": [
    "Aqui, nossa saída final é uma forma de (timesteps, output_features), que é o resultado de todos os timesteps. Mas, na verdade, geralmente usamos apenas o último resultado `sucessive_outputs [-1]`, que já contém os resultados de todas as etapas anteriores, ou seja, contém as informações de toda a sequência.\n",
    "\n",
    "### Camada cíclica em Keras\n",
    "\n",
    "Reprocesse a versão do brinquedo agora, para que possa receber a entrada com a forma de `(batch_size, timesteps, input_features)`, processe-a em lotes e obtenha a camada `SimpleRNN` em keras:\n",
    "\n",
    "`` `python\n",
    "de tensorflow.keras.layers import SimpleRNN\n",
    "`` `\n",
    "\n",
    "Esta camada SimpleRNN e outras camadas recorrentes em keras têm dois modos de saída opcionais:\n",
    "\n",
    "| Formato de saída | Descrição | Uso |\n",
    "| --- | --- | --- |\n",
    "| `(batch_size, timesteps, output_features)` | Output a seqüência completa de cada timestep output | return_sequences = True |\n",
    "| `(batch_size, output_features)` | Retorna apenas a saída final de cada seqüência | return_sequences = False (default) |\n",
    "\n"
   ]
  },
  {
   "cell_type": "code",
   "execution_count": 15,
   "metadata": {},
   "outputs": [
    {
     "name": "stdout",
     "output_type": "stream",
     "text": [
      "Model: \"sequential\"\n",
      "_________________________________________________________________\n",
      "Layer (type)                 Output Shape              Param #   \n",
      "=================================================================\n",
      "embedding (Embedding)        (None, None, 32)          320000    \n",
      "_________________________________________________________________\n",
      "simple_rnn (SimpleRNN)       (None, 32)                2080      \n",
      "=================================================================\n",
      "Total params: 322,080\n",
      "Trainable params: 322,080\n",
      "Non-trainable params: 0\n",
      "_________________________________________________________________\n"
     ]
    }
   ],
   "source": [
    "# Retorna apenas a saída da última etapa de tempo\n",
    "\n",
    "from tensorflow.keras.models import Sequential\n",
    "from tensorflow.keras.layers import Embedding, SimpleRNN\n",
    "\n",
    "model = Sequential()\n",
    "model.add(Embedding(10000, 32))\n",
    "model.add(SimpleRNN(32))\n",
    "model.summary()"
   ]
  },
  {
   "cell_type": "code",
   "execution_count": 17,
   "metadata": {},
   "outputs": [
    {
     "name": "stdout",
     "output_type": "stream",
     "text": [
      "Model: \"sequential_2\"\n",
      "_________________________________________________________________\n",
      "Layer (type)                 Output Shape              Param #   \n",
      "=================================================================\n",
      "embedding_2 (Embedding)      (None, None, 32)          320000    \n",
      "_________________________________________________________________\n",
      "simple_rnn_2 (SimpleRNN)     (None, None, 32)          2080      \n",
      "=================================================================\n",
      "Total params: 322,080\n",
      "Trainable params: 322,080\n",
      "Non-trainable params: 0\n",
      "_________________________________________________________________\n"
     ]
    }
   ],
   "source": [
    "# Retorne a sequência de status completa\n",
    "\n",
    "model = Sequential()\n",
    "model.add(Embedding(10000, 32))\n",
    "model.add(SimpleRNN(32, return_sequences=True))\n",
    "model.summary()"
   ]
  },
  {
   "cell_type": "markdown",
   "metadata": {},
   "source": [
    "Se quisermos empilhar várias camadas RNN, a camada do meio deve retornar a sequência de estado completa:"
   ]
  },
  {
   "cell_type": "code",
   "execution_count": 18,
   "metadata": {},
   "outputs": [
    {
     "name": "stdout",
     "output_type": "stream",
     "text": [
      "Model: \"sequential_3\"\n",
      "_________________________________________________________________\n",
      "Layer (type)                 Output Shape              Param #   \n",
      "=================================================================\n",
      "embedding_3 (Embedding)      (None, None, 32)          320000    \n",
      "_________________________________________________________________\n",
      "simple_rnn_3 (SimpleRNN)     (None, None, 32)          2080      \n",
      "_________________________________________________________________\n",
      "simple_rnn_4 (SimpleRNN)     (None, None, 32)          2080      \n",
      "_________________________________________________________________\n",
      "simple_rnn_5 (SimpleRNN)     (None, None, 32)          2080      \n",
      "_________________________________________________________________\n",
      "simple_rnn_6 (SimpleRNN)     (None, 32)                2080      \n",
      "=================================================================\n",
      "Total params: 328,320\n",
      "Trainable params: 328,320\n",
      "Non-trainable params: 0\n",
      "_________________________________________________________________\n"
     ]
    }
   ],
   "source": [
    "# Empilhar várias camadas RNN, a camada do meio retorna a sequência de estado completa\n",
    "\n",
    "model = Sequential()\n",
    "model.add(Embedding(10000, 32))\n",
    "model.add(SimpleRNN(32, return_sequences=True))\n",
    "model.add(SimpleRNN(32, return_sequences=True))\n",
    "model.add(SimpleRNN(32, return_sequences=True))\n",
    "model.add(SimpleRNN(32))   # A última camada precisa da última saída\n",
    "model.summary()"
   ]
  },
  {
   "cell_type": "markdown",
   "metadata": {},
   "source": [
    "A seguir, tentamos usar o RNN para lidar com o IMDB novamente. Primeiro, prepare os dados:"
   ]
  },
  {
   "cell_type": "code",
   "execution_count": 19,
   "metadata": {},
   "outputs": [
    {
     "name": "stdout",
     "output_type": "stream",
     "text": [
      "Loading data...\n",
      "25000 train sequences\n",
      "25000 test sequences\n",
      "Pad sequences (samples x time)\n",
      "input_train shape: (25000, 500)\n",
      "input_train shape: (25000, 500)\n"
     ]
    }
   ],
   "source": [
    "# Prepare os dados IMDB\n",
    "\n",
    "from tensorflow.keras.datasets import imdb\n",
    "from tensorflow.keras.preprocessing import sequence\n",
    "\n",
    "max_features = 10000\n",
    "maxlen = 500\n",
    "batch_size = 32\n",
    "\n",
    "print('Loading data...')\n",
    "(input_train, y_train), (input_test, y_test) = imdb.load_data(num_words=max_features)\n",
    "print(len(input_train), 'train sequences')\n",
    "print(len(input_test), 'test sequences')\n",
    "\n",
    "print('Pad sequences (samples x time)')\n",
    "input_train = sequence.pad_sequences(input_train, maxlen=maxlen)\n",
    "input_test = sequence.pad_sequences(input_test, maxlen=maxlen)\n",
    "print('input_train shape:', input_train.shape)\n",
    "print('input_train shape:', input_test.shape)\n"
   ]
  },
  {
   "cell_type": "markdown",
   "metadata": {},
   "source": [
    "Construa e treine a rede:"
   ]
  },
  {
   "cell_type": "code",
   "execution_count": 20,
   "metadata": {},
   "outputs": [
    {
     "name": "stdout",
     "output_type": "stream",
     "text": [
      "Model: \"sequential_4\"\n",
      "_________________________________________________________________\n",
      "Layer (type)                 Output Shape              Param #   \n",
      "=================================================================\n",
      "embedding_4 (Embedding)      (None, None, 32)          320000    \n",
      "_________________________________________________________________\n",
      "simple_rnn_7 (SimpleRNN)     (None, 32)                2080      \n",
      "_________________________________________________________________\n",
      "dense (Dense)                (None, 1)                 33        \n",
      "=================================================================\n",
      "Total params: 322,113\n",
      "Trainable params: 322,113\n",
      "Non-trainable params: 0\n",
      "_________________________________________________________________\n",
      "Epoch 1/10\n",
      "157/157 [==============================] - 17s 107ms/step - loss: 0.6445 - acc: 0.6106 - val_loss: 0.6140 - val_acc: 0.6676\n",
      "Epoch 2/10\n",
      "157/157 [==============================] - 20s 129ms/step - loss: 0.4139 - acc: 0.8219 - val_loss: 0.4147 - val_acc: 0.8194\n",
      "Epoch 3/10\n",
      "157/157 [==============================] - 20s 124ms/step - loss: 0.3041 - acc: 0.8779 - val_loss: 0.4529 - val_acc: 0.8012\n",
      "Epoch 4/10\n",
      "157/157 [==============================] - 18s 115ms/step - loss: 0.2225 - acc: 0.9151 - val_loss: 0.3957 - val_acc: 0.8572\n",
      "Epoch 5/10\n",
      "157/157 [==============================] - 18s 115ms/step - loss: 0.1655 - acc: 0.9391 - val_loss: 0.4416 - val_acc: 0.8246\n",
      "Epoch 6/10\n",
      "157/157 [==============================] - 17s 111ms/step - loss: 0.1167 - acc: 0.9601 - val_loss: 0.4614 - val_acc: 0.8606\n",
      "Epoch 7/10\n",
      "157/157 [==============================] - 17s 109ms/step - loss: 0.0680 - acc: 0.9790 - val_loss: 0.4754 - val_acc: 0.8408\n",
      "Epoch 8/10\n",
      "157/157 [==============================] - 15s 95ms/step - loss: 0.0419 - acc: 0.9875 - val_loss: 0.5337 - val_acc: 0.8352\n",
      "Epoch 9/10\n",
      "157/157 [==============================] - 16s 99ms/step - loss: 0.0246 - acc: 0.9935 - val_loss: 0.5796 - val_acc: 0.8468\n",
      "Epoch 10/10\n",
      "157/157 [==============================] - 15s 96ms/step - loss: 0.0174 - acc: 0.9952 - val_loss: 0.7274 - val_acc: 0.7968\n"
     ]
    }
   ],
   "source": [
    "# Use a camada de incorporação e a camada SimpleRNN para treinar o modelo\n",
    "\n",
    "from tensorflow.keras.models import Sequential\n",
    "from tensorflow.keras.layers import Embedding, SimpleRNN, Dense\n",
    "\n",
    "model = Sequential()\n",
    "model.add(Embedding(max_features, 32))\n",
    "model.add(SimpleRNN(32))\n",
    "model.add(Dense(1, activation='sigmoid'))\n",
    "\n",
    "model.summary()\n",
    "\n",
    "model.compile(optimizer='rmsprop', \n",
    "              loss='binary_crossentropy', \n",
    "              metrics=['acc'])\n",
    "history = model.fit(input_train, y_train, \n",
    "                    epochs=10, \n",
    "                    batch_size=128, \n",
    "                    validation_split=0.2)\n"
   ]
  },
  {
   "cell_type": "markdown",
   "metadata": {},
   "source": [
    "Desenhe o processo de treinamento para ver:"
   ]
  },
  {
   "cell_type": "code",
   "execution_count": 21,
   "metadata": {},
   "outputs": [
    {
     "data": {
      "image/png": "[encoded data removed]",
      "text/plain": [
       "<Figure size 432x288 with 1 Axes>"
      ]
     },
     "metadata": {
      "needs_background": "light"
     },
     "output_type": "display_data"
    },
    {
     "data": {
      "image/png": "[encoded data removed]",
      "text/plain": [
       "<Figure size 432x288 with 1 Axes>"
      ]
     },
     "metadata": {
      "needs_background": "light"
     },
     "output_type": "display_data"
    }
   ],
   "source": [
    "# Resultados de desenho\n",
    "\n",
    "import matplotlib.pyplot as plt\n",
    "\n",
    "acc = history.history['acc']\n",
    "val_acc = history.history['val_acc']\n",
    "loss = history.history['loss']\n",
    "val_loss = history.history['val_loss']\n",
    "\n",
    "epochs = range(len(acc))\n",
    "\n",
    "plt.plot(epochs, acc, 'bo-', label='Training acc')\n",
    "plt.plot(epochs, val_acc, 'rs-', label='Validation acc')\n",
    "plt.title('Training and validation accuracy')\n",
    "plt.legend()\n",
    "\n",
    "plt.figure()\n",
    "\n",
    "plt.plot(epochs, loss, 'bo-', label='Training loss')\n",
    "plt.plot(epochs, val_loss, 'rs-', label='Validation loss')\n",
    "plt.title('Training and validation loss')\n",
    "plt.legend()\n",
    "\n",
    "plt.show()"
   ]
  },
  {
   "cell_type": "markdown",
   "metadata": {},
   "source": [
    "Emmmm, na verdade, o resultado desse modelo não é tão bom quanto o modelo do Capítulo 3, que é empilhado com várias camadas totalmente conectadas. Há várias razões: uma é que consideramos apenas as primeiras 500 palavras de cada sequência aqui, e a outra é que o SimpleRNN, na verdade, não é bom em lidar com sequências muito longas. A seguir, veremos algumas camadas de loop que podem ter um desempenho melhor."
   ]
  },
  {
   "cell_type": "markdown",
   "metadata": {},
   "source": [
    "#### Camada LSTM e camada GRU\n",
    "\n",
    "No Keras, além do SimpleRNN, há mais camadas LSTM \"não simples\" e camadas GRU, as duas últimas serão mais comumente usadas.\n",
    "\n",
    "SimpleRNN tem alguns problemas. Em teoria, ao passar para a etapa de tempo t, ele deve ser capaz de reter as informações vistas em muitas etapas anteriores, mas em aplicações práticas, devido a um tipo de problema de gradiente de desaparecimento (gradiente Desaparecendo problema), ele não pode aprender esta dependência de longo prazo.\n",
    "\n",
    "O problema do gradiente de desaparecimento realmente ocorre em redes feedforward com mais camadas. A principal manifestação é que, conforme o número de camadas aumenta, a rede não pode ser treinada. A camada LSTM e a camada GRU são criadas para combater esse problema.\n",
    "\n",
    "A camada ** LSTM ** é baseada no algoritmo LSTM (long short-term memory), que é projetado especificamente para lidar com o problema de gradientes de desaparecimento. Na verdade, sua ideia central é guardar informações para uso posterior, para evitar que as informações obtidas na frente desapareçam gradualmente no processamento subsequente.\n",
    "\n",
    "Com base no SimpleRNN, o LSTM adiciona um método de transmissão de informações em várias etapas de tempo. O que esse novo método faz é como uma correia transportadora auxiliar próxima à sequência. As informações na sequência podem pular na correia transportadora em qualquer posição e, então, ser transmitidas para uma etapa de tempo posterior e voltar intactas quando necessário.\n",
    "\n",
    "\n",
    "Aqui, renomeamos os pesos W e U em SimpleRNN para Wo e Uo (o significa saída). Em seguida, um fluxo de dados de \"faixa de transporte\" é adicionado, o qual é usado para transportar informações em intervalos de tempo. As informações ct da etapa de tempo t são colocadas nesta faixa de transporte (c significa carry). Essas informações serão calculadas junto com a entrada e o estado e afetarão o estado passado para a próxima etapa de tempo:\n",
    "\n",
    "`` `pythoon\n",
    "output_t = ativação (ponto (state_t, Uo) + ponto (input_t, Wo) + ponto (C_t, Vo) + bo)\n",
    "\n",
    "i_t = ativação (ponto (estado_t, Ui) + ponto (entrada_t, Wi) + bi)\n",
    "f_t = ativação (ponto (estado_t, Uf) + ponto (entrada_t, Wf) + bf)\n",
    "k_t = ativação (ponto (estado_t, Uk) + ponto (entrada_t, Wk) + bk)\n",
    "\n",
    "c_t_next = i_t * k_t + c_t * f_t\n",
    "`` `\n",
    "\n",
    "Mais detalhes e implementação interna do LSTM não serão introduzidos. Não precisamos entender a estrutura específica da unidade LSTM. Não é humano entender isso. Precisamos apenas lembrar o papel da unidade LSTM: ela permite que as informações anteriores sejam usadas novamente mais tarde para combater o problema do gradiente de desaparecimento.\n",
    "\n",
    "(P.S. O autor disse que isso é metafísica, apenas confie nele. Emmm, essa frase é minha idiota, o ditado original é: \"pode ​​parecer um pouco arbitrário, mas tenha paciência comigo.\")\n",
    "\n",
    "** GRU ** (Gated Recurrent Unit, Gated Recurrent Unit), o livro menciona relativamente poucos, consulte este artigo \"[Todos podem compreender GRU] (https://zhuanlan.zhihu.com/p/ 32481747) \", digamos que GRU é provavelmente uma variante do LSTM. O princípio dos dois não é muito diferente e o efeito real é semelhante. Mas GRU é mais novo que LSTM. Ele fez algumas simplificações e é mais fácil de calcular, mas a capacidade de representação correspondente pode ser um pouco pior.\n",
    "\n",
    "#### Usando LSTM em Keras\n",
    "\n",
    "Vamos continuar a usar os dados IMDB processados antes de executar um LSTM:"
   ]
  },
  {
   "cell_type": "code",
   "execution_count": 24,
   "metadata": {},
   "outputs": [
    {
     "name": "stdout",
     "output_type": "stream",
     "text": [
      "Model: \"sequential_5\"\n",
      "_________________________________________________________________\n",
      "Layer (type)                 Output Shape              Param #   \n",
      "=================================================================\n",
      "embedding_5 (Embedding)      (None, None, 32)          320000    \n",
      "_________________________________________________________________\n",
      "lstm (LSTM)                  (None, 32)                8320      \n",
      "_________________________________________________________________\n",
      "dense_1 (Dense)              (None, 1)                 33        \n",
      "=================================================================\n",
      "Total params: 328,353\n",
      "Trainable params: 328,353\n",
      "Non-trainable params: 0\n",
      "_________________________________________________________________\n",
      "Epoch 1/10\n",
      "157/157 [==============================] - 37s 236ms/step - loss: 0.5143 - acc: 0.7509 - val_loss: 0.3383 - val_acc: 0.8672\n",
      "Epoch 2/10\n",
      "157/157 [==============================] - 37s 235ms/step - loss: 0.3010 - acc: 0.8834 - val_loss: 0.2817 - val_acc: 0.8862\n",
      "Epoch 3/10\n",
      "157/157 [==============================] - 34s 215ms/step - loss: 0.2357 - acc: 0.9129 - val_loss: 0.2766 - val_acc: 0.8876\n",
      "Epoch 4/10\n",
      "157/157 [==============================] - 34s 215ms/step - loss: 0.2062 - acc: 0.9255 - val_loss: 0.4392 - val_acc: 0.8310\n",
      "Epoch 5/10\n",
      "157/157 [==============================] - 34s 215ms/step - loss: 0.1762 - acc: 0.9360 - val_loss: 0.3078 - val_acc: 0.8670\n",
      "Epoch 6/10\n",
      "157/157 [==============================] - 34s 215ms/step - loss: 0.1575 - acc: 0.9436 - val_loss: 0.3293 - val_acc: 0.8902\n",
      "Epoch 7/10\n",
      "157/157 [==============================] - 35s 222ms/step - loss: 0.1419 - acc: 0.9506 - val_loss: 0.2993 - val_acc: 0.8898\n",
      "Epoch 8/10\n",
      "157/157 [==============================] - 39s 246ms/step - loss: 0.1277 - acc: 0.9546 - val_loss: 0.4179 - val_acc: 0.8234\n",
      "Epoch 9/10\n",
      "157/157 [==============================] - 35s 225ms/step - loss: 0.1199 - acc: 0.9585 - val_loss: 0.4391 - val_acc: 0.8434\n",
      "Epoch 10/10\n",
      "157/157 [==============================] - 34s 217ms/step - loss: 0.1113 - acc: 0.9615 - val_loss: 0.4926 - val_acc: 0.8614\n"
     ]
    }
   ],
   "source": [
    "from tensorflow.keras.layers import LSTM\n",
    "\n",
    "model = Sequential()\n",
    "model.add(Embedding(max_features, 32))\n",
    "model.add(LSTM(32))\n",
    "model.add(Dense(1, activation='sigmoid'))\n",
    "\n",
    "model.summary()\n",
    "\n",
    "model.compile(optimizer='rmsprop', \n",
    "              loss='binary_crossentropy', \n",
    "              metrics=['acc'])\n",
    "\n",
    "history = model.fit(input_train, y_train, \n",
    "                    epochs=10, \n",
    "                    batch_size=128, \n",
    "                    validation_split=0.2)"
   ]
  },
  {
   "cell_type": "code",
   "execution_count": 25,
   "metadata": {},
   "outputs": [
    {
     "data": {
      "image/png": "[encoded data removed]",
      "text/plain": [
       "<Figure size 432x288 with 1 Axes>"
      ]
     },
     "metadata": {
      "needs_background": "light"
     },
     "output_type": "display_data"
    },
    {
     "data": {
      "image/png": "[encoded data removed]",
      "text/plain": [
       "<Figure size 432x288 with 1 Axes>"
      ]
     },
     "metadata": {
      "needs_background": "light"
     },
     "output_type": "display_data"
    }
   ],
   "source": [
    "# Resultado do sorteio\n",
    "\n",
    "import matplotlib.pyplot as plt\n",
    "\n",
    "acc = history.history['acc']\n",
    "val_acc = history.history['val_acc']\n",
    "loss = history.history['loss']\n",
    "val_loss = history.history['val_loss']\n",
    "\n",
    "epochs = range(len(acc))\n",
    "\n",
    "plt.plot(epochs, acc, 'bo-', label='Training acc')\n",
    "plt.plot(epochs, val_acc, 'rs-', label='Validation acc')\n",
    "plt.title('Training and validation accuracy')\n",
    "plt.legend()\n",
    "\n",
    "plt.figure()\n",
    "\n",
    "plt.plot(epochs, loss, 'bo-', label='Training loss')\n",
    "plt.plot(epochs, val_loss, 'rs-', label='Validation loss')\n",
    "plt.title('Training and validation loss')\n",
    "plt.legend()\n",
    "\n",
    "plt.show()"
   ]
  },
  {
   "cell_type": "markdown",
   "metadata": {},
   "source": [
    "Muito melhor do que SimpleRNN. Mas não é muito melhor do que o tipo anterior de rede que usa uma camada totalmente conectada e é mais lento (o custo de computação é alto). Na verdade, é principalmente devido a problemas como análise de sentimento. Usar LSTM para analisar a estrutura geral de longo prazo não é muito útil LSTM é bom em problemas de processamento de linguagem natural mais complexos, como tradução automática. Usando o método totalmente conectado, na verdade, é feito para ver quais palavras aparecem e sua frequência, o que é mais eficaz para esses problemas simples.\n",
    "\n",
    "Então, vamos tentar o GRU que não é mencionado no livro:"
   ]
  },
  {
   "cell_type": "code",
   "execution_count": 26,
   "metadata": {},
   "outputs": [
    {
     "name": "stdout",
     "output_type": "stream",
     "text": [
      "Model: \"sequential_6\"\n",
      "_________________________________________________________________\n",
      "Layer (type)                 Output Shape              Param #   \n",
      "=================================================================\n",
      "embedding_6 (Embedding)      (None, None, 32)          320000    \n",
      "_________________________________________________________________\n",
      "gru (GRU)                    (None, 32)                6336      \n",
      "_________________________________________________________________\n",
      "dense_2 (Dense)              (None, 1)                 33        \n",
      "=================================================================\n",
      "Total params: 326,369\n",
      "Trainable params: 326,369\n",
      "Non-trainable params: 0\n",
      "_________________________________________________________________\n",
      "Epoch 1/10\n",
      "157/157 [==============================] - 37s 238ms/step - loss: 0.5119 - acc: 0.7386 - val_loss: 0.3713 - val_acc: 0.8434\n",
      "Epoch 2/10\n",
      "157/157 [==============================] - 36s 232ms/step - loss: 0.2971 - acc: 0.8806 - val_loss: 0.3324 - val_acc: 0.8722\n",
      "Epoch 3/10\n",
      "157/157 [==============================] - 37s 235ms/step - loss: 0.2495 - acc: 0.9034 - val_loss: 0.3148 - val_acc: 0.8722\n",
      "Epoch 4/10\n",
      "157/157 [==============================] - 34s 217ms/step - loss: 0.2114 - acc: 0.9200 - val_loss: 0.3596 - val_acc: 0.8738\n",
      "Epoch 5/10\n",
      "157/157 [==============================] - 36s 231ms/step - loss: 0.1872 - acc: 0.9306 - val_loss: 0.5291 - val_acc: 0.8084\n",
      "Epoch 6/10\n",
      "157/157 [==============================] - 35s 226ms/step - loss: 0.1730 - acc: 0.9359 - val_loss: 0.3976 - val_acc: 0.8802\n",
      "Epoch 7/10\n",
      "157/157 [==============================] - 34s 217ms/step - loss: 0.1523 - acc: 0.9452 - val_loss: 0.4303 - val_acc: 0.8532\n",
      "Epoch 8/10\n",
      "157/157 [==============================] - 34s 217ms/step - loss: 0.1429 - acc: 0.9486 - val_loss: 0.4019 - val_acc: 0.8542\n",
      "Epoch 9/10\n",
      "157/157 [==============================] - 34s 217ms/step - loss: 0.1258 - acc: 0.9562 - val_loss: 0.3476 - val_acc: 0.8746\n",
      "Epoch 10/10\n",
      "157/157 [==============================] - 34s 216ms/step - loss: 0.1191 - acc: 0.9585 - val_loss: 0.3558 - val_acc: 0.8812\n"
     ]
    },
    {
     "data": {
      "image/png": "[encoded data removed]",
      "text/plain": [
       "<Figure size 432x288 with 1 Axes>"
      ]
     },
     "metadata": {
      "needs_background": "light"
     },
     "output_type": "display_data"
    },
    {
     "data": {
      "image/png": "[encoded data removed]",
      "text/plain": [
       "<Figure size 432x288 with 1 Axes>"
      ]
     },
     "metadata": {
      "needs_background": "light"
     },
     "output_type": "display_data"
    }
   ],
   "source": [
    "#Altere LSTM para usar GRU\n",
    "\n",
    "from tensorflow.keras.layers import GRU\n",
    "\n",
    "model = Sequential()\n",
    "model.add(Embedding(max_features, 32))\n",
    "model.add(GRU(32))\n",
    "model.add(Dense(1, activation='sigmoid'))\n",
    "\n",
    "model.summary()\n",
    "\n",
    "model.compile(optimizer='rmsprop', \n",
    "              loss='binary_crossentropy', \n",
    "              metrics=['acc'])\n",
    "\n",
    "history = model.fit(input_train, y_train, \n",
    "                    epochs=10, \n",
    "                    batch_size=128, \n",
    "                    validation_split=0.2)\n",
    "\n",
    "# Resultado do sorteio\n",
    "\n",
    "acc = history.history['acc']\n",
    "val_acc = history.history['val_acc']\n",
    "loss = history.history['loss']\n",
    "val_loss = history.history['val_loss']\n",
    "\n",
    "epochs = range(len(acc))\n",
    "\n",
    "plt.plot(epochs, acc, 'bo-', label='Training acc')\n",
    "plt.plot(epochs, val_acc, 'rs-', label='Validation acc')\n",
    "plt.title('Training and validation accuracy')\n",
    "plt.legend()\n",
    "\n",
    "plt.figure()\n",
    "\n",
    "plt.plot(epochs, loss, 'bo-', label='Training loss')\n",
    "plt.plot(epochs, val_loss, 'rs-', label='Validation loss')\n",
    "plt.title('Training and validation loss')\n",
    "plt.legend()\n",
    "\n",
    "plt.show()"
   ]
  },
  {
   "cell_type": "markdown",
   "metadata": {},
   "source": [
    "Não há muita diferença."
   ]
  }
 ],
 "metadata": {
  "kernelspec": {
   "display_name": "Python 3",
   "language": "python",
   "name": "python3"
  },
  "language_info": {
   "codemirror_mode": {
    "name": "ipython",
    "version": 3
   },
   "file_extension": ".py",
   "mimetype": "text/x-python",
   "name": "python",
   "nbconvert_exporter": "python",
   "pygments_lexer": "ipython3",
   "version": "3.7.9"
  }
 },
 "nbformat": 4,
 "nbformat_minor": 4
}
