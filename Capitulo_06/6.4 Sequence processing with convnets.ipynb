{
 "cells": [
  {
   "cell_type": "markdown",
   "metadata": {},
   "source": [
    "Antes de mais nada os notebooks aqui mostrado tiveram como base/foram retirados dos seguintes repositórios: \n",
    " > https://github.com/fchollet/deep-learning-with-python-notebooks \n",
    " \n",
    " \n",
    " > https://github.com/cdfmlr/Deep-Learning-with-Python-Notebooks\n",
    " \n",
    " Sugiro fortemente que consultem os códigos originais e em caso de dúvida podem me contatar para conversarmos. "
   ]
  },
  {
   "cell_type": "markdown",
   "metadata": {},
   "source": [
    "# Aprendizado profundo com Python\n",
    "\n",
    "## 6.4 Processamento de sequência com convnets\n",
    "\n",
    "> Sequência de processo com rede neural convolucional\n",
    "\n",
    "As redes neurais convolucionais podem usar dados com eficácia, extrair recursos locais e modular representações. Por causa desse efeito especial, a CNN não só é boa em lidar com questões de tempo de computador, mas também em lidar de forma eficiente com problemas de sequência.Em alguns problemas de sequência, o efeito e a eficiência da CNN podem até exceder a RNN.\n",
    "\n",
    "Diferente do Conv2D bidimensional usado para processar imagens, a série temporal é unidimensional, portanto, uma rede neural convolucional unidimensional é usada para o processamento.\n",
    "\n",
    "### Convolução unidimensional e agrupamento de dados de sequência\n",
    "\n",
    "Semelhante à convolução bidimensional, a convolução unidimensional extrai segmentos parciais (subsequências) da sequência e, em seguida, executa a mesma transformação em cada segmento. A janela de convolução unidimensional é uma janela unidimensional no eixo do tempo. A natureza desta operação pode garantir que o padrão aprendido em uma posição possa ser reconhecido posteriormente em outras posições (com invariância de tradução no tempo).\n",
    "\n",
    "\n",
    "A operação de agrupamento unidimensional também é semelhante à operação de agrupamento bidimensional: extrair fragmentos unidimensionais da entrada e emitir o valor máximo (agrupamento máximo) ou valor médio (agrupamento médio). Esta operação também é usada para reduzir o comprimento dos dados (subamostragem)."
   ]
  },
  {
   "cell_type": "markdown",
   "metadata": {},
   "source": [
    "### Implementar rede neural convolucional unidimensional\n",
    "\n",
    "No Keras, as redes neurais convolucionais unidimensionais são representadas por camadas Conv1D. O uso é muito semelhante ao Conv2D. Ele recebe entrada com a forma de `(amostras, tempo, recursos)` e retorna a mesma forma. Observe que sua janela está no tempo, que é o segundo eixo da entrada. No Conv2D, nossas janelas são geralmente 3x3, 5x5 e no Conv1D correspondente, geralmente usamos um tamanho de janela de 7 ou 9.\n",
    "\n",
    "Normalmente, empilhamos a camada Conv1D e a camada MaxPooling1D juntas e, no final de todas as pilhas de agrupamento convolucional, usamos uma operação de agrupamento global ou operação de nivelamento.\n",
    "\n",
    "Tome o IMDB como exemplo:"
   ]
  },
  {
   "cell_type": "code",
   "execution_count": 1,
   "metadata": {},
   "outputs": [
    {
     "name": "stdout",
     "output_type": "stream",
     "text": [
      "Loading data...\n",
      "25000 train sequences\n",
      "25000 test sequences\n",
      "Pad sequences (samples x time)\n",
      "x_train shape: (25000, 500)\n",
      "x_test shape: (25000, 500)\n"
     ]
    }
   ],
   "source": [
    "from tensorflow.keras.datasets import imdb\n",
    "from tensorflow.keras.preprocessing import sequence\n",
    "\n",
    "max_features = 10000\n",
    "max_len = 500\n",
    "\n",
    "print('Loading data...')\n",
    "(x_train, y_train), (x_test, y_test) = imdb.load_data(num_words=max_features)\n",
    "print(len(x_train), 'train sequences')\n",
    "print(len(x_test), 'test sequences')\n",
    "\n",
    "print('Pad sequences (samples x time)')\n",
    "x_train = sequence.pad_sequences(x_train, maxlen=max_len)\n",
    "x_test = sequence.pad_sequences(x_test, maxlen=max_len)\n",
    "print('x_train shape:', x_train.shape)\n",
    "print('x_test shape:', x_test.shape)"
   ]
  },
  {
   "cell_type": "code",
   "execution_count": 2,
   "metadata": {},
   "outputs": [],
   "source": [
    "import matplotlib.pyplot as plt\n",
    "\n",
    "def plot_acc_and_loss(history):\n",
    "\n",
    "    epochs = range(len(history.history['loss']))\n",
    "\n",
    "    try:\n",
    "        acc = history.history['acc']\n",
    "        val_acc = history.history['val_acc']\n",
    "        \n",
    "        plt.plot(epochs, acc, 'bo-', label='Training acc')\n",
    "        plt.plot(epochs, val_acc, 'rs-', label='Validation acc')\n",
    "        plt.title('Training and validation accuracy')\n",
    "        plt.legend()\n",
    "    except:\n",
    "        print('No acc. Skip')\n",
    "    finally:\n",
    "        plt.figure()\n",
    "\n",
    "    loss = history.history['loss']\n",
    "    val_loss = history.history['val_loss']\n",
    "\n",
    "    plt.plot(epochs, loss, 'bo-', label='Training loss')\n",
    "    plt.plot(epochs, val_loss, 'rs-', label='Validation loss')\n",
    "    plt.title('Training and validation loss')\n",
    "    plt.legend()\n",
    "\n",
    "    plt.show()"
   ]
  },
  {
   "cell_type": "code",
   "execution_count": 3,
   "metadata": {},
   "outputs": [
    {
     "name": "stdout",
     "output_type": "stream",
     "text": [
      "Model: \"sequential\"\n",
      "_________________________________________________________________\n",
      "Layer (type)                 Output Shape              Param #   \n",
      "=================================================================\n",
      "embedding (Embedding)        (None, 500, 128)          1280000   \n",
      "_________________________________________________________________\n",
      "conv1d (Conv1D)              (None, 494, 32)           28704     \n",
      "_________________________________________________________________\n",
      "max_pooling1d (MaxPooling1D) (None, 98, 32)            0         \n",
      "_________________________________________________________________\n",
      "conv1d_1 (Conv1D)            (None, 92, 32)            7200      \n",
      "_________________________________________________________________\n",
      "global_max_pooling1d (Global (None, 32)                0         \n",
      "_________________________________________________________________\n",
      "dense (Dense)                (None, 1)                 33        \n",
      "=================================================================\n",
      "Total params: 1,315,937\n",
      "Trainable params: 1,315,937\n",
      "Non-trainable params: 0\n",
      "_________________________________________________________________\n",
      "Epoch 1/10\n",
      "157/157 [==============================] - 30s 188ms/step - loss: 0.9049 - acc: 0.5124 - val_loss: 0.6875 - val_acc: 0.5566\n",
      "Epoch 2/10\n",
      "157/157 [==============================] - 28s 178ms/step - loss: 0.6724 - acc: 0.6433 - val_loss: 0.6699 - val_acc: 0.6394\n",
      "Epoch 3/10\n",
      "157/157 [==============================] - 27s 173ms/step - loss: 0.6334 - acc: 0.7488 - val_loss: 0.6285 - val_acc: 0.7180\n",
      "Epoch 4/10\n",
      "157/157 [==============================] - 26s 167ms/step - loss: 0.5621 - acc: 0.8059 - val_loss: 0.5341 - val_acc: 0.7886\n",
      "Epoch 5/10\n",
      "157/157 [==============================] - 26s 168ms/step - loss: 0.4420 - acc: 0.8395 - val_loss: 0.4232 - val_acc: 0.8370\n",
      "Epoch 6/10\n",
      "157/157 [==============================] - 25s 162ms/step - loss: 0.3527 - acc: 0.8729 - val_loss: 0.4076 - val_acc: 0.8476\n",
      "Epoch 7/10\n",
      "157/157 [==============================] - 27s 172ms/step - loss: 0.3048 - acc: 0.8936 - val_loss: 0.3820 - val_acc: 0.8666\n",
      "Epoch 8/10\n",
      "157/157 [==============================] - 26s 164ms/step - loss: 0.2701 - acc: 0.9071 - val_loss: 0.3956 - val_acc: 0.8676\n",
      "Epoch 9/10\n",
      "157/157 [==============================] - 27s 174ms/step - loss: 0.2445 - acc: 0.9171 - val_loss: 0.4238 - val_acc: 0.8666\n",
      "Epoch 10/10\n",
      "157/157 [==============================] - 27s 170ms/step - loss: 0.2211 - acc: 0.9277 - val_loss: 0.4305 - val_acc: 0.8746\n"
     ]
    },
    {
     "data": {
      "image/png": "[encoded data removed]",
      "text/plain": [
       "<Figure size 432x288 with 1 Axes>"
      ]
     },
     "metadata": {
      "needs_background": "light"
     },
     "output_type": "display_data"
    },
    {
     "data": {
      "image/png": "[encoded data removed]",
      "text/plain": [
       "<Figure size 432x288 with 1 Axes>"
      ]
     },
     "metadata": {
      "needs_background": "light"
     },
     "output_type": "display_data"
    }
   ],
   "source": [
    "# Treine e avalie uma rede neural convolucional unidimensional simples no IMDB\n",
    "\n",
    "from tensorflow.keras.models import Sequential\n",
    "from tensorflow.keras import layers\n",
    "from tensorflow.keras.optimizers import RMSprop\n",
    "\n",
    "model = Sequential()\n",
    "model.add(layers.Embedding(max_features, 128, input_length=max_len))\n",
    "\n",
    "model.add(layers.Conv1D(32, 7, activation='relu'))\n",
    "model.add(layers.MaxPooling1D(5))\n",
    "\n",
    "model.add(layers.Conv1D(32, 7, activation='relu'))\n",
    "model.add(layers.GlobalMaxPooling1D())\n",
    "\n",
    "model.add(layers.Dense(1))\n",
    "\n",
    "model.summary()\n",
    "\n",
    "model.compile(optimizer=RMSprop(lr=1e-4),\n",
    "              loss='binary_crossentropy',\n",
    "              metrics=['acc'])\n",
    "history = model.fit(x_train, y_train,\n",
    "                    epochs=10,\n",
    "                    batch_size=128,\n",
    "                    validation_split=0.2)\n",
    "\n",
    "plot_acc_and_loss(history)"
   ]
  },
  {
   "cell_type": "markdown",
   "metadata": {},
   "source": [
    "Embora o resultado seja um pouco pior do que RNN, ainda é muito bom e é mais rápido de treinar do que LSTM.\n",
    "\n",
    "### Combine CNN e RNN para processar sequências longas\n",
    "\n",
    "A rede neural convolucional unidimensional divide a sequência em fragmentos para aprender e não é sensível à sequência de tempo. Portanto, para aqueles problemas em que a ordem da sequência tem um impacto significativo, o desempenho da CNN é muito pior do que o da RNN. Por exemplo, o problema do conjunto de dados Jena (previsão de temperatura):"
   ]
  },
  {
   "cell_type": "code",
   "execution_count": 5,
   "metadata": {},
   "outputs": [],
   "source": [
    "# Prepare os dados\n",
    "\n",
    "import os\n",
    "import numpy as np\n",
    "\n",
    "data_dir = \".../jena_climate\"\n",
    "fname = os.path.join(data_dir, 'jena_climate_2009_2016.csv')\n",
    "\n",
    "f = open(fname)\n",
    "data = f.read()\n",
    "f.close()\n",
    "\n",
    "lines = data.split('\\n')\n",
    "header = lines[0].split(',')\n",
    "lines = lines[1:]\n",
    "\n",
    "float_data = np.zeros((len(lines), len(header) - 1))\n",
    "for i, line in enumerate(lines):\n",
    "    values = [float(x) for x in line.split(',')[1:]]\n",
    "    float_data[i, :] = values\n",
    "    \n",
    "mean = float_data[:200000].mean(axis=0)\n",
    "float_data -= mean\n",
    "std = float_data[:200000].std(axis=0)\n",
    "float_data /= std\n",
    "\n",
    "def generator(data, lookback, delay, min_index, max_index,\n",
    "              shuffle=False, batch_size=128, step=6):\n",
    "    if max_index is None:\n",
    "        max_index = len(data) - delay - 1\n",
    "    i = min_index + lookback\n",
    "    while 1:\n",
    "        if shuffle:\n",
    "            rows = np.random.randint(\n",
    "                min_index + lookback, max_index, size=batch_size)\n",
    "        else:\n",
    "            if i + batch_size >= max_index:\n",
    "                i = min_index + lookback\n",
    "            rows = np.arange(i, min(i + batch_size, max_index))\n",
    "            i += len(rows)\n",
    "\n",
    "        samples = np.zeros((len(rows),\n",
    "                           lookback // step,\n",
    "                           data.shape[-1]))\n",
    "        targets = np.zeros((len(rows),))\n",
    "        for j, row in enumerate(rows):\n",
    "            indices = range(rows[j] - lookback, rows[j], step)\n",
    "            samples[j] = data[indices]\n",
    "            targets[j] = data[rows[j] + delay][1]\n",
    "        yield samples, targets\n",
    "        \n",
    "lookback = 1440\n",
    "step = 6\n",
    "delay = 144\n",
    "batch_size = 128\n",
    "\n",
    "train_gen = generator(float_data,\n",
    "                      lookback=lookback,\n",
    "                      delay=delay,\n",
    "                      min_index=0,\n",
    "                      max_index=200000,\n",
    "                      shuffle=True,\n",
    "                      step=step, \n",
    "                      batch_size=batch_size)\n",
    "val_gen = generator(float_data,\n",
    "                    lookback=lookback,\n",
    "                    delay=delay,\n",
    "                    min_index=200001,\n",
    "                    max_index=300000,\n",
    "                    step=step,\n",
    "                    batch_size=batch_size)\n",
    "test_gen = generator(float_data,\n",
    "                     lookback=lookback,\n",
    "                     delay=delay,\n",
    "                     min_index=300001,\n",
    "                     max_index=None,\n",
    "                     step=step,\n",
    "                     batch_size=batch_size)\n",
    "\n",
    "val_steps = (300000 - 200001 - lookback) // batch_size\n",
    "\n",
    "test_steps = (len(float_data) - 300001 - lookback) // batch_size"
   ]
  },
  {
   "cell_type": "code",
   "execution_count": 6,
   "metadata": {},
   "outputs": [
    {
     "name": "stdout",
     "output_type": "stream",
     "text": [
      "WARNING:tensorflow:From <ipython-input-6-02e34f317812>:22: Model.fit_generator (from tensorflow.python.keras.engine.training) is deprecated and will be removed in a future version.\n",
      "Instructions for updating:\n",
      "Please use Model.fit, which supports generators.\n",
      "Epoch 1/20\n",
      "500/500 [==============================] - 27s 54ms/step - loss: 0.4144 - val_loss: 0.4308\n",
      "Epoch 2/20\n",
      "500/500 [==============================] - 26s 52ms/step - loss: 0.3620 - val_loss: 0.4306\n",
      "Epoch 3/20\n",
      "500/500 [==============================] - 23s 45ms/step - loss: 0.3367 - val_loss: 0.4340\n",
      "Epoch 4/20\n",
      "500/500 [==============================] - 20s 40ms/step - loss: 0.3220 - val_loss: 0.4492\n",
      "Epoch 5/20\n",
      "500/500 [==============================] - 21s 41ms/step - loss: 0.3119 - val_loss: 0.4504\n",
      "Epoch 6/20\n",
      "500/500 [==============================] - 21s 42ms/step - loss: 0.3009 - val_loss: 0.4411\n",
      "Epoch 7/20\n",
      "500/500 [==============================] - 21s 42ms/step - loss: 0.2940 - val_loss: 0.4398\n",
      "Epoch 8/20\n",
      "500/500 [==============================] - 21s 41ms/step - loss: 0.2861 - val_loss: 0.4523\n",
      "Epoch 9/20\n",
      "500/500 [==============================] - 20s 40ms/step - loss: 0.2822 - val_loss: 0.4502\n",
      "Epoch 10/20\n",
      "500/500 [==============================] - 20s 39ms/step - loss: 0.2764 - val_loss: 0.4402\n",
      "Epoch 11/20\n",
      "500/500 [==============================] - 20s 40ms/step - loss: 0.2733 - val_loss: 0.4534\n",
      "Epoch 12/20\n",
      "500/500 [==============================] - 20s 39ms/step - loss: 0.2682 - val_loss: 0.4694\n",
      "Epoch 13/20\n",
      "500/500 [==============================] - 20s 40ms/step - loss: 0.2644 - val_loss: 0.4517\n",
      "Epoch 14/20\n",
      "500/500 [==============================] - 20s 40ms/step - loss: 0.2599 - val_loss: 0.4472\n",
      "Epoch 15/20\n",
      "500/500 [==============================] - 20s 40ms/step - loss: 0.2562 - val_loss: 0.4529\n",
      "Epoch 16/20\n",
      "500/500 [==============================] - 20s 40ms/step - loss: 0.2549 - val_loss: 0.4851\n",
      "Epoch 17/20\n",
      "500/500 [==============================] - 20s 41ms/step - loss: 0.2518 - val_loss: 0.4478\n",
      "Epoch 18/20\n",
      "500/500 [==============================] - 20s 41ms/step - loss: 0.2488 - val_loss: 0.4531\n",
      "Epoch 19/20\n",
      "500/500 [==============================] - 22s 43ms/step - loss: 0.2450 - val_loss: 0.4603\n",
      "Epoch 20/20\n",
      "500/500 [==============================] - 21s 41ms/step - loss: 0.2453 - val_loss: 0.4721\n",
      "No acc. Skip\n"
     ]
    },
    {
     "data": {
      "image/png": "[encoded data removed]",
      "text/plain": [
       "<Figure size 432x288 with 1 Axes>"
      ]
     },
     "metadata": {
      "needs_background": "light"
     },
     "output_type": "display_data"
    }
   ],
   "source": [
    "# Treine e avalie uma rede neural convolucional unidimensional simples no conjunto de dados Jena\n",
    "\n",
    "from tensorflow.keras.models import Sequential\n",
    "from tensorflow.keras import layers\n",
    "from tensorflow.keras.optimizers import RMSprop\n",
    "\n",
    "model = Sequential()\n",
    "model.add(layers.Conv1D(32, 5, activation='relu',\n",
    "                        input_shape=(None, float_data.shape[-1])))\n",
    "model.add(layers.MaxPooling1D(3))\n",
    "model.add(layers.Conv1D(32, 5, activation='relu'))\n",
    "model.add(layers.MaxPooling1D(3))\n",
    "model.add(layers.Conv1D(32, 5, activation='relu'))\n",
    "model.add(layers.GlobalMaxPooling1D())\n",
    "model.add(layers.Dense(1))\n",
    "\n",
    "model.compile(optimizer=RMSprop(), loss='mae')\n",
    "history = model.fit_generator(train_gen,\n",
    "                              steps_per_epoch=500,\n",
    "                              epochs=20,\n",
    "                              validation_data=val_gen,\n",
    "                              validation_steps=val_steps)\n",
    "\n",
    "plot_acc_and_loss(history)"
   ]
  },
  {
   "cell_type": "markdown",
   "metadata": {},
   "source": [
    "Isso não é tão bom quanto o método de senso comum que usamos. As informações visíveis do pedido ainda são muito críticas para esse problema. Para aprender informações sequenciais enquanto mantemos a velocidade e o peso leve das redes neurais convolucionais, podemos combinar CNN e RNN.\n",
    "\n",
    "Podemos usar Conv1D na frente do RNN. Para sequências muito longas (por exemplo, contendo milhares de etapas de tempo), o uso direto de RNN para processá-lo é muito lento ou mesmo impossível de processar. Adicionar um pouco de Conv1D na frente do RNN pode converter (reduzir a resolução) a sequência de entrada longa em uma sequência mais curta composta de recursos avançados e, em seguida, usar o RNN para processar as informações sensíveis à ordem que podem ser aprendidas.\n",
    "\n",
    "! [Combine CNN e RNN unidimensional para processar sequências longas] (https://tva1.sinaimg.cn/large/007S8ZIlgy1ghmy56fkp4j30ji0ncgni.jpg)\n",
    "\n",
    "Usamos esse método para resolver o problema de previsão de temperatura novamente. Como esse método pode aprender uma sequência mais longa, podemos permitir que a rede visualize os dados anteriores (aumente o parâmetro de lookback do gerador de dados) ou que a rede visualize a resolução Séries temporais mais altas (diminua o parâmetro de etapa do gerador):"
   ]
  },
  {
   "cell_type": "code",
   "execution_count": 7,
   "metadata": {},
   "outputs": [],
   "source": [
    "step = 3  # 30 minutos uma etapa, metade do tempo antes\n",
    "lookback = 720\n",
    "delay = 144\n",
    "\n",
    "train_gen = generator(float_data,\n",
    "                      lookback=lookback,\n",
    "                      delay=delay,\n",
    "                      min_index=0,\n",
    "                      max_index=200000,\n",
    "                      shuffle=True,\n",
    "                      step=step)\n",
    "\n",
    "val_gen = generator(float_data,\n",
    "                    lookback=lookback,\n",
    "                    delay=delay,\n",
    "                    min_index=200001,\n",
    "                    max_index=300000,\n",
    "                    step=step)\n",
    "\n",
    "test_gen = generator(float_data,\n",
    "                     lookback=lookback,\n",
    "                     delay=delay,\n",
    "                     min_index=300001,\n",
    "                     max_index=None,\n",
    "                     step=step)\n",
    "\n",
    "val_steps = (300000 - 200001 - lookback) // 128\n",
    "test_steps = (len(float_data) - 300001 - lookback) // 128"
   ]
  },
  {
   "cell_type": "code",
   "execution_count": 8,
   "metadata": {},
   "outputs": [
    {
     "name": "stdout",
     "output_type": "stream",
     "text": [
      "Model: \"sequential_2\"\n",
      "_________________________________________________________________\n",
      "Layer (type)                 Output Shape              Param #   \n",
      "=================================================================\n",
      "conv1d_5 (Conv1D)            (None, None, 32)          2272      \n",
      "_________________________________________________________________\n",
      "max_pooling1d_3 (MaxPooling1 (None, None, 32)          0         \n",
      "_________________________________________________________________\n",
      "conv1d_6 (Conv1D)            (None, None, 32)          5152      \n",
      "_________________________________________________________________\n",
      "gru (GRU)                    (None, 32)                6336      \n",
      "_________________________________________________________________\n",
      "dense_2 (Dense)              (None, 1)                 33        \n",
      "=================================================================\n",
      "Total params: 13,793\n",
      "Trainable params: 13,793\n",
      "Non-trainable params: 0\n",
      "_________________________________________________________________\n",
      "Epoch 1/20\n",
      "500/500 [==============================] - 49s 97ms/step - loss: 0.3301 - val_loss: 0.3056\n",
      "Epoch 2/20\n",
      "500/500 [==============================] - 47s 95ms/step - loss: 0.2950 - val_loss: 0.2750\n",
      "Epoch 3/20\n",
      "500/500 [==============================] - 46s 91ms/step - loss: 0.2812 - val_loss: 0.2795\n",
      "Epoch 4/20\n",
      "500/500 [==============================] - 47s 94ms/step - loss: 0.2729 - val_loss: 0.2818\n",
      "Epoch 5/20\n",
      "500/500 [==============================] - 47s 94ms/step - loss: 0.2652 - val_loss: 0.2782\n",
      "Epoch 6/20\n",
      "500/500 [==============================] - 50s 99ms/step - loss: 0.2574 - val_loss: 0.2807\n",
      "Epoch 7/20\n",
      "500/500 [==============================] - 49s 98ms/step - loss: 0.2512 - val_loss: 0.2880\n",
      "Epoch 8/20\n",
      "500/500 [==============================] - 48s 97ms/step - loss: 0.2454 - val_loss: 0.2965\n",
      "Epoch 9/20\n",
      "500/500 [==============================] - 48s 97ms/step - loss: 0.2392 - val_loss: 0.2923\n",
      "Epoch 10/20\n",
      "500/500 [==============================] - 49s 97ms/step - loss: 0.2347 - val_loss: 0.3027\n",
      "Epoch 11/20\n",
      "500/500 [==============================] - 49s 98ms/step - loss: 0.2310 - val_loss: 0.2890\n",
      "Epoch 12/20\n",
      "500/500 [==============================] - 52s 103ms/step - loss: 0.2256 - val_loss: 0.2982\n",
      "Epoch 13/20\n",
      "500/500 [==============================] - 50s 99ms/step - loss: 0.2217 - val_loss: 0.3034\n",
      "Epoch 14/20\n",
      "500/500 [==============================] - 51s 103ms/step - loss: 0.2176 - val_loss: 0.3051\n",
      "Epoch 15/20\n",
      "500/500 [==============================] - 52s 103ms/step - loss: 0.2125 - val_loss: 0.3063\n",
      "Epoch 16/20\n",
      "500/500 [==============================] - 51s 103ms/step - loss: 0.2111 - val_loss: 0.3067\n",
      "Epoch 17/20\n",
      "500/500 [==============================] - 54s 108ms/step - loss: 0.2068 - val_loss: 0.3070\n",
      "Epoch 18/20\n",
      "500/500 [==============================] - 52s 105ms/step - loss: 0.2050 - val_loss: 0.3096\n",
      "Epoch 19/20\n",
      "500/500 [==============================] - 53s 106ms/step - loss: 0.2029 - val_loss: 0.3107\n",
      "Epoch 20/20\n",
      "500/500 [==============================] - 53s 106ms/step - loss: 0.2011 - val_loss: 0.3112\n",
      "No acc. Skip\n"
     ]
    },
    {
     "data": {
      "image/png": "[encoded data removed]",
      "text/plain": [
       "<Figure size 432x288 with 1 Axes>"
      ]
     },
     "metadata": {
      "needs_background": "light"
     },
     "output_type": "display_data"
    }
   ],
   "source": [
    "# usar Conv1D + GRU\n",
    "\n",
    "model = Sequential()\n",
    "model.add(layers.Conv1D(32, 5, activation='relu',\n",
    "                        input_shape=(None, float_data.shape[-1])))\n",
    "model.add(layers.MaxPooling1D(3))\n",
    "model.add(layers.Conv1D(32, 5, activation='relu'))\n",
    "model.add(layers.GRU(32, dropout=0.1, recurrent_dropout=0.5))\n",
    "model.add(layers.Dense(1))\n",
    "\n",
    "model.summary()\n",
    "\n",
    "model.compile(optimizer=RMSprop(), loss='mae')\n",
    "history = model.fit_generator(train_gen,\n",
    "                              steps_per_epoch=500,\n",
    "                              epochs=20,\n",
    "                              validation_data=val_gen,\n",
    "                              validation_steps=val_steps)\n",
    "\n",
    "plot_acc_and_loss(history)"
   ]
  },
  {
   "cell_type": "markdown",
   "metadata": {},
   "source": [
    "Do ponto de vista da perda de verificação, o efeito dessa arquitetura não é tão bom quanto apenas usar GRU regularizado, mas a velocidade é muito mais rápida. Ele analisa o dobro da quantidade de dados, o que pode não ser muito útil neste caso, mas pode ser muito importante para outros conjuntos de dados."
   ]
  },
  {
   "cell_type": "markdown",
   "metadata": {},
   "source": [
    "Viu que aqui nós já fomos mais objetivos ne? A ideia é essa mesma, a medida que avançamos as coisas serão mais fluídas. "
   ]
  }
 ],
 "metadata": {
  "kernelspec": {
   "display_name": "Python 3",
   "language": "python",
   "name": "python3"
  },
  "language_info": {
   "codemirror_mode": {
    "name": "ipython",
    "version": 3
   },
   "file_extension": ".py",
   "mimetype": "text/x-python",
   "name": "python",
   "nbconvert_exporter": "python",
   "pygments_lexer": "ipython3",
   "version": "3.7.9"
  }
 },
 "nbformat": 4,
 "nbformat_minor": 4
}
